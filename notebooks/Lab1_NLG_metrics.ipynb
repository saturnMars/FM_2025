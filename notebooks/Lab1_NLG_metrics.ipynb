{
  "cells": [
    {
      "cell_type": "markdown",
      "metadata": {
        "id": "view-in-github",
        "colab_type": "text"
      },
      "source": [
        "<a href=\"https://colab.research.google.com/github/saturnMars/FM_2025/blob/main/Lab1_NLG_metrics.ipynb\" target=\"_parent\"><img src=\"https://colab.research.google.com/assets/colab-badge.svg\" alt=\"Open In Colab\"/></a>"
      ]
    },
    {
      "cell_type": "code",
      "source": [
        "import torch\n",
        "if not torch.cuda.is_available():\n",
        "    print(\"⚠️ GPU not enabled. Go to Runtime → Change runtime type → select 'T4 GPU'\")\n",
        "else:\n",
        "    print(f\"✅ GPU active: {torch.cuda.get_device_name(0)}\")"
      ],
      "metadata": {
        "id": "60WZ6r3_6LPQ",
        "outputId": "dd78be5e-f481-4e88-86e1-9acae657bf12",
        "colab": {
          "base_uri": "https://localhost:8080/"
        }
      },
      "id": "60WZ6r3_6LPQ",
      "execution_count": 90,
      "outputs": [
        {
          "output_type": "stream",
          "name": "stdout",
          "text": [
            "✅ GPU active: Tesla T4\n"
          ]
        }
      ]
    },
    {
      "cell_type": "markdown",
      "id": "e16943dd",
      "metadata": {
        "id": "e16943dd"
      },
      "source": [
        "# Overview metrics for text generation\n",
        "## *Lexical-based similarity* (ngrams-based comparison)\n",
        "1. ROUGE: [Recall-Oriented Understudy for Gisting Evaluation](https://medium.com/nlplanet/two-minutes-nlp-learn-the-rouge-metric-by-examples-f179cc285499)\n",
        "2. BLEU: [BiLingual Evaluation Understudy](https://www.geeksforgeeks.org/nlp-bleu-score-for-evaluating-neural-machine-translation-python/)"
      ]
    },
    {
      "cell_type": "code",
      "execution_count": 91,
      "id": "cec25c84",
      "metadata": {
        "id": "cec25c84"
      },
      "outputs": [],
      "source": [
        "reference = [\"The sun set behind the hills\"]\n",
        "candidate = [\"The moon set behind the hills\"]"
      ]
    },
    {
      "cell_type": "code",
      "source": [
        "!pip install evaluate rouge_score bert_score"
      ],
      "metadata": {
        "id": "Uwg-9PKj39bh",
        "outputId": "59bb784a-03c7-42ef-ac49-6f9413d68e93",
        "colab": {
          "base_uri": "https://localhost:8080/"
        }
      },
      "id": "Uwg-9PKj39bh",
      "execution_count": 92,
      "outputs": [
        {
          "output_type": "stream",
          "name": "stdout",
          "text": [
            "Requirement already satisfied: evaluate in /usr/local/lib/python3.12/dist-packages (0.4.6)\n",
            "Requirement already satisfied: rouge_score in /usr/local/lib/python3.12/dist-packages (0.1.2)\n",
            "Requirement already satisfied: bert_score in /usr/local/lib/python3.12/dist-packages (0.3.13)\n",
            "Requirement already satisfied: datasets>=2.0.0 in /usr/local/lib/python3.12/dist-packages (from evaluate) (4.0.0)\n",
            "Requirement already satisfied: numpy>=1.17 in /usr/local/lib/python3.12/dist-packages (from evaluate) (2.0.2)\n",
            "Requirement already satisfied: dill in /usr/local/lib/python3.12/dist-packages (from evaluate) (0.3.8)\n",
            "Requirement already satisfied: pandas in /usr/local/lib/python3.12/dist-packages (from evaluate) (2.2.2)\n",
            "Requirement already satisfied: requests>=2.19.0 in /usr/local/lib/python3.12/dist-packages (from evaluate) (2.32.4)\n",
            "Requirement already satisfied: tqdm>=4.62.1 in /usr/local/lib/python3.12/dist-packages (from evaluate) (4.67.1)\n",
            "Requirement already satisfied: xxhash in /usr/local/lib/python3.12/dist-packages (from evaluate) (3.5.0)\n",
            "Requirement already satisfied: multiprocess in /usr/local/lib/python3.12/dist-packages (from evaluate) (0.70.16)\n",
            "Requirement already satisfied: fsspec>=2021.05.0 in /usr/local/lib/python3.12/dist-packages (from fsspec[http]>=2021.05.0->evaluate) (2025.3.0)\n",
            "Requirement already satisfied: huggingface-hub>=0.7.0 in /usr/local/lib/python3.12/dist-packages (from evaluate) (0.35.3)\n",
            "Requirement already satisfied: packaging in /usr/local/lib/python3.12/dist-packages (from evaluate) (25.0)\n",
            "Requirement already satisfied: absl-py in /usr/local/lib/python3.12/dist-packages (from rouge_score) (1.4.0)\n",
            "Requirement already satisfied: nltk in /usr/local/lib/python3.12/dist-packages (from rouge_score) (3.9.1)\n",
            "Requirement already satisfied: six>=1.14.0 in /usr/local/lib/python3.12/dist-packages (from rouge_score) (1.17.0)\n",
            "Requirement already satisfied: torch>=1.0.0 in /usr/local/lib/python3.12/dist-packages (from bert_score) (2.8.0+cu126)\n",
            "Requirement already satisfied: transformers>=3.0.0 in /usr/local/lib/python3.12/dist-packages (from bert_score) (4.56.2)\n",
            "Requirement already satisfied: matplotlib in /usr/local/lib/python3.12/dist-packages (from bert_score) (3.10.0)\n",
            "Requirement already satisfied: filelock in /usr/local/lib/python3.12/dist-packages (from datasets>=2.0.0->evaluate) (3.19.1)\n",
            "Requirement already satisfied: pyarrow>=15.0.0 in /usr/local/lib/python3.12/dist-packages (from datasets>=2.0.0->evaluate) (18.1.0)\n",
            "Requirement already satisfied: pyyaml>=5.1 in /usr/local/lib/python3.12/dist-packages (from datasets>=2.0.0->evaluate) (6.0.3)\n",
            "Requirement already satisfied: aiohttp!=4.0.0a0,!=4.0.0a1 in /usr/local/lib/python3.12/dist-packages (from fsspec[http]>=2021.05.0->evaluate) (3.12.15)\n",
            "Requirement already satisfied: typing-extensions>=3.7.4.3 in /usr/local/lib/python3.12/dist-packages (from huggingface-hub>=0.7.0->evaluate) (4.15.0)\n",
            "Requirement already satisfied: hf-xet<2.0.0,>=1.1.3 in /usr/local/lib/python3.12/dist-packages (from huggingface-hub>=0.7.0->evaluate) (1.1.10)\n",
            "Requirement already satisfied: python-dateutil>=2.8.2 in /usr/local/lib/python3.12/dist-packages (from pandas->evaluate) (2.9.0.post0)\n",
            "Requirement already satisfied: pytz>=2020.1 in /usr/local/lib/python3.12/dist-packages (from pandas->evaluate) (2025.2)\n",
            "Requirement already satisfied: tzdata>=2022.7 in /usr/local/lib/python3.12/dist-packages (from pandas->evaluate) (2025.2)\n",
            "Requirement already satisfied: charset_normalizer<4,>=2 in /usr/local/lib/python3.12/dist-packages (from requests>=2.19.0->evaluate) (3.4.3)\n",
            "Requirement already satisfied: idna<4,>=2.5 in /usr/local/lib/python3.12/dist-packages (from requests>=2.19.0->evaluate) (3.10)\n",
            "Requirement already satisfied: urllib3<3,>=1.21.1 in /usr/local/lib/python3.12/dist-packages (from requests>=2.19.0->evaluate) (2.5.0)\n",
            "Requirement already satisfied: certifi>=2017.4.17 in /usr/local/lib/python3.12/dist-packages (from requests>=2.19.0->evaluate) (2025.8.3)\n",
            "Requirement already satisfied: setuptools in /usr/local/lib/python3.12/dist-packages (from torch>=1.0.0->bert_score) (75.2.0)\n",
            "Requirement already satisfied: sympy>=1.13.3 in /usr/local/lib/python3.12/dist-packages (from torch>=1.0.0->bert_score) (1.13.3)\n",
            "Requirement already satisfied: networkx in /usr/local/lib/python3.12/dist-packages (from torch>=1.0.0->bert_score) (3.5)\n",
            "Requirement already satisfied: jinja2 in /usr/local/lib/python3.12/dist-packages (from torch>=1.0.0->bert_score) (3.1.6)\n",
            "Requirement already satisfied: nvidia-cuda-nvrtc-cu12==12.6.77 in /usr/local/lib/python3.12/dist-packages (from torch>=1.0.0->bert_score) (12.6.77)\n",
            "Requirement already satisfied: nvidia-cuda-runtime-cu12==12.6.77 in /usr/local/lib/python3.12/dist-packages (from torch>=1.0.0->bert_score) (12.6.77)\n",
            "Requirement already satisfied: nvidia-cuda-cupti-cu12==12.6.80 in /usr/local/lib/python3.12/dist-packages (from torch>=1.0.0->bert_score) (12.6.80)\n",
            "Requirement already satisfied: nvidia-cudnn-cu12==9.10.2.21 in /usr/local/lib/python3.12/dist-packages (from torch>=1.0.0->bert_score) (9.10.2.21)\n",
            "Requirement already satisfied: nvidia-cublas-cu12==12.6.4.1 in /usr/local/lib/python3.12/dist-packages (from torch>=1.0.0->bert_score) (12.6.4.1)\n",
            "Requirement already satisfied: nvidia-cufft-cu12==11.3.0.4 in /usr/local/lib/python3.12/dist-packages (from torch>=1.0.0->bert_score) (11.3.0.4)\n",
            "Requirement already satisfied: nvidia-curand-cu12==10.3.7.77 in /usr/local/lib/python3.12/dist-packages (from torch>=1.0.0->bert_score) (10.3.7.77)\n",
            "Requirement already satisfied: nvidia-cusolver-cu12==11.7.1.2 in /usr/local/lib/python3.12/dist-packages (from torch>=1.0.0->bert_score) (11.7.1.2)\n",
            "Requirement already satisfied: nvidia-cusparse-cu12==12.5.4.2 in /usr/local/lib/python3.12/dist-packages (from torch>=1.0.0->bert_score) (12.5.4.2)\n",
            "Requirement already satisfied: nvidia-cusparselt-cu12==0.7.1 in /usr/local/lib/python3.12/dist-packages (from torch>=1.0.0->bert_score) (0.7.1)\n",
            "Requirement already satisfied: nvidia-nccl-cu12==2.27.3 in /usr/local/lib/python3.12/dist-packages (from torch>=1.0.0->bert_score) (2.27.3)\n",
            "Requirement already satisfied: nvidia-nvtx-cu12==12.6.77 in /usr/local/lib/python3.12/dist-packages (from torch>=1.0.0->bert_score) (12.6.77)\n",
            "Requirement already satisfied: nvidia-nvjitlink-cu12==12.6.85 in /usr/local/lib/python3.12/dist-packages (from torch>=1.0.0->bert_score) (12.6.85)\n",
            "Requirement already satisfied: nvidia-cufile-cu12==1.11.1.6 in /usr/local/lib/python3.12/dist-packages (from torch>=1.0.0->bert_score) (1.11.1.6)\n",
            "Requirement already satisfied: triton==3.4.0 in /usr/local/lib/python3.12/dist-packages (from torch>=1.0.0->bert_score) (3.4.0)\n",
            "Requirement already satisfied: regex!=2019.12.17 in /usr/local/lib/python3.12/dist-packages (from transformers>=3.0.0->bert_score) (2024.11.6)\n",
            "Requirement already satisfied: tokenizers<=0.23.0,>=0.22.0 in /usr/local/lib/python3.12/dist-packages (from transformers>=3.0.0->bert_score) (0.22.1)\n",
            "Requirement already satisfied: safetensors>=0.4.3 in /usr/local/lib/python3.12/dist-packages (from transformers>=3.0.0->bert_score) (0.6.2)\n",
            "Requirement already satisfied: contourpy>=1.0.1 in /usr/local/lib/python3.12/dist-packages (from matplotlib->bert_score) (1.3.3)\n",
            "Requirement already satisfied: cycler>=0.10 in /usr/local/lib/python3.12/dist-packages (from matplotlib->bert_score) (0.12.1)\n",
            "Requirement already satisfied: fonttools>=4.22.0 in /usr/local/lib/python3.12/dist-packages (from matplotlib->bert_score) (4.60.1)\n",
            "Requirement already satisfied: kiwisolver>=1.3.1 in /usr/local/lib/python3.12/dist-packages (from matplotlib->bert_score) (1.4.9)\n",
            "Requirement already satisfied: pillow>=8 in /usr/local/lib/python3.12/dist-packages (from matplotlib->bert_score) (11.3.0)\n",
            "Requirement already satisfied: pyparsing>=2.3.1 in /usr/local/lib/python3.12/dist-packages (from matplotlib->bert_score) (3.2.5)\n",
            "Requirement already satisfied: click in /usr/local/lib/python3.12/dist-packages (from nltk->rouge_score) (8.3.0)\n",
            "Requirement already satisfied: joblib in /usr/local/lib/python3.12/dist-packages (from nltk->rouge_score) (1.5.2)\n",
            "Requirement already satisfied: aiohappyeyeballs>=2.5.0 in /usr/local/lib/python3.12/dist-packages (from aiohttp!=4.0.0a0,!=4.0.0a1->fsspec[http]>=2021.05.0->evaluate) (2.6.1)\n",
            "Requirement already satisfied: aiosignal>=1.4.0 in /usr/local/lib/python3.12/dist-packages (from aiohttp!=4.0.0a0,!=4.0.0a1->fsspec[http]>=2021.05.0->evaluate) (1.4.0)\n",
            "Requirement already satisfied: attrs>=17.3.0 in /usr/local/lib/python3.12/dist-packages (from aiohttp!=4.0.0a0,!=4.0.0a1->fsspec[http]>=2021.05.0->evaluate) (25.3.0)\n",
            "Requirement already satisfied: frozenlist>=1.1.1 in /usr/local/lib/python3.12/dist-packages (from aiohttp!=4.0.0a0,!=4.0.0a1->fsspec[http]>=2021.05.0->evaluate) (1.7.0)\n",
            "Requirement already satisfied: multidict<7.0,>=4.5 in /usr/local/lib/python3.12/dist-packages (from aiohttp!=4.0.0a0,!=4.0.0a1->fsspec[http]>=2021.05.0->evaluate) (6.6.4)\n",
            "Requirement already satisfied: propcache>=0.2.0 in /usr/local/lib/python3.12/dist-packages (from aiohttp!=4.0.0a0,!=4.0.0a1->fsspec[http]>=2021.05.0->evaluate) (0.3.2)\n",
            "Requirement already satisfied: yarl<2.0,>=1.17.0 in /usr/local/lib/python3.12/dist-packages (from aiohttp!=4.0.0a0,!=4.0.0a1->fsspec[http]>=2021.05.0->evaluate) (1.20.1)\n",
            "Requirement already satisfied: mpmath<1.4,>=1.1.0 in /usr/local/lib/python3.12/dist-packages (from sympy>=1.13.3->torch>=1.0.0->bert_score) (1.3.0)\n",
            "Requirement already satisfied: MarkupSafe>=2.0 in /usr/local/lib/python3.12/dist-packages (from jinja2->torch>=1.0.0->bert_score) (3.0.3)\n"
          ]
        }
      ]
    },
    {
      "cell_type": "code",
      "execution_count": 93,
      "id": "d7ef3d06",
      "metadata": {
        "id": "d7ef3d06"
      },
      "outputs": [],
      "source": [
        "import evaluate"
      ]
    },
    {
      "cell_type": "markdown",
      "id": "a55a2423",
      "metadata": {
        "id": "a55a2423"
      },
      "source": [
        "### ROUGE: [Recall-Oriented Understudy for Gisting Evaluation](https://medium.com/nlplanet/two-minutes-nlp-learn-the-rouge-metric-by-examples-f179cc285499)"
      ]
    },
    {
      "cell_type": "code",
      "execution_count": 94,
      "id": "9e538935",
      "metadata": {
        "id": "9e538935",
        "outputId": "46b23d03-f206-4b3d-a6a6-e27cf876f240",
        "colab": {
          "base_uri": "https://localhost:8080/"
        }
      },
      "outputs": [
        {
          "output_type": "stream",
          "name": "stdout",
          "text": [
            "\"The sun set behind the hills\" <<-->> \"The moon set behind the hills\"\n",
            "--> ROUGE-1 (unigrams) --> F1 Score: 0.83\n",
            "--> ROUGE-2 (bigrams)  --> F1 Score: 0.60\n",
            "--> ROUGE-L (longest common subsequence) --> F1 Score: 0.83\n"
          ]
        }
      ],
      "source": [
        "rouge_metric = evaluate.load(\"rouge\")\n",
        "\n",
        "# ROUGE expects plain text inputs\n",
        "rouge_results = rouge_metric.compute(predictions=candidate, references=reference)\n",
        "\n",
        "# Access ROUGE scores (no need for indexing into the result)\n",
        "print(f'\"{reference[0]}\" <<-->> \"{candidate[0]}\"')\n",
        "print(f\"--> ROUGE-1 (unigrams) --> F1 Score: {rouge_results['rouge1']:.2f}\")\n",
        "print(f\"--> ROUGE-2 (bigrams)  --> F1 Score: {rouge_results['rouge2']:.2f}\")\n",
        "print(f\"--> ROUGE-L (longest common subsequence) --> F1 Score: {rouge_results['rougeL']:.2f}\")"
      ]
    },
    {
      "cell_type": "markdown",
      "id": "d019927e",
      "metadata": {
        "id": "d019927e"
      },
      "source": [
        "### BLEU: [BiLingual Evaluation Understudy](https://www.geeksforgeeks.org/nlp-bleu-score-for-evaluating-neural-machine-translation-python/)"
      ]
    },
    {
      "cell_type": "code",
      "execution_count": 95,
      "id": "0ca8e5ac",
      "metadata": {
        "id": "0ca8e5ac",
        "outputId": "b78abfdc-ff92-4c6b-c6b4-1c7ec3d90e64",
        "colab": {
          "base_uri": "https://localhost:8080/"
        }
      },
      "outputs": [
        {
          "output_type": "stream",
          "name": "stdout",
          "text": [
            "\"The sun set behind the hills\" <<-->> \"The moon set behind the hills\"\n",
            "--> BLEU Score: 53.73\n"
          ]
        }
      ],
      "source": [
        "bleu_metric = evaluate.load(\"bleu\")\n",
        "\n",
        "# BLEU expects plain text inputs\n",
        "bleu_results = bleu_metric.compute(predictions=candidate, references=reference)\n",
        "print(f'\"{reference[0]}\" <<-->> \"{candidate[0]}\"')\n",
        "print(f\"--> BLEU Score: {bleu_results['bleu'] * 100:.2f}\")"
      ]
    },
    {
      "cell_type": "markdown",
      "id": "e00fe83b",
      "metadata": {
        "id": "e00fe83b"
      },
      "source": [
        "## Semantic-based similarity (embedding-based comparison)\n",
        "1. [Cosine similarity](https://spencerporter2.medium.com/understanding-cosine-similarity-and-word-embeddings-dbf19362a3c)\n",
        "2. [BertSCORE](https://medium.com/@abonia/bertscore-explained-in-5-minutes-0b98553bfb71)\n"
      ]
    },
    {
      "cell_type": "markdown",
      "id": "884166fd",
      "metadata": {
        "id": "884166fd"
      },
      "source": [
        "### Cosine similarity"
      ]
    },
    {
      "cell_type": "code",
      "execution_count": 96,
      "id": "7c097bbd",
      "metadata": {
        "id": "7c097bbd"
      },
      "outputs": [],
      "source": [
        "from sentence_transformers import SentenceTransformer"
      ]
    },
    {
      "cell_type": "code",
      "execution_count": 97,
      "id": "edea872f",
      "metadata": {
        "id": "edea872f"
      },
      "outputs": [],
      "source": [
        "embedding_model = SentenceTransformer(\"all-MiniLM-L6-v2\")"
      ]
    },
    {
      "cell_type": "code",
      "execution_count": 98,
      "id": "58249acf",
      "metadata": {
        "id": "58249acf",
        "outputId": "6f832991-9c13-4db1-b994-da994c699a6d",
        "colab": {
          "base_uri": "https://localhost:8080/"
        }
      },
      "outputs": [
        {
          "output_type": "stream",
          "name": "stdout",
          "text": [
            "\"The sun set behind the hills\" <<-->> \"The moon set behind the hills\"\n",
            "--> Cosine Similarity: 0.71\n"
          ]
        }
      ],
      "source": [
        "referece_embedding = embedding_model.encode(reference)\n",
        "candidate_embedding = embedding_model.encode(candidate)\n",
        "\n",
        "similarity = embedding_model.similarity(referece_embedding, candidate_embedding)\n",
        "print(f'\"{reference[0]}\" <<-->> \"{candidate[0]}\"')\n",
        "print(f\"--> Cosine Similarity: {similarity[0][0]:.2f}\")"
      ]
    },
    {
      "cell_type": "markdown",
      "id": "0fe60319",
      "metadata": {
        "id": "0fe60319"
      },
      "source": [
        "### BertSCORE"
      ]
    },
    {
      "cell_type": "code",
      "execution_count": 99,
      "id": "5b327ebd",
      "metadata": {
        "id": "5b327ebd",
        "outputId": "7f3c7f9b-fb6b-43bd-89e9-acdca08d63b8",
        "colab": {
          "base_uri": "https://localhost:8080/"
        }
      },
      "outputs": [
        {
          "output_type": "stream",
          "name": "stdout",
          "text": [
            "\"The sun set behind the hills\" <<-->> \"The moon set behind the hills\"\n",
            "--> BERTScore (F1): 0.92\n"
          ]
        }
      ],
      "source": [
        "bertscore = evaluate.load(\"bertscore\")\n",
        "\n",
        "# BERTScore\n",
        "bert_result = bertscore.compute(predictions=candidate, references=reference, model_type=\"bert-base-uncased\")\n",
        "print(f'\"{reference[0]}\" <<-->> \"{candidate[0]}\"')\n",
        "print(f\"--> BERTScore (F1): {bert_result['f1'][0]:.2f}\")"
      ]
    },
    {
      "cell_type": "markdown",
      "id": "ecd948b9",
      "metadata": {
        "id": "ecd948b9"
      },
      "source": [
        "#### Information retrival based on cosine similarity"
      ]
    },
    {
      "cell_type": "code",
      "execution_count": 100,
      "id": "6d4d5ebb",
      "metadata": {
        "id": "6d4d5ebb"
      },
      "outputs": [],
      "source": [
        "query = \"How many people live in London?\""
      ]
    },
    {
      "cell_type": "code",
      "execution_count": 101,
      "id": "94ed1219",
      "metadata": {
        "id": "94ed1219"
      },
      "outputs": [],
      "source": [
        "docs = [\n",
        "    \"London is known for its financial district\",\n",
        "    \"London has 9,787,426 inhabitants at the 2011 census\",\n",
        "    \"The United Kingdom is the fourth largest exporter of goods in the world\",\n",
        "]"
      ]
    },
    {
      "cell_type": "code",
      "execution_count": 102,
      "id": "1cc2f4ce",
      "metadata": {
        "id": "1cc2f4ce",
        "outputId": "c5e55258-7e9c-447c-d9f2-0526ab3a2055",
        "colab": {
          "base_uri": "https://localhost:8080/"
        }
      },
      "outputs": [
        {
          "output_type": "stream",
          "name": "stdout",
          "text": [
            "[Score: 0.75] London has 9,787,426 inhabitants at the 2011 census\n",
            "[Score: 0.46] London is known for its financial district\n",
            "[Score: 0.26] The United Kingdom is the fourth largest exporter of goods in the world\n"
          ]
        }
      ],
      "source": [
        "query_embedding = embedding_model.encode(query)\n",
        "doc_embeddings = embedding_model.encode(docs)\n",
        "\n",
        "# Compute cosine similarities\n",
        "similarities = embedding_model.similarity(query_embedding, doc_embeddings).squeeze()\n",
        "similarities = dict(sorted(zip(docs, similarities), key=lambda x: x[1], reverse=True))\n",
        "\n",
        "for doc, score in similarities.items():\n",
        "    print(f\"[Score: {score.item():.2f}] {doc}\")"
      ]
    },
    {
      "cell_type": "markdown",
      "id": "a74cac2c",
      "metadata": {
        "id": "a74cac2c"
      },
      "source": [
        "# Real-world use cases with pre-trained LLMs\n",
        "1. Machine Translation (MT)\n",
        "2. Retrieval-Augmented Generation (RAG)\n",
        "3. Question-answering (QA)"
      ]
    },
    {
      "cell_type": "markdown",
      "id": "cf310631",
      "metadata": {
        "id": "cf310631"
      },
      "source": [
        "### Load the pre-trained LLM\n",
        "* allenai/OLMo-2-0425-1B-Instruct\n",
        "* microsoft/Phi-4-mini-instruct\n",
        "* Qwen/Qwen3-4B-Instruct-2507\n",
        "* HuggingFaceTB/SmolLM3-3B"
      ]
    },
    {
      "cell_type": "code",
      "execution_count": 103,
      "id": "cf94a1b2",
      "metadata": {
        "id": "cf94a1b2"
      },
      "outputs": [],
      "source": [
        "model_name = \"allenai/OLMo-2-0425-1B-Instruct\""
      ]
    },
    {
      "cell_type": "markdown",
      "id": "1e8df6dc",
      "metadata": {
        "id": "1e8df6dc"
      },
      "source": [
        "#### Load the LLM using the pipeline function (a high-level helper)"
      ]
    },
    {
      "cell_type": "code",
      "execution_count": 104,
      "id": "d29e8150",
      "metadata": {
        "id": "d29e8150",
        "outputId": "81eb3d46-57ed-4ac4-9ecb-ce74a58f23f0",
        "colab": {
          "base_uri": "https://localhost:8080/"
        }
      },
      "outputs": [
        {
          "output_type": "stream",
          "name": "stderr",
          "text": [
            "Device set to use cuda:0\n"
          ]
        }
      ],
      "source": [
        "from transformers import pipeline\n",
        "pipe = pipeline(task = \"text-generation\", model = model_name)"
      ]
    },
    {
      "cell_type": "markdown",
      "id": "28ad89b8",
      "metadata": {
        "id": "28ad89b8"
      },
      "source": [
        "### (1) Machine Translation"
      ]
    },
    {
      "cell_type": "code",
      "execution_count": 105,
      "id": "7132adba",
      "metadata": {
        "id": "7132adba"
      },
      "outputs": [],
      "source": [
        "mt_task = \"You are a professional translator. Your task is to translate the following text into Italian. Provide only the translation, without explanations or additional commentary.\\nTEXT:\""
      ]
    },
    {
      "cell_type": "code",
      "execution_count": 106,
      "id": "871fd20e",
      "metadata": {
        "id": "871fd20e",
        "outputId": "261fd0f2-748c-4cf8-ff7c-50936b96b904",
        "colab": {
          "base_uri": "https://localhost:8080/"
        }
      },
      "outputs": [
        {
          "output_type": "stream",
          "name": "stdout",
          "text": [
            "Input: \"Life is full of surprises.\"\n",
            "LLM output: \"Vita è piena di sorpresa.\"\n",
            "\n",
            "Input: \"They played soccer last weekend.\"\n",
            "LLM output: \"Entrono a calcio la settimana precedente.\"\n",
            "\n",
            "Input: \"We are going to the park later.\"\n",
            "LLM output: \"Verremo il parco dopo.\"\n",
            "\n"
          ]
        }
      ],
      "source": [
        "mt_docs = ['Life is full of surprises.', 'They played soccer last weekend.', 'We are going to the park later.']\n",
        "\n",
        "outputs = []\n",
        "for doc in mt_docs:\n",
        "\n",
        "    # Create the prompt by combining the task description with the document\n",
        "    prompt = f\"{mt_task} {doc}\\nTRANSLATION: \"\n",
        "\n",
        "    # Generate the output using the pipeline\n",
        "    result = pipe([prompt], return_full_text = False)\n",
        "    generated_text = result[0][0]['generated_text']\n",
        "\n",
        "    # Clean up the output by removing whitespaces and newlines\n",
        "    generated_text = generated_text.split(\"\\n\")[0].strip()\n",
        "    print(f'Input: \"{doc}\"\\nLLM output: \"{generated_text}\"\\n')\n",
        "\n",
        "    # Store the generated output\n",
        "    outputs.append(generated_text)"
      ]
    },
    {
      "cell_type": "markdown",
      "id": "a4ad8a78",
      "metadata": {
        "id": "a4ad8a78"
      },
      "source": [
        "#### Evaluate the outputs using the aforementioned metrics"
      ]
    },
    {
      "cell_type": "code",
      "execution_count": 107,
      "id": "430228df",
      "metadata": {
        "id": "430228df",
        "outputId": "1c8e2ffc-012f-42ab-c964-f1b13b7fed48",
        "colab": {
          "base_uri": "https://localhost:8080/"
        }
      },
      "outputs": [
        {
          "output_type": "stream",
          "name": "stdout",
          "text": [
            "\n",
            "LLM OUTPUT: \"Vita è piena di sorpresa.\" <<-->> TARGET: \"La vita è piena di sorprese.\"\n",
            "--> BLEU Score: 0.00\n",
            "--> BERTScore (F1): 0.94\n",
            "--> Cosine Similarity: 0.96\n",
            "\n",
            "LLM OUTPUT: \"Entrono a calcio la settimana precedente.\" <<-->> TARGET: \"Hanno giocato a calcio lo scorso fine settimana.\"\n",
            "--> BLEU Score: 0.00\n",
            "--> BERTScore (F1): 0.75\n",
            "--> Cosine Similarity: 0.68\n",
            "\n",
            "LLM OUTPUT: \"Verremo il parco dopo.\" <<-->> TARGET: \"Andremo al parco più tardi.\"\n",
            "--> BLEU Score: 0.00\n",
            "--> BERTScore (F1): 0.78\n",
            "--> Cosine Similarity: 0.50\n"
          ]
        }
      ],
      "source": [
        "mt_targets = [\"La vita è piena di sorprese.\", \"Hanno giocato a calcio lo scorso fine settimana.\", \"Andremo al parco più tardi.\"]\n",
        "stats = {}\n",
        "for output, target in zip(outputs, mt_targets):\n",
        "\n",
        "    print(f'\\nLLM OUTPUT: \"{output}\" <<-->> TARGET: \"{target}\"')\n",
        "\n",
        "    # Lexical metrics (ngram-based)\n",
        "    bleu_results = bleu_metric.compute(predictions=[output], references=[target])\n",
        "    print(f\"--> BLEU Score: {bleu_results['bleu']:.2f}\")\n",
        "\n",
        "    # Semantic metrics (embedding-based)\n",
        "    bert_result = bertscore.compute(predictions=[output], references=[target], model_type=\"bert-base-uncased\")\n",
        "    print(f\"--> BERTScore (F1): {bert_result['f1'][0]:.2f}\")\n",
        "\n",
        "    cosine_similarity = embedding_model.similarity(embedding_model.encode(target), embedding_model.encode(output)).squeeze()\n",
        "    print(f\"--> Cosine Similarity: {cosine_similarity:.2f}\")\n",
        "\n",
        "    stats[target] = {'blue': bleu_results['bleu'], 'bertscore': bert_result['f1'][0], 'cosine': cosine_similarity}\n",
        ""
      ]
    },
    {
      "cell_type": "markdown",
      "id": "b5f91f0f",
      "metadata": {
        "id": "b5f91f0f"
      },
      "source": [
        "### (2) Retrieval-Augmented Generation (RAG)\n",
        "Using the [Stanford Question Answering Dataset](https://rajpurkar.github.io/SQuAD-explorer/) (SQuAD). It evaluates extractive question answering:\n",
        "* questions are generated by crowdworkers over Wikipedia articles;\n",
        "* each answer is a text span within the input context."
      ]
    },
    {
      "cell_type": "code",
      "execution_count": 108,
      "id": "c6ac5143",
      "metadata": {
        "id": "c6ac5143"
      },
      "outputs": [],
      "source": [
        "squad_docs = [\n",
        "    {\n",
        "        \"question\": \"How do asset prices generally move in relation to interest rates?\",\n",
        "        \"answer\": \"inversely\",\n",
        "        \"context\": \"The Fed then raised the Fed funds rate significantly between July 2004 and July 2006. This contributed to an increase in 1-year and 5-year adjustable-rate mortgage (ARM) rates, making ARM interest rate resets more expensive for homeowners. This may have also contributed to the deflating of the housing bubble, as asset prices generally move inversely to interest rates, and it became riskier to speculate in housing. U.S. housing and financial assets dramatically declined in value after the housing bubble burst.\"\n",
        "    },{\n",
        "        \"question\": \"How can climate changes be determined from soil?\",\n",
        "        \"answer\": \"fossil pollen deposits in sediments\",\n",
        "        \"context\": \"Plant responses to climate and other environmental changes can inform our understanding of how these changes affect ecosystem function and productivity. For example, plant phenology can be a useful proxy for temperature in historical climatology, and the biological impact of climate change and global warming. Palynology, the analysis of fossil pollen deposits in sediments from thousands or millions of years ago allows the reconstruction of past climates. Estimates of atmospheric CO2 concentrations since the Palaeozoic have been obtained from stomatal densities and the leaf shapes and sizes of ancient land plants. Ozone depletion can expose plants to higher levels of ultraviolet radiation-B (UV-B), resulting in lower growth rates. Moreover, information from studies of community ecology, plant systematics, and taxonomy is essential to understanding vegetation change, habitat destruction and species extinction.\",\n",
        "    },{\n",
        "        \"question\": \"In what year did Miami's government declare bankruptcy?\",\n",
        "        \"answer\": \"2001\",\n",
        "        \"context\": \"According to the U.S. Census Bureau, in 2004, Miami had the third highest incidence of family incomes below the federal poverty line in the United States, making it the third poorest city in the USA, behind only Detroit, Michigan (ranked #1) and El Paso, Texas (ranked #2). Miami is also one of the very few cities where its local government went bankrupt, in 2001. However, since that time, Miami has experienced a revival: in 2008, Miami was ranked as \\\"America's Cleanest City\\\" according to Forbes for its year-round good air quality, vast green spaces, clean drinking water, clean streets and city-wide recycling programs. In a 2009 UBS study of 73 world cities, Miami was ranked as the richest city in the United States (of four U.S. cities included in the survey) and the world's fifth-richest city, in terms of purchasing power.\",\n",
        "    },{\n",
        "        \"question\": \"Which English philosopher wrote Leviathan in 1651?\",\n",
        "        \"answer\": \"Thomas Hobbes\",\n",
        "        \"context\": \"John Locke, one of the most influential Enlightenment thinkers, based his governance philosophy in social contract theory, a subject that permeated Enlightenment political thought. The English philosopher Thomas Hobbes ushered in this new debate with his work Leviathan in 1651. Hobbes also developed some of the fundamentals of European liberal thought: the right of the individual; the natural equality of all men; the artificial character of the political order (which led to the later distinction between civil society and the state); the view that all legitimate political power must be \\\"representative\\\" and based on the consent of the people; and a liberal interpretation of law which leaves people free to do whatever the law does not explicitly forbid.\",\n",
        "    },\n",
        "]"
      ]
    },
    {
      "cell_type": "code",
      "execution_count": 109,
      "id": "911f7039",
      "metadata": {
        "id": "911f7039",
        "outputId": "528505fd-ae9a-43f4-a0ed-968b04b55ae8",
        "colab": {
          "base_uri": "https://localhost:8080/"
        }
      },
      "outputs": [
        {
          "output_type": "stream",
          "name": "stdout",
          "text": [
            "QUESTION: \"How do asset prices generally move in relation to interest rates?\"\n",
            "LLM OUTPUT: \"asset prices generally move inversely to interest rates\"\n",
            "\n",
            "QUESTION: \"How can climate changes be determined from soil?\"\n",
            "LLM OUTPUT: \"Plant responses to climate and other environmental changes can inform our understanding of how these changes affect ecosystem function and productivity. For example, plant phenology can be a useful proxy for temperature in historical climatology, and the biological impact of climate change and global warming. Palynology, the analysis of fossil pollen deposits in sediments from thousands or millions of years ago allows the reconstruction of past climates. Estimates of atmospheric CO2 concentrations since the Palaeozoic have been obtained from stomatal densities and the leaf shapes and sizes of ancient land plants. Ozone depletion can expose plants to higher levels of ultraviolet radiation-B (UV-B), resulting in lower growth rates. Moreover, information from studies of community ecology, plant systematics, and taxonomy is essential to understanding vegetation change, habitat destruction and species extinction.\"\n",
            "\n",
            "QUESTION: \"In what year did Miami's government declare bankruptcy?\"\n",
            "LLM OUTPUT: \"2001\"\n",
            "\n",
            "QUESTION: \"Which English philosopher wrote Leviathan in 1651?\"\n",
            "LLM OUTPUT: \"Thomas Hobbes\"\n",
            "\n"
          ]
        }
      ],
      "source": [
        "task = \"Answer the question based on the context provided. Extract the text span from the context.\"\n",
        "\n",
        "outputs = []\n",
        "for doc in squad_docs:\n",
        "\n",
        "    # Create the prompt by combining the task description with the document\n",
        "    prompt = f\"{task}\\nQUESTION: {doc['question']}\\nCONTEXT: {doc['context']}\\nANSWER:\"\n",
        "\n",
        "    # Generate the output using the pipeline\n",
        "    result = pipe([prompt], return_full_text = False)\n",
        "    generated_text = result[0][0]['generated_text']\n",
        "\n",
        "    # Clean up the output by removing whitespaces and newlines\n",
        "    generated_text = generated_text.split(\"\\n\")[0].strip()\n",
        "    print(f'QUESTION: \"{doc[\"question\"]}\"\\nLLM OUTPUT: \"{generated_text}\"\\n')\n",
        "\n",
        "    # Store the generated output\n",
        "    outputs.append(generated_text)"
      ]
    },
    {
      "cell_type": "code",
      "execution_count": 110,
      "id": "59746771",
      "metadata": {
        "id": "59746771",
        "outputId": "627b96d0-9ada-4674-b21b-f727d45cfbbe",
        "colab": {
          "base_uri": "https://localhost:8080/"
        }
      },
      "outputs": [
        {
          "output_type": "stream",
          "name": "stdout",
          "text": [
            "\n",
            "LLM OUTPUT: \"asset prices generally move inversely to interest rates\" <<-->> TARGET: \"inversely\"\n",
            "--> BLEU Score: 0.00\n",
            "--> Exact Match (EM): False\n",
            "--> Is mentioned: True\n",
            "--> BERTScore (F1): 0.52\n",
            "--> Cosine Similarity: 0.37\n",
            "\n",
            "LLM OUTPUT: \"Plant responses to climate and other environmental changes can inform our understanding of how these changes affect ecosystem function and productivity. For example, plant phenology can be a useful proxy for temperature in historical climatology, and the biological impact of climate change and global warming. Palynology, the analysis of fossil pollen deposits in sediments from thousands or millions of years ago allows the reconstruction of past climates. Estimates of atmospheric CO2 concentrations since the Palaeozoic have been obtained from stomatal densities and the leaf shapes and sizes of ancient land plants. Ozone depletion can expose plants to higher levels of ultraviolet radiation-B (UV-B), resulting in lower growth rates. Moreover, information from studies of community ecology, plant systematics, and taxonomy is essential to understanding vegetation change, habitat destruction and species extinction.\" <<-->> TARGET: \"fossil pollen deposits in sediments\"\n",
            "--> BLEU Score: 2.29\n",
            "--> Exact Match (EM): False\n",
            "--> Is mentioned: True\n",
            "--> BERTScore (F1): 0.43\n",
            "--> Cosine Similarity: 0.46\n",
            "\n",
            "LLM OUTPUT: \"2001\" <<-->> TARGET: \"2001\"\n",
            "--> BLEU Score: 0.00\n",
            "--> Exact Match (EM): True\n",
            "--> Is mentioned: True\n",
            "--> BERTScore (F1): 1.00\n",
            "--> Cosine Similarity: 1.00\n",
            "\n",
            "LLM OUTPUT: \"Thomas Hobbes\" <<-->> TARGET: \"Thomas Hobbes\"\n",
            "--> BLEU Score: 0.00\n",
            "--> Exact Match (EM): True\n",
            "--> Is mentioned: True\n",
            "--> BERTScore (F1): 1.00\n",
            "--> Cosine Similarity: 1.00\n"
          ]
        }
      ],
      "source": [
        "squad_targets = [doc[\"answer\"] for doc in squad_docs]\n",
        "for output, target in zip(outputs, squad_targets):\n",
        "\n",
        "    print(f'\\nLLM OUTPUT: \"{output}\" <<-->> TARGET: \"{target}\"')\n",
        "\n",
        "    # Lexical metrics (ngram-based)\n",
        "    bleu_results = bleu_metric.compute(predictions=[output], references=[target])\n",
        "    print(f\"--> BLEU Score: {bleu_results['bleu'] * 100:.2f}\")\n",
        "\n",
        "    exact_match = target == output\n",
        "    print('--> Exact Match (EM):', exact_match)\n",
        "\n",
        "    mentioned = target in output\n",
        "    print('--> Is mentioned:', mentioned)\n",
        "\n",
        "    # Semantic metrics (embedding-based)\n",
        "    bert_result = bertscore.compute(predictions=[output], references=[target], model_type=\"bert-base-uncased\")\n",
        "    print(f\"--> BERTScore (F1): {bert_result['f1'][0]:.2f}\")\n",
        "\n",
        "    cosine_similarity = embedding_model.similarity(embedding_model.encode(target), embedding_model.encode(output)).squeeze()\n",
        "    print(f\"--> Cosine Similarity: {cosine_similarity:.2f}\")"
      ]
    },
    {
      "cell_type": "markdown",
      "id": "24e7c60a",
      "metadata": {
        "id": "24e7c60a"
      },
      "source": [
        "# Prompt engineering\n",
        "From *zero-shot* (as above) to *In-Context Learning* (ICL)"
      ]
    },
    {
      "cell_type": "markdown",
      "id": "259df928",
      "metadata": {
        "id": "259df928"
      },
      "source": [
        "### In-context Learning: include examples in the prompt to guide the model's behavior"
      ]
    },
    {
      "cell_type": "code",
      "execution_count": 111,
      "id": "47ae3b4d",
      "metadata": {
        "id": "47ae3b4d"
      },
      "outputs": [],
      "source": [
        "examples = [\n",
        "  ('Rome is the capital of Italy.','Roma è la capitale d’Italia.'),\n",
        "  ('Where is the train station?', 'Dove si trova la stazione dei treni?'),\n",
        "  ('We are going to the market tomorrow, do you want to come with us?', 'Andremo al mercato domani, vuoi venire con noi?'),\n",
        "]\n",
        "\n",
        "prompt = f\"{mt_task} {doc}\\nTRANSLATION: \"\n",
        "main_conversation = [\n",
        "  {\"role\": \"user\", \"content\": f\"{mt_task} {examples[0][0]}\\nTRANSLATION:\"},\n",
        "  {\"role\": \"assistant\", \"content\": examples[0][1]},\n",
        "  {\"role\": \"user\", \"content\": f\"{examples[1][0]}\\nTRANSLATION:\"},\n",
        "  {\"role\": \"assistant\", \"content\": examples[1][1]},\n",
        "  {\"role\": \"user\", \"content\": f\"{examples[2][0]}\\nTRANSLATION:\"},\n",
        "  {\"role\": \"assistant\", \"content\": examples[2][1]},\n",
        "]\n",
        "\n",
        "outputs = []\n",
        "for doc in mt_docs:\n",
        "\n",
        "    # Copy the main conversation and append the new user input\n",
        "    conversation = main_conversation.copy()\n",
        "    conversation.append({\"role\": \"user\", \"content\": f\"{doc}\\nTRANSLATION:\"})\n",
        "\n",
        "    result = pipe(conversation, return_full_text = False)\n",
        "    generated_text = result[0]['generated_text']\n",
        "\n",
        "    # Clean up the output by removing whitespaces and newlines\n",
        "    generated_text = generated_text.split(\"\\n\")[0].strip()\n",
        "\n",
        "    # Store the generated output\n",
        "    outputs.append(generated_text)"
      ]
    },
    {
      "cell_type": "code",
      "execution_count": 112,
      "id": "8d91f37b",
      "metadata": {
        "id": "8d91f37b",
        "outputId": "fcc7a80c-2134-4931-ee09-4252c9e8e561",
        "colab": {
          "base_uri": "https://localhost:8080/"
        }
      },
      "outputs": [
        {
          "output_type": "stream",
          "name": "stdout",
          "text": [
            "\n",
            "LLM OUTPUT: \"La vita è piena di sorprese.\" <<-->> TARGET: \"La vita è piena di sorprese.\"\n",
            "--> BLEU Score: 1.00 --> Δ: 1.00\n",
            "--> BERTScore (F1): 1.00 --> Δ: 0.06\n",
            "--> Cosine Similarity: 1.00  --> Δ: 0.04\n",
            "\n",
            "LLM OUTPUT: \"Fu proprio l'ascolto alla soccer la settimana precedente.\" <<-->> TARGET: \"Hanno giocato a calcio lo scorso fine settimana.\"\n",
            "--> BLEU Score: 0.00 --> Δ: 0.00\n",
            "--> BERTScore (F1): 0.69 --> Δ: -0.07\n",
            "--> Cosine Similarity: 0.52  --> Δ: -0.15\n",
            "\n",
            "LLM OUTPUT: \"Andremo al parco dopo.\" <<-->> TARGET: \"Andremo al parco più tardi.\"\n",
            "--> BLEU Score: 0.00 --> Δ: 0.00\n",
            "--> BERTScore (F1): 0.86 --> Δ: 0.08\n",
            "--> Cosine Similarity: 0.78  --> Δ: 0.28\n"
          ]
        }
      ],
      "source": [
        "for output, target in zip(outputs, mt_targets):\n",
        "    print(f'\\nLLM OUTPUT: \"{output}\" <<-->> TARGET: \"{target}\"')\n",
        "\n",
        "    # Lexical metrics (ngram-based)\n",
        "    bleu_results = bleu_metric.compute(predictions=[output], references=[target])\n",
        "    print(f\"--> BLEU Score: {bleu_results['bleu']:.2f} --> Δ: {bleu_results['bleu'] - stats[target]['blue']:.2f}\")\n",
        "\n",
        "    # Semantic metrics (embedding-based)\n",
        "    bert_result = bertscore.compute(predictions=[output], references=[target], model_type=\"bert-base-uncased\")\n",
        "    print(f\"--> BERTScore (F1): {bert_result['f1'][0]:.2f} --> Δ: {bert_result['f1'][0]- stats[target]['bertscore']:.2f}\")\n",
        "\n",
        "    cosine_similarity = embedding_model.similarity(embedding_model.encode(target), embedding_model.encode(output)).squeeze()\n",
        "    print(f\"--> Cosine Similarity: {cosine_similarity:.2f}  --> Δ: {cosine_similarity- stats[target]['cosine']:.2f}\")"
      ]
    }
  ],
  "metadata": {
    "kernelspec": {
      "display_name": "Python 3",
      "name": "python3"
    },
    "language_info": {
      "codemirror_mode": {
        "name": "ipython",
        "version": 3
      },
      "file_extension": ".py",
      "mimetype": "text/x-python",
      "name": "python",
      "nbconvert_exporter": "python",
      "pygments_lexer": "ipython3",
      "version": "3.10.12"
    },
    "colab": {
      "provenance": [],
      "gpuType": "T4",
      "include_colab_link": true
    },
    "accelerator": "GPU"
  },
  "nbformat": 4,
  "nbformat_minor": 5
}