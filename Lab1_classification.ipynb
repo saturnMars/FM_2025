{
  "nbformat": 4,
  "nbformat_minor": 0,
  "metadata": {
    "colab": {
      "provenance": [],
      "authorship_tag": "ABX9TyMfO7clddBHoO9iq+3BubRS",
      "include_colab_link": true
    },
    "kernelspec": {
      "name": "python3",
      "display_name": "Python 3"
    },
    "language_info": {
      "name": "python"
    }
  },
  "cells": [
    {
      "cell_type": "markdown",
      "metadata": {
        "id": "view-in-github",
        "colab_type": "text"
      },
      "source": [
        "<a href=\"https://colab.research.google.com/github/saturnMars/FM_2025/blob/main/Lab1_classification.ipynb\" target=\"_parent\"><img src=\"https://colab.research.google.com/assets/colab-badge.svg\" alt=\"Open In Colab\"/></a>"
      ]
    },
    {
      "cell_type": "code",
      "source": [
        "from os import path\n",
        "import pandas as pd\n",
        "import tarfile"
      ],
      "metadata": {
        "id": "2fuw4oEfeNr1"
      },
      "execution_count": 44,
      "outputs": []
    },
    {
      "cell_type": "markdown",
      "source": [
        "Load the labelled datasets for:\n",
        "- ***binary* classification**:\n",
        "    1. **Truthfulness** (True/false claims)\n",
        "        - *[The Geometry of Truth: Emergent Linear Structure in Large Language Model Representations of True/False Datasets](https://github.com/saprmarks/geometry-of-truth/tree/main)*\n",
        "    2. **Subjectivity** (subjective/objetive sentences)\n",
        "        - [CLEF 2025, Task 1 - Subjectivity](https://checkthat.gitlab.io/clef2025/task1/)\n",
        "- ***multiclass* classification**:\n",
        "    3. **Tense** (past/present/future)\n",
        "        - [EnglishTense: A large scale English texts dataset categorized into three categories: Past, Present, Future tenses.](https://data.mendeley.com/datasets/jnb2xp9m4r/2)\n",
        "    4. **Language** (utterances from multiple languages)\n",
        "        - [MASSIVE: A 1M-Example Multilingual Natural Language Understanding Dataset with 51 Typologically-Diverse Languages](https://github.com/alexa/massive)\n",
        "\n"
      ],
      "metadata": {
        "id": "vxIC-kNdef2m"
      }
    },
    {
      "cell_type": "code",
      "source": [
        "!wget https://data.mendeley.com/public-files/datasets/jnb2xp9m4r/files/8148432a-a69a-473f-beb6-835d2a176f30/file_downloaded"
      ],
      "metadata": {
        "id": "3ZYS80qW5T_n",
        "outputId": "4da50203-8f05-414a-9f6d-a124c6c3c34a",
        "colab": {
          "base_uri": "https://localhost:8080/"
        }
      },
      "execution_count": 45,
      "outputs": [
        {
          "output_type": "stream",
          "name": "stdout",
          "text": [
            "--2025-09-16 14:23:44--  https://data.mendeley.com/public-files/datasets/jnb2xp9m4r/files/8148432a-a69a-473f-beb6-835d2a176f30/file_downloaded\n",
            "Resolving data.mendeley.com (data.mendeley.com)... 162.159.133.86, 162.159.130.86\n",
            "Connecting to data.mendeley.com (data.mendeley.com)|162.159.133.86|:443... connected.\n",
            "HTTP request sent, awaiting response... 302 Found\n",
            "Location: https://prod-dcd-datasets-public-files-eu-west-1.s3.eu-west-1.amazonaws.com/28304dc7-a47c-4d83-bdcc-2edc535236d8 [following]\n",
            "--2025-09-16 14:23:45--  https://prod-dcd-datasets-public-files-eu-west-1.s3.eu-west-1.amazonaws.com/28304dc7-a47c-4d83-bdcc-2edc535236d8\n",
            "Resolving prod-dcd-datasets-public-files-eu-west-1.s3.eu-west-1.amazonaws.com (prod-dcd-datasets-public-files-eu-west-1.s3.eu-west-1.amazonaws.com)... 52.218.29.32, 3.5.71.52, 52.92.20.90, ...\n",
            "Connecting to prod-dcd-datasets-public-files-eu-west-1.s3.eu-west-1.amazonaws.com (prod-dcd-datasets-public-files-eu-west-1.s3.eu-west-1.amazonaws.com)|52.218.29.32|:443... connected.\n",
            "HTTP request sent, awaiting response... 200 OK\n",
            "Length: 458307 (448K) [application/vnd.openxmlformats-officedocument.spreadsheetml.sheet]\n",
            "Saving to: ‘file_downloaded.6’\n",
            "\n",
            "file_downloaded.6   100%[===================>] 447.57K   851KB/s    in 0.5s    \n",
            "\n",
            "2025-09-16 14:23:46 (851 KB/s) - ‘file_downloaded.6’ saved [458307/458307]\n",
            "\n"
          ]
        }
      ]
    },
    {
      "cell_type": "code",
      "execution_count": 46,
      "metadata": {
        "colab": {
          "base_uri": "https://localhost:8080/"
        },
        "id": "eNlcyFegdk4j",
        "outputId": "29b0fa14-6e47-4680-c947-fbe0d49d34ac"
      },
      "outputs": [
        {
          "output_type": "stream",
          "name": "stdout",
          "text": [
            "--2025-09-16 14:23:50--  https://amazon-massive-nlu-dataset.s3.amazonaws.com/amazon-massive-dataset-1.1.tar.gz\n",
            "Resolving amazon-massive-nlu-dataset.s3.amazonaws.com (amazon-massive-nlu-dataset.s3.amazonaws.com)... 16.15.179.28, 52.217.193.233, 52.217.161.25, ...\n",
            "Connecting to amazon-massive-nlu-dataset.s3.amazonaws.com (amazon-massive-nlu-dataset.s3.amazonaws.com)|16.15.179.28|:443... connected.\n",
            "HTTP request sent, awaiting response... 200 OK\n",
            "Length: 40251390 (38M) [application/x-gzip]\n",
            "Saving to: ‘amazon-massive-dataset-1.1.tar.gz.28’\n",
            "\n",
            "amazon-massive-data 100%[===================>]  38.39M  71.7MB/s    in 0.5s    \n",
            "\n",
            "2025-09-16 14:23:51 (71.7 MB/s) - ‘amazon-massive-dataset-1.1.tar.gz.28’ saved [40251390/40251390]\n",
            "\n"
          ]
        }
      ],
      "source": [
        "# (1) TRUTHFULNESS (The Geometry of Truth; TRUE|FALSE)\n",
        "truthfulness_df = pd.read_csv(\"https://raw.githubusercontent.com/saprmarks/geometry-of-truth/refs/heads/main/datasets/counterfact_true_false.csv\")\n",
        "truthfulness_df = truthfulness_df[['statement', 'label']].rename(columns = {'statement':'doc'})\n",
        "\n",
        "# (2) SUBJECTIVITY (CLEF2025; SUB|OBJ)\n",
        "subjectivity_df = pd.concat([\n",
        "    pd.read_csv(\"https://gitlab.com/checkthat_lab/clef2025-checkthat-lab/-/raw/main/task1/data/english/train_en.tsv\", sep= '\\t'),\n",
        "    pd.read_csv(\"https://gitlab.com/checkthat_lab/clef2025-checkthat-lab/-/raw/main/task1/data/english/dev_en.tsv\", sep= '\\t'),\n",
        "    pd.read_csv(\"https://gitlab.com/checkthat_lab/clef2025-checkthat-lab/-/raw/main/task1/data/english/dev_test_en.tsv\", sep= '\\t'),\n",
        "    pd.read_csv(\"https://gitlab.com/checkthat_lab/clef2025-checkthat-lab/-/raw/main/task1/data/english/test_en_labeled.tsv\", sep= '\\t'),\n",
        "])\n",
        "subjectivity_df = subjectivity_df[['sentence', 'label']].rename(columns = {'sentence':'doc'})\n",
        "\n",
        "# (3) TENSE (EnglishTense; past|present|future)\n",
        "tense_df = pd.read_excel(\"https://prod-dcd-datasets-public-files-eu-west-1.s3.eu-west-1.amazonaws.com/28304dc7-a47c-4d83-bdcc-2edc535236d8\").rename(columns = {'Sentence':'doc', 'Labels':'label'})\n",
        "tense_df['label'] = tense_df['label'].str.upper() # Turnaround to fix a bug in the dataset labels\n",
        "\n",
        "# (4) LANGUAGE (MASSIVE; EN/IT/DE/ES)\n",
        "!wget https://amazon-massive-nlu-dataset.s3.amazonaws.com/amazon-massive-dataset-1.1.tar.gz\n",
        "dfs = []\n",
        "with tarfile.open(\"amazon-massive-dataset-1.1.tar.gz\", \"r:gz\") as tar:\n",
        "    for lang in ['en-US', 'it-IT', 'de-DE', 'es-ES']:\n",
        "      dfs.append(pd.read_json(tar.extractfile(path.join('1.1','data', f'{lang}.jsonl')), lines = True))\n",
        "language_df = pd.concat(dfs)[['utt', 'locale']].rename(columns = {'utt':'doc', 'locale': 'label'})"
      ]
    },
    {
      "cell_type": "markdown",
      "source": [
        "Data exploration"
      ],
      "metadata": {
        "id": "6e2X9PM43AQX"
      }
    },
    {
      "cell_type": "code",
      "source": [
        "# TRUTHFULNESS dataset\n",
        "print('-' * 30, 'TRUTHFULNESS', '-' * 30)\n",
        "print(f\"CLASSES ({truthfulness_df['label'].nunique()}):\", '|'.join(truthfulness_df['label'].map(str).unique()), '\\n')\n",
        "print(truthfulness_df)\n",
        "\n",
        "# SUBJECTIVITY dataset\n",
        "print('-' * 30, 'SUBJECTIVITY', '-' * 30)\n",
        "print(f\"CLASSES ({subjectivity_df['label'].nunique()}):\", '|'.join(subjectivity_df['label'].unique()), '\\n')\n",
        "print(subjectivity_df)\n",
        "\n",
        "# TENSE dataset\n",
        "print('-' * 30, 'TENSE', '-' * 30)\n",
        "print(f\"CLASSES ({tense_df['label'].nunique()}):\", '|'.join(tense_df['label'].unique()), '\\n')\n",
        "print(tense_df)\n",
        "\n",
        "# LANGUAGE dataset\n",
        "print('-' * 30, 'LANGUAGE', '-' * 30)\n",
        "print(f\"CLASSES ({language_df['label'].nunique()}):\", '|'.join(language_df['label'].unique()), '\\n')\n",
        "print(language_df)"
      ],
      "metadata": {
        "id": "aJLer5yI2gI8",
        "outputId": "1f19ef65-b80f-4888-8c30-2d84433787a1",
        "colab": {
          "base_uri": "https://localhost:8080/"
        }
      },
      "execution_count": 47,
      "outputs": [
        {
          "output_type": "stream",
          "name": "stdout",
          "text": [
            "------------------------------ TRUTHFULNESS ------------------------------\n",
            "CLASSES (2): 1|0 \n",
            "\n",
            "                                                     doc  label\n",
            "0      The mother tongue of Danielle Darrieux is French.      1\n",
            "1      The mother tongue of Danielle Darrieux is Engl...      0\n",
            "2      The official religion of Edwin of Northumbria ...      1\n",
            "3      The official religion of Edwin of Northumbria ...      0\n",
            "4      The mother tongue of Thomas Joannes Stieltjes ...      1\n",
            "...                                                  ...    ...\n",
            "31959          Jerusalem of Gold was written in Finnish.      0\n",
            "31960  The language used by Jean-Pierre Dionnet is Fr...      1\n",
            "31961  The language used by Jean-Pierre Dionnet is Sp...      0\n",
            "31962                             Subair works as actor.      1\n",
            "31963                          Subair works as composer.      0\n",
            "\n",
            "[31964 rows x 2 columns]\n",
            "------------------------------ SUBJECTIVITY ------------------------------\n",
            "CLASSES (2): SUBJ|OBJ \n",
            "\n",
            "                                                   doc label\n",
            "0    Gone are the days when they led the world in r...  SUBJ\n",
            "1    The trend is expected to reverse as soon as ne...   OBJ\n",
            "2               But there is the specious point again.   OBJ\n",
            "3    He added he wouldn’t be surprised to see a new...   OBJ\n",
            "4    Not less government, you see; the same amount ...  SUBJ\n",
            "..                                                 ...   ...\n",
            "295       She’s also pretty good at winning elections.  SUBJ\n",
            "296  Is the chancellor discombobulated by the anger...  SUBJ\n",
            "297  Realising what my noise habit was doing to me ...  SUBJ\n",
            "298  There are fierce arguments about whether Heath...   OBJ\n",
            "299  None of us are strangers to the negative effec...  SUBJ\n",
            "\n",
            "[2076 rows x 2 columns]\n",
            "------------------------------ TENSE ------------------------------\n",
            "CLASSES (3): FUTURE|PRESENT|PAST \n",
            "\n",
            "                                                     doc    label\n",
            "0      by 2050 ai architects will have designed selfc...   FUTURE\n",
            "1      in the future sustainable transportation optio...   FUTURE\n",
            "2      china has been actively involved in peacekeepi...  PRESENT\n",
            "3      educational diversity is a hallmark of foreign...  PRESENT\n",
            "4        the coach substituted an underperforming player     PAST\n",
            "...                                                  ...      ...\n",
            "13311                       he will become a good person   FUTURE\n",
            "13312                      their door opens after eleven  PRESENT\n",
            "13313                 my mother will cook delicious food   FUTURE\n",
            "13314                        i am going to win this race   FUTURE\n",
            "13315              dona will buy a new mobile next month   FUTURE\n",
            "\n",
            "[13316 rows x 2 columns]\n",
            "------------------------------ LANGUAGE ------------------------------\n",
            "CLASSES (4): en-US|it-IT|de-DE|es-ES \n",
            "\n",
            "                                            doc  label\n",
            "0               wake me up at five am this week  en-US\n",
            "1               wake me up at nine am on friday  en-US\n",
            "2           set an alarm for two hours from now  en-US\n",
            "3                                         quiet  en-US\n",
            "4                                    olly quiet  en-US\n",
            "...                                         ...    ...\n",
            "16516                tengo correos electrónicos  es-ES\n",
            "16517           hay correos electrónicos nuevos  es-ES\n",
            "16518             tengo un nuevo correo de juan  es-ES\n",
            "16519  me ha enviado juan un correo electrónico  es-ES\n",
            "16520         revisa correo electrónico de juan  es-ES\n",
            "\n",
            "[66084 rows x 2 columns]\n"
          ]
        }
      ]
    }
  ]
}