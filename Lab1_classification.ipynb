{
  "nbformat": 4,
  "nbformat_minor": 0,
  "metadata": {
    "colab": {
      "provenance": [],
      "authorship_tag": "ABX9TyML5MRw7y5aC0Sbg+U2Rgzv",
      "include_colab_link": true
    },
    "kernelspec": {
      "name": "python3",
      "display_name": "Python 3"
    },
    "language_info": {
      "name": "python"
    }
  },
  "cells": [
    {
      "cell_type": "markdown",
      "metadata": {
        "id": "view-in-github",
        "colab_type": "text"
      },
      "source": [
        "<a href=\"https://colab.research.google.com/github/saturnMars/FM_2025/blob/main/Lab1_classification.ipynb\" target=\"_parent\"><img src=\"https://colab.research.google.com/assets/colab-badge.svg\" alt=\"Open In Colab\"/></a>"
      ]
    },
    {
      "cell_type": "code",
      "source": [
        "import pandas as pd\n",
        "import tarfile\n",
        "import urllib.request"
      ],
      "metadata": {
        "id": "2fuw4oEfeNr1"
      },
      "execution_count": 2,
      "outputs": []
    },
    {
      "cell_type": "markdown",
      "source": [
        "Load the labelled datasets for classification\n",
        "1. **Language**\n",
        "2. **Truthfulness** (*[The Geometry of Truth: Emergent Linear Structure in Large Language Model Representations of True/False Datasets](https://github.com/saprmarks/geometry-of-truth/tree/main)*)"
      ],
      "metadata": {
        "id": "vxIC-kNdef2m"
      }
    },
    {
      "cell_type": "code",
      "execution_count": 3,
      "metadata": {
        "colab": {
          "base_uri": "https://localhost:8080/"
        },
        "id": "eNlcyFegdk4j",
        "outputId": "bc2cf9cf-a69a-444e-8c42-e07ff7c4e620"
      },
      "outputs": [
        {
          "output_type": "stream",
          "name": "stdout",
          "text": [
            "--2025-09-16 12:44:44--  https://amazon-massive-nlu-dataset.s3.amazonaws.com/amazon-massive-dataset-1.1.tar.gz\n",
            "Resolving amazon-massive-nlu-dataset.s3.amazonaws.com (amazon-massive-nlu-dataset.s3.amazonaws.com)... 52.217.229.185, 16.15.192.148, 3.5.23.239, ...\n",
            "Connecting to amazon-massive-nlu-dataset.s3.amazonaws.com (amazon-massive-nlu-dataset.s3.amazonaws.com)|52.217.229.185|:443... connected.\n",
            "HTTP request sent, awaiting response... 200 OK\n",
            "Length: 40251390 (38M) [application/x-gzip]\n",
            "Saving to: ‘amazon-massive-dataset-1.1.tar.gz.5’\n",
            "\n",
            "amazon-massive-data 100%[===================>]  38.39M  64.6MB/s    in 0.6s    \n",
            "\n",
            "2025-09-16 12:44:45 (64.6 MB/s) - ‘amazon-massive-dataset-1.1.tar.gz.5’ saved [40251390/40251390]\n",
            "\n",
            "id                                                             0\n",
            "locale                                                     mn-MN\n",
            "partition                                                   test\n",
            "scenario                                                   alarm\n",
            "intent                                                 alarm_set\n",
            "utt                энэ долоо хоног намайг таван цагт сэрээгээрэй\n",
            "annot_utt      [date : энэ долоо хоног] намайг [time : таван ...\n",
            "worker_id                                                     16\n",
            "slot_method    [{'slot': 'time', 'method': 'translation'}, {'...\n",
            "judgments      [{'worker_id': '5', 'intent_score': 1, 'slots_...\n",
            "Name: 0, dtype: object\n",
            "------------------------- TRUTHFULNESS ------------------------- \n",
            "                                                statement  label\n",
            "0      The mother tongue of Danielle Darrieux is French.      1\n",
            "1      The mother tongue of Danielle Darrieux is Engl...      0\n",
            "2      The official religion of Edwin of Northumbria ...      1\n",
            "3      The official religion of Edwin of Northumbria ...      0\n",
            "4      The mother tongue of Thomas Joannes Stieltjes ...      1\n",
            "...                                                  ...    ...\n",
            "31959          Jerusalem of Gold was written in Finnish.      0\n",
            "31960  The language used by Jean-Pierre Dionnet is Fr...      1\n",
            "31961  The language used by Jean-Pierre Dionnet is Sp...      0\n",
            "31962                             Subair works as actor.      1\n",
            "31963                          Subair works as composer.      0\n",
            "\n",
            "[31964 rows x 2 columns]\n"
          ]
        }
      ],
      "source": [
        "# LANGUAGE ()\n",
        "!wget https://amazon-massive-nlu-dataset.s3.amazonaws.com/amazon-massive-dataset-1.1.tar.gz\n",
        "dfs = []\n",
        "with tarfile.open(\"amazon-massive-dataset-1.1.tar.gz\", \"r:gz\") as tar:\n",
        "     for member in tar:\n",
        "        if member.name.endswith(\".jsonl\") and member.name.contains:\n",
        "            f = tar.extractfile(member)\n",
        "            dfs.append(pd.read_json(f, lines=True))\n",
        "df = pd.concat(dfs)\n",
        "print(df.iloc[0])\n",
        "exit()\n",
        "\n",
        "\n",
        "# TRUTHFULNESS (true/false claims, binary classification)\n",
        "truthfulness_df = pd.read_csv(\"https://raw.githubusercontent.com/saprmarks/geometry-of-truth/refs/heads/main/datasets/counterfact_true_false.csv\")[['statement', 'label']]\n",
        "print('-' * 25, 'TRUTHFULNESS', '-' * 25, '\\n', truthfulness_df)"
      ]
    }
  ]
}