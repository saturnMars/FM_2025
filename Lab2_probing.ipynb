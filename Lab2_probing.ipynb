{
  "cells": [
    {
      "cell_type": "markdown",
      "metadata": {
        "colab_type": "text",
        "id": "view-in-github"
      },
      "source": [
        "<a href=\"https://colab.research.google.com/github/saturnMars/FM_2025/blob/main/Lab2_probing.ipynb\" target=\"_parent\"><img src=\"https://colab.research.google.com/assets/colab-badge.svg\" alt=\"Open In Colab\"/></a>"
      ]
    },
    {
      "cell_type": "code",
      "execution_count": 1,
      "metadata": {
        "id": "2fuw4oEfeNr1"
      },
      "outputs": [],
      "source": [
        "from os import path\n",
        "import pandas as pd\n",
        "import tarfile"
      ]
    },
    {
      "cell_type": "markdown",
      "metadata": {
        "id": "vxIC-kNdef2m"
      },
      "source": [
        "# Getting the labelled datasets for:\n",
        "- ***binary* classification**:\n",
        "    1. **Truthfulness** (True/false claims)\n",
        "        - *[The Geometry of Truth: Emergent Linear Structure in Large Language Model Representations of True/False Datasets](https://github.com/saprmarks/geometry-of-truth/tree/main)*\n",
        "    2. **Subjectivity** (subjective/objetive sentences)\n",
        "        - [CLEF 2025, Task 1 - Subjectivity](https://checkthat.gitlab.io/clef2025/task1/)\n",
        "- ***multiclass* classification**:\n",
        "    3. **Tense** (past/present/future)\n",
        "        - [EnglishTense: A large scale English texts dataset categorized into three categories: Past, Present, Future tenses.](https://data.mendeley.com/datasets/jnb2xp9m4r/2)\n",
        "    4. **Language** (utterances from multiple languages)\n",
        "        - [MASSIVE: A 1M-Example Multilingual Natural Language Understanding Dataset with 51 Typologically-Diverse Languages](https://github.com/alexa/massive)\n",
        "\n"
      ]
    },
    {
      "cell_type": "markdown",
      "metadata": {
        "id": "CuxhBgLLwGFf"
      },
      "source": [
        "### (1) TRUTHFULNESS (The Geometry of Truth; TRUE|FALSE)"
      ]
    },
    {
      "cell_type": "code",
      "execution_count": 2,
      "metadata": {
        "id": "UEG7J7vvwGFg"
      },
      "outputs": [],
      "source": [
        "truthfulness_df = pd.read_csv(\"https://raw.githubusercontent.com/saprmarks/geometry-of-truth/refs/heads/main/datasets/counterfact_true_false.csv\")\n",
        "\n",
        "# Data preprocessing\n",
        "truthfulness_df = truthfulness_df[['statement', 'label']].rename(columns = {'statement':'doc'})\n",
        "truthfulness_df['label'] = truthfulness_df['label'].map(bool)\n",
        "truthfulness_df['doc'] = truthfulness_df['doc'].str.rstrip('.')\n",
        "\n",
        "truthfulness_df.attrs['name'] = 'truth'"
      ]
    },
    {
      "cell_type": "markdown",
      "metadata": {
        "id": "UNz0kRvuwGFg"
      },
      "source": [
        "### (2) SUBJECTIVITY (CLEF2025; SUB|OBJ)"
      ]
    },
    {
      "cell_type": "code",
      "execution_count": 3,
      "metadata": {
        "id": "eNlcyFegdk4j"
      },
      "outputs": [],
      "source": [
        "subjectivity_df = pd.concat([\n",
        "    pd.read_csv(\"https://gitlab.com/checkthat_lab/clef2025-checkthat-lab/-/raw/main/task1/data/english/train_en.tsv\", sep= '\\t'),\n",
        "    pd.read_csv(\"https://gitlab.com/checkthat_lab/clef2025-checkthat-lab/-/raw/main/task1/data/english/dev_en.tsv\", sep= '\\t'),\n",
        "    pd.read_csv(\"https://gitlab.com/checkthat_lab/clef2025-checkthat-lab/-/raw/main/task1/data/english/dev_test_en.tsv\", sep= '\\t'),\n",
        "    pd.read_csv(\"https://gitlab.com/checkthat_lab/clef2025-checkthat-lab/-/raw/main/task1/data/english/test_en_labeled.tsv\", sep= '\\t'),\n",
        "])\n",
        "subjectivity_df = subjectivity_df[['sentence', 'label']].rename(columns = {'sentence':'doc'})\n",
        "subjectivity_df['doc'] = subjectivity_df['doc'].str.rstrip('.')\n",
        "\n",
        "subjectivity_df.attrs['name'] = 'subj'"
      ]
    },
    {
      "cell_type": "markdown",
      "metadata": {
        "id": "nvEdqk0KwGFh"
      },
      "source": [
        "### (3) TENSE (EnglishTense; past|present|future)"
      ]
    },
    {
      "cell_type": "code",
      "execution_count": 4,
      "metadata": {
        "id": "7KHn2nXFwGFh"
      },
      "outputs": [],
      "source": [
        "tense_df = pd.read_excel(\"https://prod-dcd-datasets-public-files-eu-west-1.s3.eu-west-1.amazonaws.com/28304dc7-a47c-4d83-bdcc-2edc535236d8\")\n",
        "tense_df = tense_df.rename(columns = {'Sentence':'doc', 'Labels':'label'})\n",
        "tense_df['doc'] = tense_df['doc'].str.rstrip('.')\n",
        "tense_df.attrs['name'] = 'tense'\n",
        "\n",
        "# Turnaround to fix a bug in the dataset labels\n",
        "tense_df['label'] = tense_df['label'].str.upper()"
      ]
    },
    {
      "cell_type": "markdown",
      "metadata": {
        "id": "Hl4IWECRwGFi"
      },
      "source": [
        "### LANGUAGE (MASSIVE; EN/IT/DE/ES/FR/JA)"
      ]
    },
    {
      "cell_type": "code",
      "execution_count": 5,
      "metadata": {
        "colab": {
          "base_uri": "https://localhost:8080/"
        },
        "id": "OlfsDfC3wGFi",
        "outputId": "18a1f338-375f-4df6-c852-9e604d0056b2"
      },
      "outputs": [],
      "source": [
        "filename = \"amazon-massive-dataset-1.1.tar.gz\"\n",
        "if not path.exists(filename):\n",
        "    !wget https://amazon-massive-nlu-dataset.s3.amazonaws.com/amazon-massive-dataset-1.1.tar.gz"
      ]
    },
    {
      "cell_type": "code",
      "execution_count": 6,
      "metadata": {
        "id": "fqDt00qhwGFj"
      },
      "outputs": [],
      "source": [
        "dfs = []\n",
        "with tarfile.open(filename, \"r:gz\") as tar:\n",
        "    for lang in ['en-US', 'it-IT', 'de-DE', 'es-ES', 'fr-FR', 'ja-JP']:\n",
        "      dfs.append(pd.read_json(tar.extractfile(path.join('1.1','data', f'{lang}.jsonl')), lines = True).sample(10000))\n",
        "\n",
        "language_df = pd.concat(dfs, ignore_index = True)[['utt', 'locale']].rename(columns = {'utt':'doc', 'locale': 'label'})\n",
        "language_df['doc'] = language_df['doc'].str.rstrip('.')\n",
        "\n",
        "language_df.attrs['name'] = 'lang'"
      ]
    },
    {
      "cell_type": "markdown",
      "metadata": {
        "id": "6e2X9PM43AQX"
      },
      "source": [
        "# Data exploration"
      ]
    },
    {
      "cell_type": "code",
      "execution_count": 7,
      "metadata": {
        "colab": {
          "base_uri": "https://localhost:8080/"
        },
        "id": "aJLer5yI2gI8",
        "outputId": "e1a2eb94-743f-4f21-ba75-70612c449559"
      },
      "outputs": [
        {
          "name": "stdout",
          "output_type": "stream",
          "text": [
            "------------------------------ TRUTHFULNESS ------------------------------\n",
            "CLASSES (2): True|False \n",
            "\n",
            "                                                     doc  label\n",
            "0       The mother tongue of Danielle Darrieux is French   True\n",
            "1      The mother tongue of Danielle Darrieux is English  False\n",
            "2      The official religion of Edwin of Northumbria ...   True\n",
            "3      The official religion of Edwin of Northumbria ...  False\n",
            "4      The mother tongue of Thomas Joannes Stieltjes ...   True\n",
            "...                                                  ...    ...\n",
            "31959           Jerusalem of Gold was written in Finnish  False\n",
            "31960  The language used by Jean-Pierre Dionnet is Fr...   True\n",
            "31961  The language used by Jean-Pierre Dionnet is Sp...  False\n",
            "31962                              Subair works as actor   True\n",
            "31963                           Subair works as composer  False\n",
            "\n",
            "[31964 rows x 2 columns]\n",
            "------------------------------ SUBJECTIVITY ------------------------------\n",
            "CLASSES (2): SUBJ|OBJ \n",
            "\n",
            "                                                   doc label\n",
            "0    Gone are the days when they led the world in r...  SUBJ\n",
            "1    The trend is expected to reverse as soon as ne...   OBJ\n",
            "2                But there is the specious point again   OBJ\n",
            "3    He added he wouldn’t be surprised to see a new...   OBJ\n",
            "4    Not less government, you see; the same amount ...  SUBJ\n",
            "..                                                 ...   ...\n",
            "295        She’s also pretty good at winning elections  SUBJ\n",
            "296  Is the chancellor discombobulated by the anger...  SUBJ\n",
            "297  Realising what my noise habit was doing to me ...  SUBJ\n",
            "298  There are fierce arguments about whether Heath...   OBJ\n",
            "299  None of us are strangers to the negative effec...  SUBJ\n",
            "\n",
            "[2076 rows x 2 columns]\n",
            "------------------------------ TENSE ------------------------------\n",
            "CLASSES (3): FUTURE|PRESENT|PAST \n",
            "\n",
            "                                                     doc    label\n",
            "0      by 2050 ai architects will have designed selfc...   FUTURE\n",
            "1      in the future sustainable transportation optio...   FUTURE\n",
            "2      china has been actively involved in peacekeepi...  PRESENT\n",
            "3      educational diversity is a hallmark of foreign...  PRESENT\n",
            "4        the coach substituted an underperforming player     PAST\n",
            "...                                                  ...      ...\n",
            "13311                       he will become a good person   FUTURE\n",
            "13312                      their door opens after eleven  PRESENT\n",
            "13313                 my mother will cook delicious food   FUTURE\n",
            "13314                        i am going to win this race   FUTURE\n",
            "13315              dona will buy a new mobile next month   FUTURE\n",
            "\n",
            "[13316 rows x 2 columns]\n",
            "------------------------------ LANGUAGE ------------------------------\n",
            "CLASSES (6): en-US|it-IT|de-DE|es-ES|fr-FR|ja-JP \n",
            "\n",
            "                                                     doc  label\n",
            "0               what information do you capture about me  en-US\n",
            "1      remind me about my monday meeting with peter f...  en-US\n",
            "2           i need to put together a to-do list for work  en-US\n",
            "3                        explain to me how gravity works  en-US\n",
            "4                what is the weather where i am at today  en-US\n",
            "...                                                  ...    ...\n",
            "59995                                       テトリスで対戦しましょう  ja-JP\n",
            "59996                                  スターウォーズのゲームをプレイして  ja-JP\n",
            "59997                                  olly 私のメールをチェックして  ja-JP\n",
            "59998                                             全て削除する  ja-JP\n",
            "59999                           時計がどうやって動いているか詳しく教えてください  ja-JP\n",
            "\n",
            "[60000 rows x 2 columns]\n"
          ]
        }
      ],
      "source": [
        "# TRUTHFULNESS dataset\n",
        "print('-' * 30, 'TRUTHFULNESS', '-' * 30)\n",
        "print(f\"CLASSES ({truthfulness_df['label'].nunique()}):\", '|'.join(truthfulness_df['label'].map(str).unique()), '\\n')\n",
        "print(truthfulness_df)\n",
        "\n",
        "# SUBJECTIVITY dataset\n",
        "print('-' * 30, 'SUBJECTIVITY', '-' * 30)\n",
        "print(f\"CLASSES ({subjectivity_df['label'].nunique()}):\", '|'.join(subjectivity_df['label'].unique()), '\\n')\n",
        "print(subjectivity_df)\n",
        "\n",
        "# TENSE dataset\n",
        "print('-' * 30, 'TENSE', '-' * 30)\n",
        "print(f\"CLASSES ({tense_df['label'].nunique()}):\", '|'.join(tense_df['label'].unique()), '\\n')\n",
        "print(tense_df)\n",
        "\n",
        "# LANGUAGE dataset\n",
        "print('-' * 30, 'LANGUAGE', '-' * 30)\n",
        "print(f\"CLASSES ({language_df['label'].nunique()}):\", '|'.join(language_df['label'].unique()), '\\n')\n",
        "print(language_df)"
      ]
    },
    {
      "cell_type": "markdown",
      "metadata": {
        "id": "L57nxXaiwGFk"
      },
      "source": [
        "### Select the dataset\n",
        "1. **Multiclass classification** (EASY: *syntax-based*)\n",
        "    - tense_df (3 classes: PAST|PRESENT|FUTURE)\n",
        "    - language_df (6 classes: en|it|de|es|fr|ja')\n",
        "\n",
        "2. **Binary classification** (HARD: *semantic-based*)\n",
        "    - truthfulness_df (True|False)\n",
        "    - subjectivity_df (SUBJ|OBJ)\n"
      ]
    },
    {
      "cell_type": "code",
      "execution_count": 8,
      "metadata": {
        "id": "8C6f4MaawGFk"
      },
      "outputs": [],
      "source": [
        "data = truthfulness_df.sample(10000)"
      ]
    },
    {
      "cell_type": "markdown",
      "metadata": {
        "id": "xy_sNfzHwGFk"
      },
      "source": [
        "# Load the LLMs and get the embeddings for each document\n",
        "1. OpenAI's GPT-2\n",
        "    - openai-community/gpt2\n",
        "    - openai-community/gpt2-medium\n",
        "    - openai-community/gpt2-xl\n",
        "2. EleutherAI's Pythia\n",
        "    - EleutherAI/pythia-160m\n",
        "    - EleutherAI/pythia-1.4b\n",
        "    - EleutherAI/pythia-2.8b\n",
        "3. MetaAI's Llama (meta-llama/Llama-3.2-1B; meta-llama/Llama-3.2-3B)"
      ]
    },
    {
      "cell_type": "code",
      "execution_count": 9,
      "metadata": {
        "id": "UsQnTm3wwGFk"
      },
      "outputs": [],
      "source": [
        "llm_name = \"openai-community/gpt2\""
      ]
    },
    {
      "cell_type": "code",
      "execution_count": 10,
      "metadata": {
        "id": "sOTze3CAwGFl"
      },
      "outputs": [
        {
          "name": "stderr",
          "output_type": "stream",
          "text": [
            "/home/bronzini/repositories/FM_2025/.venv/lib/python3.10/site-packages/tqdm/auto.py:21: TqdmWarning: IProgress not found. Please update jupyter and ipywidgets. See https://ipywidgets.readthedocs.io/en/stable/user_install.html\n",
            "  from .autonotebook import tqdm as notebook_tqdm\n"
          ]
        }
      ],
      "source": [
        "from transformers import AutoModel, AutoTokenizer\n",
        "from tqdm import tqdm\n",
        "import torch"
      ]
    },
    {
      "cell_type": "code",
      "execution_count": 11,
      "metadata": {
        "colab": {
          "base_uri": "https://localhost:8080/"
        },
        "id": "GHLIkLp0wGFl",
        "outputId": "e9d1c270-cb3e-4248-985f-b5d4972316a4"
      },
      "outputs": [
        {
          "name": "stdout",
          "output_type": "stream",
          "text": [
            "Device: CUDA\n"
          ]
        }
      ],
      "source": [
        "device = torch.device('cuda' if torch.cuda.is_available() else 'cpu')\n",
        "print(f\"Device: {str(device).upper()}\")"
      ]
    },
    {
      "cell_type": "code",
      "execution_count": 12,
      "metadata": {
        "colab": {
          "base_uri": "https://localhost:8080/",
          "height": 750,
          "referenced_widgets": [
            "0ef6c27562d14d3193e0f2bd663a9b83",
            "bf2dcc72870642f2b6aa66eac36f1845",
            "9e41c7b748f94b9f8f0a834ff776bd19",
            "31c2012c5b3c4efa93e03bd088c16aa7",
            "97f4a986cdca463c875d13dda5acffed",
            "459a21cc43a24e839c0249d830d5be52",
            "eb4e3b0d290546a0bc7ff74877a21529",
            "abcd19fc048c4aeb9284a85ba3df6040",
            "32d960a6769449de85551fb82a0ff3f8",
            "29afc1ef468c476abed21f452221f553",
            "6261d6bb674543e6ae57e378c4999c2d",
            "f5bbc41eea3940b08b7b65521861475b",
            "b967e549af6d4c878f2a1fe6002437de",
            "952fc5ec5c3e49f29c345c477a87fe7a",
            "31a428bcdb9c4c8d88dc741fd30c2a6b",
            "2eaaea8768814d34b248a9a80c078833",
            "ab9f7527dac745229577be86635eed48",
            "2102ca243d2b4189bb0fd55a2331d714",
            "97bb19c03dfd4c45b1adbc6f099ed38f",
            "7b4cc9a57b5743bfae91c14d835d2de0",
            "562de91268a34d2bbdd6476d9847986e",
            "06783ad5d6fc477fa7b7c7d37e0ae68f",
            "ab19e0dc93da4ce9ae9ad3485e09af70",
            "5c69467311874b4c9621f37bdadaf5ae",
            "52bf813aeda44f269fd9a87976eaa2de",
            "00e737fe0307419e9f5c669bc287370c",
            "a56efdb45718462292dd6deb3a5265a1",
            "ff9701590e91407f806051031d3816cb",
            "25e59a176ea34c40b2c16db3478a1a07",
            "064e01a59ec24e4ba31e22645eb8f2f2",
            "774868479e574e43802ba4c8c44ed97c",
            "b165a071ea1841f29730747d5885ebd8",
            "338234c4a51a4e82b3085d6933b1a535",
            "6453b4e37dcf40f58188e6c4e1b70ce0",
            "5e9f0a9bb1e641be93780a0024cd7207",
            "bee1834dca1f4f10bbc7b73bdd6b2ec5",
            "ad57ca551bbd46478fbe86eaa18b9b85",
            "21e74220457f499eba933af3efaf2b88",
            "f012f65c3c3046d484be9f8d89c67525",
            "448e5c4fa1ec4b9dbbbdc2f8443d284a",
            "b090b694d23d4ba88c8173db26e48d76",
            "ae3a68d059254ca3a46da36afa583e9e",
            "51f6e55f2ff14722bce2b51278141db1",
            "4b62aea697984188adc1205a47dad9e2",
            "d3e2b4ab6c59443495e36da30f29783b",
            "4820ac5ea4c5421eae4ee0bfafccd732",
            "8b416584390d431c85db0778cbd4355d",
            "6908e5ad8fa744c192d7daeccd9a008a",
            "16184731c38b493abc56e360d7df9876",
            "3cbbf7979bb0473d850f950d12285cee",
            "697c0fb999144d51af1be40d3cdc2aa8",
            "786431c509b345ec9bc5f34d1a5685b5",
            "0c9d7b42232a4535821bf7a70f005bc5",
            "ec4b8cf9d06441c0a4bb68c202c6c550",
            "1fcae0f84bec4610a10cb283bc2c077c",
            "8247790313b74184bcc53badb11d6066",
            "9a9ea47b3e254eb8bae0b019555d6c64",
            "68f9c3a0901c4a6696f0b17056878d7d",
            "3b92ad61324c4e5b9c3c861f19b0c613",
            "e124eed5ad3d4225b7eda3ff4217a7be",
            "40a50f85f6904675ad9770ad44863c6a",
            "4a896e66b3534859ba798946a92fca23",
            "44e465fc62a34e5f8fc7c4015688859e",
            "6ac7ea3072ae4ed88c52cee89b7ce3e6",
            "0b9b8d9cd2504aafa4ab7327b9bf9ac7",
            "bca2d14dc0ff465ca39dc1796db9c33c"
          ]
        },
        "id": "x4FXY6JwwGFl",
        "outputId": "7ded6861-c12f-46af-ad15-dbd5d7224b3b"
      },
      "outputs": [
        {
          "data": {
            "text/plain": [
              "GPT2Model(\n",
              "  (wte): Embedding(50257, 768)\n",
              "  (wpe): Embedding(1024, 768)\n",
              "  (drop): Dropout(p=0.1, inplace=False)\n",
              "  (h): ModuleList(\n",
              "    (0-11): 12 x GPT2Block(\n",
              "      (ln_1): LayerNorm((768,), eps=1e-05, elementwise_affine=True)\n",
              "      (attn): GPT2Attention(\n",
              "        (c_attn): Conv1D(nf=2304, nx=768)\n",
              "        (c_proj): Conv1D(nf=768, nx=768)\n",
              "        (attn_dropout): Dropout(p=0.1, inplace=False)\n",
              "        (resid_dropout): Dropout(p=0.1, inplace=False)\n",
              "      )\n",
              "      (ln_2): LayerNorm((768,), eps=1e-05, elementwise_affine=True)\n",
              "      (mlp): GPT2MLP(\n",
              "        (c_fc): Conv1D(nf=3072, nx=768)\n",
              "        (c_proj): Conv1D(nf=768, nx=3072)\n",
              "        (act): NewGELUActivation()\n",
              "        (dropout): Dropout(p=0.1, inplace=False)\n",
              "      )\n",
              "    )\n",
              "  )\n",
              "  (ln_f): LayerNorm((768,), eps=1e-05, elementwise_affine=True)\n",
              ")"
            ]
          },
          "execution_count": 12,
          "metadata": {},
          "output_type": "execute_result"
        }
      ],
      "source": [
        "tokenizer = AutoTokenizer.from_pretrained(llm_name)\n",
        "llm = AutoModel.from_pretrained(llm_name).to(device)\n",
        "llm.eval()"
      ]
    },
    {
      "cell_type": "markdown",
      "metadata": {
        "id": "ZvsRmdcRwGFm"
      },
      "source": [
        "### Compute the LLM embeddings"
      ]
    },
    {
      "cell_type": "code",
      "execution_count": 13,
      "metadata": {
        "colab": {
          "base_uri": "https://localhost:8080/"
        },
        "id": "RU5z06TEwGFm",
        "outputId": "11e1fbde-1ba5-4a74-8fa6-39ea726d1d03"
      },
      "outputs": [
        {
          "name": "stdout",
          "output_type": "stream",
          "text": [
            "Loaded the embeddings from the disk.\n",
            "Dataset: 3096 samples\n"
          ]
        }
      ],
      "source": [
        "filename = f\"_emb_{path.basename(llm_name).replace('-', '_')}_{data.attrs['name']}.pt\"\n",
        "\n",
        "if path.exists(filename):\n",
        "    embeddings = torch.load(filename)\n",
        "    print('Loaded the embeddings from the disk.')\n",
        "else:\n",
        "\n",
        "    # Get the unique documents to avoid redundant computations\n",
        "    docs = data['doc'].drop_duplicates().values\n",
        "\n",
        "    # Compute the embeddings for each document\n",
        "    embeddings = dict()\n",
        "    for doc in tqdm(docs):\n",
        "\n",
        "        # Tokenize the textual document (x)\n",
        "        input_ids = tokenizer(doc, return_tensors = 'pt').to(llm.device)\n",
        "\n",
        "        # Process the tokenized document using the frozen LLM\n",
        "        llm_output = llm(**input_ids, output_hidden_states=True)\n",
        "\n",
        "        # Get the embeddings from the last hidden layer [batch_size, seq_len, hidden_dim]\n",
        "        selected_layer = llm.config.num_hidden_layers // 2 # -1\n",
        "        last_token_emb = llm_output.hidden_states[selected_layer][:, -1, :]\n",
        "        embeddings[doc] = last_token_emb.detach().cpu().squeeze()\n",
        "\n",
        "    # Cache embeddings to save time in future runs\n",
        "    torch.save(embeddings, filename)\n",
        "\n",
        "# Add embeddings to the original dataframe\n",
        "data['embedding'] = data['doc'].map(embeddings)\n",
        "\n",
        "# Remove samples without embeddings (if any)\n",
        "data = data.dropna(subset = ['embedding']).reset_index(drop = True)\n",
        "print(f\"Dataset: {data.shape[0]} samples\")"
      ]
    },
    {
      "cell_type": "markdown",
      "metadata": {
        "id": "BcVEVSY3II1i"
      },
      "source": [
        "## Create our own [*PyTorch Dataset*](https://docs.pytorch.org/tutorials/beginner/basics/data_tutorial.html) for training\n"
      ]
    },
    {
      "cell_type": "code",
      "execution_count": 14,
      "metadata": {
        "id": "WeNuoMpzIQR3"
      },
      "outputs": [],
      "source": [
        "from torch.utils.data import Dataset"
      ]
    },
    {
      "cell_type": "code",
      "execution_count": 15,
      "metadata": {
        "id": "qnfijyj0wGFn"
      },
      "outputs": [],
      "source": [
        "class MyDataset(Dataset):\n",
        "    def __init__(self, df: pd.DataFrame):\n",
        "        self.df = df\n",
        "\n",
        "        # Convert the textual labels into numerical classes (e.g., PAST --> 0; PRESENT --> 1; FUTURE --> 2)\n",
        "        self.class_mapping = {i: label for i, label in enumerate(df['label'].unique())}\n",
        "        self.label_to_int = {v: k for k, v in self.class_mapping.items()}\n",
        "\n",
        "    def __len__(self):\n",
        "        return len(self.df)\n",
        "\n",
        "    def __getitem__(self, idx):\n",
        "        embeddings = self.df.iloc[idx]['embedding']\n",
        "\n",
        "        labels = self.df.iloc[idx]['label']\n",
        "        labels = self.label_to_int[self.df.iloc[idx]['label']]\n",
        "\n",
        "        return embeddings, labels\n",
        "\n",
        "    def get_embedding_dim(self):\n",
        "        return self.df.iloc[0]['embedding'].shape[0]\n",
        "\n",
        "    def get_num_classes(self):\n",
        "        return len(self.class_mapping)\n"
      ]
    },
    {
      "cell_type": "markdown",
      "metadata": {
        "id": "hE3Gx0GKwGFn"
      },
      "source": [
        "# Explore the dataset"
      ]
    },
    {
      "cell_type": "code",
      "execution_count": 16,
      "metadata": {
        "id": "srSOjNwdwGFn"
      },
      "outputs": [
        {
          "name": "stdout",
          "output_type": "stream",
          "text": [
            "EMBEDDING (X; type: <class 'torch.Tensor'>; size = 768)--> CLASS (Y): 0 (True)\n",
            "EMBEDDING (X; type: <class 'torch.Tensor'>; size = 768)--> CLASS (Y): 1 (False)\n"
          ]
        }
      ],
      "source": [
        "# Initialize the dataset\n",
        "dataset = MyDataset(data)\n",
        "\n",
        "# Explore the dataset\n",
        "training_items = iter(dataset)\n",
        "emb_0, label_0 = next(training_items)\n",
        "print(f\"EMBEDDING (X; type: {type(emb_0)}; size = {emb_0.shape[0]})\" '--> CLASS (Y):', label_0, f'({dataset.class_mapping[label_0]})')\n",
        "\n",
        "emb_1, label_1 = next(training_items)\n",
        "print(f\"EMBEDDING (X; type: {type(emb_1)}; size = {emb_1.shape[0]})\" '--> CLASS (Y):', label_1, f'({dataset.class_mapping[label_1]})')"
      ]
    },
    {
      "cell_type": "markdown",
      "metadata": {
        "id": "5e4F0P0gwGFo"
      },
      "source": [
        "## Create our own *DataModule* ([PyTorch Lightining](https://lightning.ai/docs/pytorch/stable/data/datamodule.html)) with *DataLoaders* (PyTorch)"
      ]
    },
    {
      "cell_type": "code",
      "execution_count": 17,
      "metadata": {
        "id": "HltI3LJUwGFo"
      },
      "outputs": [
        {
          "name": "stdout",
          "output_type": "stream",
          "text": [
            "Requirement already satisfied: lightning in ./.venv/lib/python3.10/site-packages (2.5.5)\n",
            "Requirement already satisfied: PyYAML<8.0,>5.4 in ./.venv/lib/python3.10/site-packages (from lightning) (6.0.3)\n",
            "Requirement already satisfied: fsspec<2027.0,>=2022.5.0 in ./.venv/lib/python3.10/site-packages (from fsspec[http]<2027.0,>=2022.5.0->lightning) (2025.9.0)\n",
            "Requirement already satisfied: lightning-utilities<2.0,>=0.10.0 in ./.venv/lib/python3.10/site-packages (from lightning) (0.15.2)\n",
            "Requirement already satisfied: packaging<27.0,>=20.0 in ./.venv/lib/python3.10/site-packages (from lightning) (25.0)\n",
            "Requirement already satisfied: torch<4.0,>=2.1.0 in ./.venv/lib/python3.10/site-packages (from lightning) (2.8.0)\n",
            "Requirement already satisfied: torchmetrics<3.0,>0.7.0 in ./.venv/lib/python3.10/site-packages (from lightning) (1.8.2)\n",
            "Requirement already satisfied: tqdm<6.0,>=4.57.0 in ./.venv/lib/python3.10/site-packages (from lightning) (4.67.1)\n",
            "Requirement already satisfied: typing-extensions<6.0,>4.5.0 in ./.venv/lib/python3.10/site-packages (from lightning) (4.15.0)\n",
            "Requirement already satisfied: pytorch-lightning in ./.venv/lib/python3.10/site-packages (from lightning) (2.5.5)\n",
            "Requirement already satisfied: aiohttp!=4.0.0a0,!=4.0.0a1 in ./.venv/lib/python3.10/site-packages (from fsspec[http]<2027.0,>=2022.5.0->lightning) (3.12.15)\n",
            "Requirement already satisfied: setuptools in ./.venv/lib/python3.10/site-packages (from lightning-utilities<2.0,>=0.10.0->lightning) (80.9.0)\n",
            "Requirement already satisfied: filelock in ./.venv/lib/python3.10/site-packages (from torch<4.0,>=2.1.0->lightning) (3.19.1)\n",
            "Requirement already satisfied: sympy>=1.13.3 in ./.venv/lib/python3.10/site-packages (from torch<4.0,>=2.1.0->lightning) (1.14.0)\n",
            "Requirement already satisfied: networkx in ./.venv/lib/python3.10/site-packages (from torch<4.0,>=2.1.0->lightning) (3.4.2)\n",
            "Requirement already satisfied: jinja2 in ./.venv/lib/python3.10/site-packages (from torch<4.0,>=2.1.0->lightning) (3.1.6)\n",
            "Requirement already satisfied: nvidia-cuda-nvrtc-cu12==12.8.93 in ./.venv/lib/python3.10/site-packages (from torch<4.0,>=2.1.0->lightning) (12.8.93)\n",
            "Requirement already satisfied: nvidia-cuda-runtime-cu12==12.8.90 in ./.venv/lib/python3.10/site-packages (from torch<4.0,>=2.1.0->lightning) (12.8.90)\n",
            "Requirement already satisfied: nvidia-cuda-cupti-cu12==12.8.90 in ./.venv/lib/python3.10/site-packages (from torch<4.0,>=2.1.0->lightning) (12.8.90)\n",
            "Requirement already satisfied: nvidia-cudnn-cu12==9.10.2.21 in ./.venv/lib/python3.10/site-packages (from torch<4.0,>=2.1.0->lightning) (9.10.2.21)\n",
            "Requirement already satisfied: nvidia-cublas-cu12==12.8.4.1 in ./.venv/lib/python3.10/site-packages (from torch<4.0,>=2.1.0->lightning) (12.8.4.1)\n",
            "Requirement already satisfied: nvidia-cufft-cu12==11.3.3.83 in ./.venv/lib/python3.10/site-packages (from torch<4.0,>=2.1.0->lightning) (11.3.3.83)\n",
            "Requirement already satisfied: nvidia-curand-cu12==10.3.9.90 in ./.venv/lib/python3.10/site-packages (from torch<4.0,>=2.1.0->lightning) (10.3.9.90)\n",
            "Requirement already satisfied: nvidia-cusolver-cu12==11.7.3.90 in ./.venv/lib/python3.10/site-packages (from torch<4.0,>=2.1.0->lightning) (11.7.3.90)\n",
            "Requirement already satisfied: nvidia-cusparse-cu12==12.5.8.93 in ./.venv/lib/python3.10/site-packages (from torch<4.0,>=2.1.0->lightning) (12.5.8.93)\n",
            "Requirement already satisfied: nvidia-cusparselt-cu12==0.7.1 in ./.venv/lib/python3.10/site-packages (from torch<4.0,>=2.1.0->lightning) (0.7.1)\n",
            "Requirement already satisfied: nvidia-nccl-cu12==2.27.3 in ./.venv/lib/python3.10/site-packages (from torch<4.0,>=2.1.0->lightning) (2.27.3)\n",
            "Requirement already satisfied: nvidia-nvtx-cu12==12.8.90 in ./.venv/lib/python3.10/site-packages (from torch<4.0,>=2.1.0->lightning) (12.8.90)\n",
            "Requirement already satisfied: nvidia-nvjitlink-cu12==12.8.93 in ./.venv/lib/python3.10/site-packages (from torch<4.0,>=2.1.0->lightning) (12.8.93)\n",
            "Requirement already satisfied: nvidia-cufile-cu12==1.13.1.3 in ./.venv/lib/python3.10/site-packages (from torch<4.0,>=2.1.0->lightning) (1.13.1.3)\n",
            "Requirement already satisfied: triton==3.4.0 in ./.venv/lib/python3.10/site-packages (from torch<4.0,>=2.1.0->lightning) (3.4.0)\n",
            "Requirement already satisfied: numpy>1.20.0 in ./.venv/lib/python3.10/site-packages (from torchmetrics<3.0,>0.7.0->lightning) (1.26.4)\n",
            "Requirement already satisfied: aiohappyeyeballs>=2.5.0 in ./.venv/lib/python3.10/site-packages (from aiohttp!=4.0.0a0,!=4.0.0a1->fsspec[http]<2027.0,>=2022.5.0->lightning) (2.6.1)\n",
            "Requirement already satisfied: aiosignal>=1.4.0 in ./.venv/lib/python3.10/site-packages (from aiohttp!=4.0.0a0,!=4.0.0a1->fsspec[http]<2027.0,>=2022.5.0->lightning) (1.4.0)\n",
            "Requirement already satisfied: async-timeout<6.0,>=4.0 in ./.venv/lib/python3.10/site-packages (from aiohttp!=4.0.0a0,!=4.0.0a1->fsspec[http]<2027.0,>=2022.5.0->lightning) (5.0.1)\n",
            "Requirement already satisfied: attrs>=17.3.0 in ./.venv/lib/python3.10/site-packages (from aiohttp!=4.0.0a0,!=4.0.0a1->fsspec[http]<2027.0,>=2022.5.0->lightning) (25.3.0)\n",
            "Requirement already satisfied: frozenlist>=1.1.1 in ./.venv/lib/python3.10/site-packages (from aiohttp!=4.0.0a0,!=4.0.0a1->fsspec[http]<2027.0,>=2022.5.0->lightning) (1.7.0)\n",
            "Requirement already satisfied: multidict<7.0,>=4.5 in ./.venv/lib/python3.10/site-packages (from aiohttp!=4.0.0a0,!=4.0.0a1->fsspec[http]<2027.0,>=2022.5.0->lightning) (6.6.4)\n",
            "Requirement already satisfied: propcache>=0.2.0 in ./.venv/lib/python3.10/site-packages (from aiohttp!=4.0.0a0,!=4.0.0a1->fsspec[http]<2027.0,>=2022.5.0->lightning) (0.3.2)\n",
            "Requirement already satisfied: yarl<2.0,>=1.17.0 in ./.venv/lib/python3.10/site-packages (from aiohttp!=4.0.0a0,!=4.0.0a1->fsspec[http]<2027.0,>=2022.5.0->lightning) (1.20.1)\n",
            "Requirement already satisfied: idna>=2.0 in ./.venv/lib/python3.10/site-packages (from yarl<2.0,>=1.17.0->aiohttp!=4.0.0a0,!=4.0.0a1->fsspec[http]<2027.0,>=2022.5.0->lightning) (3.10)\n",
            "Requirement already satisfied: mpmath<1.4,>=1.1.0 in ./.venv/lib/python3.10/site-packages (from sympy>=1.13.3->torch<4.0,>=2.1.0->lightning) (1.3.0)\n",
            "Requirement already satisfied: MarkupSafe>=2.0 in ./.venv/lib/python3.10/site-packages (from jinja2->torch<4.0,>=2.1.0->lightning) (3.0.3)\n"
          ]
        }
      ],
      "source": [
        "!pip install lightning"
      ]
    },
    {
      "cell_type": "code",
      "execution_count": 18,
      "metadata": {
        "id": "9_9XhL9JwGFo"
      },
      "outputs": [],
      "source": [
        "from lightning import LightningDataModule\n",
        "from torch.utils.data import DataLoader, random_split"
      ]
    },
    {
      "cell_type": "code",
      "execution_count": 19,
      "metadata": {
        "id": "ilFDZG5VLqFN"
      },
      "outputs": [],
      "source": [
        "class MyDataModule(LightningDataModule):\n",
        "    def __init__(self, data: Dataset, batch_size: int = 32, val_size:float = 0.1, test_size:float = 0.1):\n",
        "        super().__init__()\n",
        "\n",
        "        # Initialize the variables\n",
        "        self.data = data\n",
        "        self.batch_size = batch_size\n",
        "\n",
        "        self.train_size = 1 - val_size - test_size\n",
        "        self.val_size = val_size\n",
        "        self.test_size = test_size\n",
        "\n",
        "        # Set the seed for reproducibility\n",
        "        self.random_seed = 101\n",
        "\n",
        "    def setup(self, stage:str):\n",
        "\n",
        "        # Create the splits\n",
        "        train_set, val_set, test_set = random_split(\n",
        "            dataset = self.data,\n",
        "            generator = torch.Generator().manual_seed(self.random_seed),\n",
        "            lengths = [self.train_size, self.val_size, self.test_size])\n",
        "\n",
        "        self.train_set = train_set\n",
        "        self.val_set = val_set\n",
        "        self.test_set = test_set\n",
        "\n",
        "        print('\\nINPUTS:', len(self.data), '--> TRAIN:', round(((len(self.train_set) / len(self.data)) * 100), 1), '%',\n",
        "              '|| VALIDATION:', round(((len(self.val_set) / len(self.data)) * 100), 1), '%',\n",
        "              '|| TEST:', round(((len(self.test_set) / len(self.data)) * 100), 1), '%', '\\n')\n",
        "\n",
        "    def train_dataloader(self):\n",
        "        return DataLoader(self.train_set, batch_size = self.batch_size, shuffle = True)\n",
        "\n",
        "    def val_dataloader(self):\n",
        "        return DataLoader(self.val_set, batch_size = self.batch_size, shuffle = False)\n",
        "\n",
        "    def test_dataloader(self):\n",
        "        return DataLoader(self.test_set, batch_size = self.batch_size, shuffle = False)"
      ]
    },
    {
      "cell_type": "markdown",
      "metadata": {
        "id": "sGIkgriGR6Lc"
      },
      "source": [
        "# Create our probe\n",
        "### A multiclass classifier that extracts latent features ($y_i \\in \\mathcal{Y}$; classes) from LLM embeddings\n",
        "$ \\mathcal{F}: \\mathbb{R}^d \\to \\mathcal{Y}, \\quad emb_{doc} \\to label_{doc}$"
      ]
    },
    {
      "cell_type": "code",
      "execution_count": 20,
      "metadata": {
        "id": "kU2rFz5kSUzq"
      },
      "outputs": [],
      "source": [
        "import torch.nn as nn"
      ]
    },
    {
      "cell_type": "code",
      "execution_count": 21,
      "metadata": {
        "id": "Sb9kJVzDSOgm"
      },
      "outputs": [],
      "source": [
        "class Network(nn.Module):\n",
        "    def __init__(self, input_dim:int, num_classes: int):\n",
        "        super().__init__()\n",
        "\n",
        "        self.num_classes = num_classes\n",
        "        self.input_dim = input_dim\n",
        "\n",
        "        # Set the latent dimension\n",
        "        self.latent_dim = 512\n",
        "\n",
        "        # Set the probability for the dropout layer\n",
        "        self.drop_p = 0.5\n",
        "\n",
        "        # Encoder layers\n",
        "        self.decoder_layer = nn.Sequential(\n",
        "            nn.Linear(self.input_dim, self.latent_dim),\n",
        "            nn.ReLU(),\n",
        "            nn.LayerNorm(self.latent_dim),\n",
        "            nn.Dropout(self.drop_p)\n",
        "        )\n",
        "\n",
        "        # Output layers\n",
        "        self.output_layer = nn.Sequential(\n",
        "            nn.LayerNorm(self.latent_dim),\n",
        "            nn.Linear(self.latent_dim, self.num_classes),\n",
        "            nn.Softmax(dim = 1) # Get probability distribution over the classes [batch_size, num_classes]\n",
        "        )\n",
        "\n",
        "    def forward(self, x):\n",
        "\n",
        "        # Learn the latent fetures from the LLM embeddings\n",
        "        x = self.decoder_layer(x)\n",
        "\n",
        "        # Output layer with the SoftMax\n",
        "        out = self.output_layer(x)\n",
        "\n",
        "        return out"
      ]
    },
    {
      "cell_type": "markdown",
      "metadata": {
        "id": "sZ4Y8xvQf00N"
      },
      "source": [
        "### Why do we consider the median hidden layer?"
      ]
    },
    {
      "cell_type": "markdown",
      "metadata": {
        "id": "woHOnid7XlfK"
      },
      "source": [
        "# Define the loss function and the training process"
      ]
    },
    {
      "cell_type": "code",
      "execution_count": 22,
      "metadata": {
        "id": "MX5OzamuWw6a"
      },
      "outputs": [],
      "source": [
        "from lightning import LightningModule\n",
        "from torchmetrics.classification import F1Score, Precision, Recall"
      ]
    },
    {
      "cell_type": "code",
      "execution_count": 23,
      "metadata": {
        "id": "BaxP8SacW_mn"
      },
      "outputs": [],
      "source": [
        "class Classifier(LightningModule):\n",
        "    def __init__(self, num_classes: int, input_dim:int, lr:float):\n",
        "        super().__init__()\n",
        "\n",
        "        # Unpacked the configs\n",
        "        self.lr = lr\n",
        "\n",
        "        # Load our custom model\n",
        "        self.model = Network(input_dim, num_classes)\n",
        "\n",
        "        # Define the loss function\n",
        "        self.loss_function = nn.CrossEntropyLoss()\n",
        "\n",
        "        # Define the classification metrics for the validation and test sets\n",
        "        self.val_history = {'F1': [], 'precision': [], 'recall': []}\n",
        "\n",
        "        # Define the classification metrics for the validation and test sets\n",
        "        self.val_f1 = F1Score(task=\"multiclass\", num_classes = num_classes, average=\"macro\")\n",
        "        self.test_f1 = F1Score(task=\"multiclass\", num_classes = num_classes, average=\"macro\")\n",
        "\n",
        "        self.val_precision = Precision(task=\"multiclass\", num_classes = num_classes, average=\"macro\")\n",
        "        self.test_precision = Precision(task=\"multiclass\", num_classes = num_classes, average=\"macro\")\n",
        "\n",
        "        self.val_recall = Recall(task=\"multiclass\", num_classes = num_classes, average=\"macro\")\n",
        "        self.test_recall = Recall(task=\"multiclass\", num_classes = num_classes, average=\"macro\")\n",
        "\n",
        "        self.val_history = {'F1': [], 'precision': [], 'recall': []}\n",
        "\n",
        "    # Define the optimizer\n",
        "    def configure_optimizers(self):\n",
        "        return torch.optim.AdamW(self.parameters(), lr = self.lr)\n",
        "\n",
        "    def forward(self, x):\n",
        "        return self.model(x)\n",
        "\n",
        "    def _step(self, batch, batch_idx):\n",
        "\n",
        "        # Unpack the batch\n",
        "        docs, labels = batch\n",
        "\n",
        "        # Forward pass\n",
        "        outputs = self(docs)\n",
        "\n",
        "        # Compute the loss\n",
        "        loss = self.loss_function(outputs, labels)\n",
        "\n",
        "        # Get the most likely class\n",
        "        preds = torch.argmax(outputs, dim=1)\n",
        "\n",
        "        return loss, preds, labels\n",
        "\n",
        "    def training_step(self, batch, batch_idx):\n",
        "        loss, *_  = self._step(batch, batch_idx)\n",
        "\n",
        "        # Log metrics\n",
        "        self.log('train_loss', loss, on_step=False, on_epoch=True, prog_bar=True)\n",
        "\n",
        "        return loss\n",
        "\n",
        "    def validation_step(self, batch, batch_idx):\n",
        "        with torch.inference_mode():\n",
        "            loss, preds, labels  = self._step(batch, batch_idx)\n",
        "\n",
        "        # Compute the classification metrics for the validation set\n",
        "        self.val_precision.update(preds, labels)\n",
        "        self.val_recall.update(preds, labels)\n",
        "        self.val_f1.update(preds, labels)\n",
        "\n",
        "        # Log metrics\n",
        "        self.log('val_loss', loss, on_step=False, on_epoch=True, prog_bar=True)\n",
        "        self.log('val_precision', self.val_precision, on_step=False, on_epoch=True, prog_bar=True)\n",
        "        self.log('val_recall', self.val_recall, on_step=False, on_epoch=True, prog_bar=True)\n",
        "        self.log('val_f1', self.val_f1, on_step=False, on_epoch=True, prog_bar=True)\n",
        "\n",
        "    def on_validation_epoch_end(self):\n",
        "        self.val_history['precision'].append(self.trainer.callback_metrics[\"val_precision\"].item())\n",
        "        self.val_history['recall'].append(self.trainer.callback_metrics[\"val_recall\"].item())\n",
        "        self.val_history['F1'].append(self.trainer.callback_metrics[\"val_f1\"].item())\n",
        "\n",
        "        # Visualize the metrics every two epochs\n",
        "        if (self.current_epoch + 1) % 2 == 0:\n",
        "            df = pd.DataFrame(self.val_history)\n",
        "            plot_values(df, epoch_number = self.current_epoch + 1)\n",
        "\n",
        "    def test_step(self, batch, batch_idx):\n",
        "        with torch.inference_mode():\n",
        "            _, preds, labels  = self._step(batch, batch_idx)\n",
        "\n",
        "        # Compute the classification metrics for the test set\n",
        "        self.test_precision.update(preds, labels)\n",
        "        self.test_recall.update(preds, labels)\n",
        "        self.test_f1.update(preds, labels)\n",
        "\n",
        "        # Log metrics\n",
        "        self.log('test_precision', self.test_precision, on_epoch=True, prog_bar=True)\n",
        "        self.log('test_recall', self.test_recall, on_epoch=True, prog_bar=True)\n",
        "        self.log('test_f1', self.test_f1, on_epoch=True, prog_bar=True)\n"
      ]
    },
    {
      "cell_type": "markdown",
      "metadata": {
        "id": "Qn_fxdOiwGFs"
      },
      "source": [
        "### Create the plot the visualize the metrics during training"
      ]
    },
    {
      "cell_type": "code",
      "execution_count": 24,
      "metadata": {
        "id": "cd4FBuKnwGF2"
      },
      "outputs": [
        {
          "name": "stdout",
          "output_type": "stream",
          "text": [
            "Requirement already satisfied: seaborn in ./.venv/lib/python3.10/site-packages (0.13.2)\n",
            "Requirement already satisfied: numpy!=1.24.0,>=1.20 in ./.venv/lib/python3.10/site-packages (from seaborn) (1.26.4)\n",
            "Requirement already satisfied: pandas>=1.2 in ./.venv/lib/python3.10/site-packages (from seaborn) (2.3.3)\n",
            "Requirement already satisfied: matplotlib!=3.6.1,>=3.4 in ./.venv/lib/python3.10/site-packages (from seaborn) (3.10.6)\n",
            "Requirement already satisfied: contourpy>=1.0.1 in ./.venv/lib/python3.10/site-packages (from matplotlib!=3.6.1,>=3.4->seaborn) (1.3.2)\n",
            "Requirement already satisfied: cycler>=0.10 in ./.venv/lib/python3.10/site-packages (from matplotlib!=3.6.1,>=3.4->seaborn) (0.12.1)\n",
            "Requirement already satisfied: fonttools>=4.22.0 in ./.venv/lib/python3.10/site-packages (from matplotlib!=3.6.1,>=3.4->seaborn) (4.60.0)\n",
            "Requirement already satisfied: kiwisolver>=1.3.1 in ./.venv/lib/python3.10/site-packages (from matplotlib!=3.6.1,>=3.4->seaborn) (1.4.9)\n",
            "Requirement already satisfied: packaging>=20.0 in ./.venv/lib/python3.10/site-packages (from matplotlib!=3.6.1,>=3.4->seaborn) (25.0)\n",
            "Requirement already satisfied: pillow>=8 in ./.venv/lib/python3.10/site-packages (from matplotlib!=3.6.1,>=3.4->seaborn) (11.3.0)\n",
            "Requirement already satisfied: pyparsing>=2.3.1 in ./.venv/lib/python3.10/site-packages (from matplotlib!=3.6.1,>=3.4->seaborn) (3.2.5)\n",
            "Requirement already satisfied: python-dateutil>=2.7 in ./.venv/lib/python3.10/site-packages (from matplotlib!=3.6.1,>=3.4->seaborn) (2.9.0.post0)\n",
            "Requirement already satisfied: pytz>=2020.1 in ./.venv/lib/python3.10/site-packages (from pandas>=1.2->seaborn) (2025.2)\n",
            "Requirement already satisfied: tzdata>=2022.7 in ./.venv/lib/python3.10/site-packages (from pandas>=1.2->seaborn) (2025.2)\n",
            "Requirement already satisfied: six>=1.5 in ./.venv/lib/python3.10/site-packages (from python-dateutil>=2.7->matplotlib!=3.6.1,>=3.4->seaborn) (1.17.0)\n"
          ]
        }
      ],
      "source": [
        "!pip install seaborn"
      ]
    },
    {
      "cell_type": "code",
      "execution_count": 25,
      "metadata": {
        "id": "X23txBAzZP6T"
      },
      "outputs": [],
      "source": [
        "from matplotlib.ticker import MaxNLocator\n",
        "import matplotlib.pyplot as plt\n",
        "import seaborn as sns"
      ]
    },
    {
      "cell_type": "code",
      "execution_count": 26,
      "metadata": {
        "id": "rnuohNOBVTBT"
      },
      "outputs": [],
      "source": [
        "def plot_values(df, epoch_number):\n",
        "    colors = {'F1': 'tab:blue', 'precision': 'tab:green', 'recall': 'tab:orange'}\n",
        "\n",
        "    # Plot the metrics as lines\n",
        "    sns.lineplot(data = df, palette = colors, marker = 'o')\n",
        "\n",
        "    # Some graphical setting\n",
        "    ax = plt.gca()\n",
        "    ax.xaxis.set_major_locator(MaxNLocator(integer=True))\n",
        "    ax.set_title(f'VALIDATION (epoch {epoch_number})')\n",
        "    ax.grid(True)\n",
        "    ax.legend(title=\"Metric\")\n",
        "\n",
        "    plt.show()"
      ]
    },
    {
      "cell_type": "markdown",
      "metadata": {
        "id": "4C2y_zDzWlnU"
      },
      "source": [
        "# Train our custom neural models with Pytorch Lighting"
      ]
    },
    {
      "cell_type": "code",
      "execution_count": 27,
      "metadata": {
        "id": "NndTpyOcaZSM"
      },
      "outputs": [],
      "source": [
        "num_epochs = 10\n",
        "learning_rate = 1e-4"
      ]
    },
    {
      "cell_type": "code",
      "execution_count": 28,
      "metadata": {
        "id": "6OSyOLFDwGF4"
      },
      "outputs": [],
      "source": [
        "probe = Classifier(\n",
        "    num_classes = dataset.get_num_classes(),\n",
        "    input_dim = dataset.get_embedding_dim(),\n",
        "    lr = learning_rate)\n",
        "dataloaders = MyDataModule(dataset, batch_size = 32, val_size = 0.1, test_size = 0.1)"
      ]
    },
    {
      "cell_type": "code",
      "execution_count": 29,
      "metadata": {
        "id": "sDrRxDFzaVGI"
      },
      "outputs": [],
      "source": [
        "from lightning import Trainer"
      ]
    },
    {
      "cell_type": "code",
      "execution_count": 30,
      "metadata": {
        "id": "sf_F7E3QZ-BB"
      },
      "outputs": [
        {
          "name": "stderr",
          "output_type": "stream",
          "text": [
            "Trainer will use only 1 of 2 GPUs because it is running inside an interactive / notebook environment. You may try to set `Trainer(devices=2)` but please note that multi-GPU inside interactive / notebook environments is considered experimental and unstable. Your mileage may vary.\n",
            "💡 Tip: For seamless cloud uploads and versioning, try installing [litmodels](https://pypi.org/project/litmodels/) to enable LitModelCheckpoint, which syncs automatically with the Lightning model registry.\n",
            "GPU available: True (cuda), used: True\n",
            "TPU available: False, using: 0 TPU cores\n",
            "HPU available: False, using: 0 HPUs\n",
            "/home/bronzini/repositories/FM_2025/.venv/lib/python3.10/site-packages/lightning/pytorch/trainer/connectors/logger_connector/logger_connector.py:76: Starting from v1.9.0, `tensorboardX` has been removed as a dependency of the `lightning.pytorch` package, due to potential conflicts with other packages in the ML ecosystem. For this reason, `logger=True` will use `CSVLogger` as the default logger, unless the `tensorboard` or `tensorboardX` packages are found. Please `pip install lightning[extra]` or one of them to enable TensorBoard support by default\n",
            "You are using a CUDA device ('NVIDIA GeForce RTX 4090') that has Tensor Cores. To properly utilize them, you should set `torch.set_float32_matmul_precision('medium' | 'high')` which will trade-off precision for performance. For more details, read https://pytorch.org/docs/stable/generated/torch.set_float32_matmul_precision.html#torch.set_float32_matmul_precision\n",
            "LOCAL_RANK: 0 - CUDA_VISIBLE_DEVICES: [0,1]\n"
          ]
        },
        {
          "name": "stdout",
          "output_type": "stream",
          "text": [
            "\n",
            "INPUTS: 3096 --> TRAIN: 80.0 % || VALIDATION: 10.0 % || TEST: 10.0 % \n",
            "\n"
          ]
        },
        {
          "name": "stderr",
          "output_type": "stream",
          "text": [
            "\n",
            "  | Name           | Type                | Params | Mode \n",
            "---------------------------------------------------------------\n",
            "0 | model          | Network             | 396 K  | train\n",
            "1 | loss_function  | CrossEntropyLoss    | 0      | train\n",
            "2 | val_f1         | MulticlassF1Score   | 0      | train\n",
            "3 | test_f1        | MulticlassF1Score   | 0      | train\n",
            "4 | val_precision  | MulticlassPrecision | 0      | train\n",
            "5 | test_precision | MulticlassPrecision | 0      | train\n",
            "6 | val_recall     | MulticlassRecall    | 0      | train\n",
            "7 | test_recall    | MulticlassRecall    | 0      | train\n",
            "---------------------------------------------------------------\n",
            "396 K     Trainable params\n",
            "0         Non-trainable params\n",
            "396 K     Total params\n",
            "1.587     Total estimated model params size (MB)\n",
            "17        Modules in train mode\n",
            "0         Modules in eval mode\n"
          ]
        },
        {
          "name": "stdout",
          "output_type": "stream",
          "text": [
            "Sanity Checking DataLoader 0:   0%|          | 0/2 [00:00<?, ?it/s]"
          ]
        },
        {
          "name": "stderr",
          "output_type": "stream",
          "text": [
            "/home/bronzini/repositories/FM_2025/.venv/lib/python3.10/site-packages/lightning/pytorch/trainer/connectors/data_connector.py:433: The 'val_dataloader' does not have many workers which may be a bottleneck. Consider increasing the value of the `num_workers` argument` to `num_workers=31` in the `DataLoader` to improve performance.\n"
          ]
        },
        {
          "name": "stdout",
          "output_type": "stream",
          "text": [
            "                                                                           "
          ]
        },
        {
          "name": "stderr",
          "output_type": "stream",
          "text": [
            "/home/bronzini/repositories/FM_2025/.venv/lib/python3.10/site-packages/lightning/pytorch/trainer/connectors/data_connector.py:433: The 'train_dataloader' does not have many workers which may be a bottleneck. Consider increasing the value of the `num_workers` argument` to `num_workers=31` in the `DataLoader` to improve performance.\n"
          ]
        },
        {
          "name": "stdout",
          "output_type": "stream",
          "text": [
            "Epoch 1: 100%|██████████| 78/78 [00:00<00:00, 322.83it/s, v_num=29, val_loss=0.664, val_precision=0.624, val_recall=0.623, val_f1=0.622, train_loss=0.698]"
          ]
        },
        {
          "data": {
            "image/png": "[encoded data removed]",
            "text/plain": [
              "<Figure size 640x480 with 1 Axes>"
            ]
          },
          "metadata": {},
          "output_type": "display_data"
        },
        {
          "name": "stdout",
          "output_type": "stream",
          "text": [
            "Epoch 3: 100%|██████████| 78/78 [00:00<00:00, 328.13it/s, v_num=29, val_loss=0.654, val_precision=0.595, val_recall=0.589, val_f1=0.582, train_loss=0.641]"
          ]
        },
        {
          "data": {
            "image/png": "[encoded data removed]",
            "text/plain": [
              "<Figure size 640x480 with 1 Axes>"
            ]
          },
          "metadata": {},
          "output_type": "display_data"
        },
        {
          "name": "stdout",
          "output_type": "stream",
          "text": [
            "Epoch 5: 100%|██████████| 78/78 [00:00<00:00, 322.63it/s, v_num=29, val_loss=0.656, val_precision=0.613, val_recall=0.613, val_f1=0.613, train_loss=0.621]"
          ]
        },
        {
          "data": {
            "image/png": "[encoded data removed]",
            "text/plain": [
              "<Figure size 640x480 with 1 Axes>"
            ]
          },
          "metadata": {},
          "output_type": "display_data"
        },
        {
          "name": "stdout",
          "output_type": "stream",
          "text": [
            "Epoch 7: 100%|██████████| 78/78 [00:00<00:00, 333.06it/s, v_num=29, val_loss=0.668, val_precision=0.597, val_recall=0.596, val_f1=0.596, train_loss=0.603]"
          ]
        },
        {
          "data": {
            "image/png": "[encoded data removed]",
            "text/plain": [
              "<Figure size 640x480 with 1 Axes>"
            ]
          },
          "metadata": {},
          "output_type": "display_data"
        },
        {
          "name": "stdout",
          "output_type": "stream",
          "text": [
            "Epoch 9: 100%|██████████| 78/78 [00:00<00:00, 332.14it/s, v_num=29, val_loss=0.673, val_precision=0.628, val_recall=0.621, val_f1=0.615, train_loss=0.586]"
          ]
        },
        {
          "data": {
            "image/png": "[encoded data removed]",
            "text/plain": [
              "<Figure size 640x480 with 1 Axes>"
            ]
          },
          "metadata": {},
          "output_type": "display_data"
        },
        {
          "name": "stdout",
          "output_type": "stream",
          "text": [
            "Epoch 9: 100%|██████████| 78/78 [00:00<00:00, 219.00it/s, v_num=29, val_loss=0.669, val_precision=0.617, val_recall=0.617, val_f1=0.616, train_loss=0.582]"
          ]
        },
        {
          "name": "stderr",
          "output_type": "stream",
          "text": [
            "`Trainer.fit` stopped: `max_epochs=10` reached.\n"
          ]
        },
        {
          "name": "stdout",
          "output_type": "stream",
          "text": [
            "Epoch 9: 100%|██████████| 78/78 [00:00<00:00, 212.69it/s, v_num=29, val_loss=0.669, val_precision=0.617, val_recall=0.617, val_f1=0.616, train_loss=0.582]\n"
          ]
        }
      ],
      "source": [
        "trainer = Trainer(max_epochs = num_epochs)\n",
        "trainer.fit(probe, datamodule=dataloaders)"
      ]
    },
    {
      "cell_type": "markdown",
      "metadata": {
        "id": "LtJWlc0NSvYn"
      },
      "source": [
        "# Compute metrics on the test set"
      ]
    },
    {
      "cell_type": "code",
      "execution_count": 31,
      "metadata": {
        "id": "cVWO1gR9wGF8"
      },
      "outputs": [
        {
          "name": "stderr",
          "output_type": "stream",
          "text": [
            "LOCAL_RANK: 0 - CUDA_VISIBLE_DEVICES: [0,1]\n"
          ]
        },
        {
          "name": "stdout",
          "output_type": "stream",
          "text": [
            "\n",
            "INPUTS: 3096 --> TRAIN: 80.0 % || VALIDATION: 10.0 % || TEST: 10.0 % \n",
            "\n"
          ]
        },
        {
          "name": "stderr",
          "output_type": "stream",
          "text": [
            "/home/bronzini/repositories/FM_2025/.venv/lib/python3.10/site-packages/lightning/pytorch/trainer/connectors/data_connector.py:433: The 'test_dataloader' does not have many workers which may be a bottleneck. Consider increasing the value of the `num_workers` argument` to `num_workers=31` in the `DataLoader` to improve performance.\n"
          ]
        },
        {
          "name": "stdout",
          "output_type": "stream",
          "text": [
            "Testing DataLoader 0: 100%|██████████| 10/10 [00:00<00:00, 201.84it/s]\n",
            "────────────────────────────────────────────────────────────────────────────────────────────────────────────────────────\n",
            "       Test metric             DataLoader 0\n",
            "────────────────────────────────────────────────────────────────────────────────────────────────────────────────────────\n",
            "         test_f1            0.6213433742523193\n",
            "     test_precision         0.6216267347335815\n",
            "       test_recall          0.6216981410980225\n",
            "────────────────────────────────────────────────────────────────────────────────────────────────────────────────────────\n"
          ]
        }
      ],
      "source": [
        "test_metrics = trainer.test(model = probe, datamodule=dataloaders)"
      ]
    },
    {
      "cell_type": "code",
      "execution_count": 32,
      "metadata": {
        "id": "OFrIyly-wGF9"
      },
      "outputs": [],
      "source": [
        "import json\n",
        "with open(f\"metrics.json\", mode = \"a+\") as f:\n",
        "    json.dump({data.attrs['name']: test_metrics}, f, indent=4)"
      ]
    },
    {
      "cell_type": "markdown",
      "metadata": {
        "id": "MAUUupcKwGF9"
      },
      "source": [
        "# Test with out-of-distribution documents"
      ]
    },
    {
      "cell_type": "code",
      "execution_count": 33,
      "metadata": {
        "id": "cz8vTimNwGF9"
      },
      "outputs": [],
      "source": [
        "lang_docs = [\n",
        "    'Life is full of surprises', # English (en)\n",
        "    'La vita è piena di sorprese', # Italian (it)\n",
        "    'as Leben ist voller Überraschungen', # German (de)\n",
        "    'La vida está llena de sorpresas', # Spanish (es)\n",
        "    'La vie est pleine de surprises', # French (fr)\n",
        "    '人生は驚きに満ちている' # Japanese (ja)\n",
        "]\n",
        "\n",
        "# Add tricky samples (italian sentences with some english words)\n",
        "lang_docs.append(\"Se non deliveriamo the project by next week, saremmo in big problems\")\n",
        "lang_docs.append(\"If non deliveriamo the project by next week, saremmo in big problems\")"
      ]
    },
    {
      "cell_type": "code",
      "execution_count": 34,
      "metadata": {
        "id": "pYT8zMcSwGF-"
      },
      "outputs": [],
      "source": [
        "tense_docs = [\n",
        "    'I will go to the store tomorrow', # FUTURE\n",
        "    'She is reading a book', # PRESENT\n",
        "    'They played soccer last weekend', # PAST\n",
        "    'We are going to the park later', # PRESENT\n",
        "    'He will finish his homework tonight', # FUTURE\n",
        "    'I walked to school yesterday' # PAST\n",
        "]"
      ]
    },
    {
      "cell_type": "code",
      "execution_count": 35,
      "metadata": {
        "id": "9EI79Z5v_Gw3"
      },
      "outputs": [],
      "source": [
        "truthfulness_docs = ['The earth is flat', 'Water boils at 100 degrees Celsius', 'The sky is green', 'The sky is blue', 'Renault 8 is produced by Fiat']"
      ]
    },
    {
      "cell_type": "code",
      "execution_count": 36,
      "metadata": {
        "id": "73Js0TOkwGF-"
      },
      "outputs": [],
      "source": [
        "if data.attrs['name'] == 'lang':\n",
        "    docs = lang_docs\n",
        "elif data.attrs['name'] == 'tense':\n",
        "    docs = tense_docs\n",
        "elif data.attrs['name'] == 'truth':\n",
        "    docs = truthfulness_docs"
      ]
    },
    {
      "cell_type": "markdown",
      "metadata": {
        "id": "U-Ydo3xBwGF_"
      },
      "source": [
        "### Initialize the language models and our trained probe"
      ]
    },
    {
      "cell_type": "code",
      "execution_count": 37,
      "metadata": {
        "id": "n7r_K9XiwGF_"
      },
      "outputs": [
        {
          "data": {
            "text/plain": [
              "Classifier(\n",
              "  (model): Network(\n",
              "    (decoder_layer): Sequential(\n",
              "      (0): Linear(in_features=768, out_features=512, bias=True)\n",
              "      (1): ReLU()\n",
              "      (2): LayerNorm((512,), eps=1e-05, elementwise_affine=True)\n",
              "      (3): Dropout(p=0.5, inplace=False)\n",
              "    )\n",
              "    (output_layer): Sequential(\n",
              "      (0): LayerNorm((512,), eps=1e-05, elementwise_affine=True)\n",
              "      (1): Linear(in_features=512, out_features=2, bias=True)\n",
              "      (2): Softmax(dim=1)\n",
              "    )\n",
              "  )\n",
              "  (loss_function): CrossEntropyLoss()\n",
              "  (val_f1): MulticlassF1Score()\n",
              "  (test_f1): MulticlassF1Score()\n",
              "  (val_precision): MulticlassPrecision()\n",
              "  (test_precision): MulticlassPrecision()\n",
              "  (val_recall): MulticlassRecall()\n",
              "  (test_recall): MulticlassRecall()\n",
              ")"
            ]
          },
          "execution_count": 37,
          "metadata": {},
          "output_type": "execute_result"
        }
      ],
      "source": [
        "# Initialize the tokenizer and the LLM\n",
        "tokenizer = AutoTokenizer.from_pretrained(llm_name)\n",
        "llm = AutoModel.from_pretrained(llm_name).to(device)\n",
        "llm.eval()\n",
        "\n",
        "# Turn the trained model to evaluation mode\n",
        "probe.eval()"
      ]
    },
    {
      "cell_type": "markdown",
      "metadata": {
        "id": "HPMcSewowGGA"
      },
      "source": [
        "### Apply the probe on the documents\n",
        "1. Get the embeddings for the document using the LLM\n",
        "2. Feed the embeddings into the trained probe\n",
        "3. Get the predicted classes"
      ]
    },
    {
      "cell_type": "code",
      "execution_count": 38,
      "metadata": {
        "id": "ELdTgwNZwGGB"
      },
      "outputs": [
        {
          "name": "stdout",
          "output_type": "stream",
          "text": [
            "The earth is flat --> False (0.65)\n",
            "Water boils at 100 degrees Celsius --> False (0.96)\n",
            "The sky is green --> False (0.95)\n",
            "The sky is blue --> False (0.78)\n",
            "Renault 8 is produced by Fiat --> False (0.95)\n"
          ]
        }
      ],
      "source": [
        "# Apply the trained model to external data\n",
        "with torch.inference_mode():\n",
        "\n",
        "    # Get the embeddings for the new documents\n",
        "    embeddings = list()\n",
        "    for doc in docs:\n",
        "\n",
        "        # Tokenize the textual document (x)\n",
        "        input_ids = tokenizer(doc, return_tensors = 'pt').to(llm.device)\n",
        "\n",
        "        # Process the tokenized document using the frozen LLM\n",
        "        llm_output = llm(**input_ids, output_hidden_states=True)\n",
        "\n",
        "        # Get the embeddings from the last hidden layer [batch_size, seq_len, hidden_dim]\n",
        "        selected_layer = llm.config.num_hidden_layers // 2 # -1\n",
        "        embedding = llm_output.hidden_states[selected_layer][:, -1, :].detach().cpu().squeeze()\n",
        "        embeddings.append(embedding)\n",
        "\n",
        "    # Stack the embeddings into a single tensor\n",
        "    embeddings = torch.stack(embeddings)\n",
        "\n",
        "    # Get the outputs from the trained probe\n",
        "    outputs = probe(embeddings)\n",
        "\n",
        "# Get the predicted labels\n",
        "preds = torch.argmax(outputs, dim=1)\n",
        "predicted_labels = [dataset.class_mapping[pred.item()] for pred in preds]\n",
        "\n",
        "# Show the predictions\n",
        "for doc, predicted_label, scores in zip(docs, predicted_labels, outputs):\n",
        "    pred_score = torch.max(scores).item()\n",
        "    print(doc, '-->', predicted_label, f\"({pred_score:.2f})\")"
      ]
    }
  ],
  "metadata": {
    "accelerator": "GPU",
    "colab": {
      "gpuType": "T4",
      "include_colab_link": true,
      "provenance": []
    },
    "kernelspec": {
      "display_name": ".venv",
      "language": "python",
      "name": "python3"
    },
    "language_info": {
      "codemirror_mode": {
        "name": "ipython",
        "version": 3
      },
      "file_extension": ".py",
      "mimetype": "text/x-python",
      "name": "python",
      "nbconvert_exporter": "python",
      "pygments_lexer": "ipython3",
      "version": "3.10.12"
    },
    "widgets": {
      "application/vnd.jupyter.widget-state+json": {
        "00e737fe0307419e9f5c669bc287370c": {
          "model_module": "@jupyter-widgets/controls",
          "model_module_version": "1.5.0",
          "model_name": "HTMLModel",
          "state": {
            "_dom_classes": [],
            "_model_module": "@jupyter-widgets/controls",
            "_model_module_version": "1.5.0",
            "_model_name": "HTMLModel",
            "_view_count": null,
            "_view_module": "@jupyter-widgets/controls",
            "_view_module_version": "1.5.0",
            "_view_name": "HTMLView",
            "description": "",
            "description_tooltip": null,
            "layout": "IPY_MODEL_b165a071ea1841f29730747d5885ebd8",
            "placeholder": "​",
            "style": "IPY_MODEL_338234c4a51a4e82b3085d6933b1a535",
            "value": " 1.04M/? [00:00&lt;00:00, 35.5MB/s]"
          }
        },
        "064e01a59ec24e4ba31e22645eb8f2f2": {
          "model_module": "@jupyter-widgets/base",
          "model_module_version": "1.2.0",
          "model_name": "LayoutModel",
          "state": {
            "_model_module": "@jupyter-widgets/base",
            "_model_module_version": "1.2.0",
            "_model_name": "LayoutModel",
            "_view_count": null,
            "_view_module": "@jupyter-widgets/base",
            "_view_module_version": "1.2.0",
            "_view_name": "LayoutView",
            "align_content": null,
            "align_items": null,
            "align_self": null,
            "border": null,
            "bottom": null,
            "display": null,
            "flex": null,
            "flex_flow": null,
            "grid_area": null,
            "grid_auto_columns": null,
            "grid_auto_flow": null,
            "grid_auto_rows": null,
            "grid_column": null,
            "grid_gap": null,
            "grid_row": null,
            "grid_template_areas": null,
            "grid_template_columns": null,
            "grid_template_rows": null,
            "height": null,
            "justify_content": null,
            "justify_items": null,
            "left": null,
            "margin": null,
            "max_height": null,
            "max_width": null,
            "min_height": null,
            "min_width": null,
            "object_fit": null,
            "object_position": null,
            "order": null,
            "overflow": null,
            "overflow_x": null,
            "overflow_y": null,
            "padding": null,
            "right": null,
            "top": null,
            "visibility": null,
            "width": "20px"
          }
        },
        "06783ad5d6fc477fa7b7c7d37e0ae68f": {
          "model_module": "@jupyter-widgets/controls",
          "model_module_version": "1.5.0",
          "model_name": "DescriptionStyleModel",
          "state": {
            "_model_module": "@jupyter-widgets/controls",
            "_model_module_version": "1.5.0",
            "_model_name": "DescriptionStyleModel",
            "_view_count": null,
            "_view_module": "@jupyter-widgets/base",
            "_view_module_version": "1.2.0",
            "_view_name": "StyleView",
            "description_width": ""
          }
        },
        "0b9b8d9cd2504aafa4ab7327b9bf9ac7": {
          "model_module": "@jupyter-widgets/base",
          "model_module_version": "1.2.0",
          "model_name": "LayoutModel",
          "state": {
            "_model_module": "@jupyter-widgets/base",
            "_model_module_version": "1.2.0",
            "_model_name": "LayoutModel",
            "_view_count": null,
            "_view_module": "@jupyter-widgets/base",
            "_view_module_version": "1.2.0",
            "_view_name": "LayoutView",
            "align_content": null,
            "align_items": null,
            "align_self": null,
            "border": null,
            "bottom": null,
            "display": null,
            "flex": null,
            "flex_flow": null,
            "grid_area": null,
            "grid_auto_columns": null,
            "grid_auto_flow": null,
            "grid_auto_rows": null,
            "grid_column": null,
            "grid_gap": null,
            "grid_row": null,
            "grid_template_areas": null,
            "grid_template_columns": null,
            "grid_template_rows": null,
            "height": null,
            "justify_content": null,
            "justify_items": null,
            "left": null,
            "margin": null,
            "max_height": null,
            "max_width": null,
            "min_height": null,
            "min_width": null,
            "object_fit": null,
            "object_position": null,
            "order": null,
            "overflow": null,
            "overflow_x": null,
            "overflow_y": null,
            "padding": null,
            "right": null,
            "top": null,
            "visibility": null,
            "width": null
          }
        },
        "0c9d7b42232a4535821bf7a70f005bc5": {
          "model_module": "@jupyter-widgets/controls",
          "model_module_version": "1.5.0",
          "model_name": "ProgressStyleModel",
          "state": {
            "_model_module": "@jupyter-widgets/controls",
            "_model_module_version": "1.5.0",
            "_model_name": "ProgressStyleModel",
            "_view_count": null,
            "_view_module": "@jupyter-widgets/base",
            "_view_module_version": "1.2.0",
            "_view_name": "StyleView",
            "bar_color": null,
            "description_width": ""
          }
        },
        "0ef6c27562d14d3193e0f2bd663a9b83": {
          "model_module": "@jupyter-widgets/controls",
          "model_module_version": "1.5.0",
          "model_name": "HBoxModel",
          "state": {
            "_dom_classes": [],
            "_model_module": "@jupyter-widgets/controls",
            "_model_module_version": "1.5.0",
            "_model_name": "HBoxModel",
            "_view_count": null,
            "_view_module": "@jupyter-widgets/controls",
            "_view_module_version": "1.5.0",
            "_view_name": "HBoxView",
            "box_style": "",
            "children": [
              "IPY_MODEL_bf2dcc72870642f2b6aa66eac36f1845",
              "IPY_MODEL_9e41c7b748f94b9f8f0a834ff776bd19",
              "IPY_MODEL_31c2012c5b3c4efa93e03bd088c16aa7"
            ],
            "layout": "IPY_MODEL_97f4a986cdca463c875d13dda5acffed"
          }
        },
        "16184731c38b493abc56e360d7df9876": {
          "model_module": "@jupyter-widgets/base",
          "model_module_version": "1.2.0",
          "model_name": "LayoutModel",
          "state": {
            "_model_module": "@jupyter-widgets/base",
            "_model_module_version": "1.2.0",
            "_model_name": "LayoutModel",
            "_view_count": null,
            "_view_module": "@jupyter-widgets/base",
            "_view_module_version": "1.2.0",
            "_view_name": "LayoutView",
            "align_content": null,
            "align_items": null,
            "align_self": null,
            "border": null,
            "bottom": null,
            "display": null,
            "flex": null,
            "flex_flow": null,
            "grid_area": null,
            "grid_auto_columns": null,
            "grid_auto_flow": null,
            "grid_auto_rows": null,
            "grid_column": null,
            "grid_gap": null,
            "grid_row": null,
            "grid_template_areas": null,
            "grid_template_columns": null,
            "grid_template_rows": null,
            "height": null,
            "justify_content": null,
            "justify_items": null,
            "left": null,
            "margin": null,
            "max_height": null,
            "max_width": null,
            "min_height": null,
            "min_width": null,
            "object_fit": null,
            "object_position": null,
            "order": null,
            "overflow": null,
            "overflow_x": null,
            "overflow_y": null,
            "padding": null,
            "right": null,
            "top": null,
            "visibility": null,
            "width": null
          }
        },
        "1fcae0f84bec4610a10cb283bc2c077c": {
          "model_module": "@jupyter-widgets/controls",
          "model_module_version": "1.5.0",
          "model_name": "DescriptionStyleModel",
          "state": {
            "_model_module": "@jupyter-widgets/controls",
            "_model_module_version": "1.5.0",
            "_model_name": "DescriptionStyleModel",
            "_view_count": null,
            "_view_module": "@jupyter-widgets/base",
            "_view_module_version": "1.2.0",
            "_view_name": "StyleView",
            "description_width": ""
          }
        },
        "2102ca243d2b4189bb0fd55a2331d714": {
          "model_module": "@jupyter-widgets/controls",
          "model_module_version": "1.5.0",
          "model_name": "DescriptionStyleModel",
          "state": {
            "_model_module": "@jupyter-widgets/controls",
            "_model_module_version": "1.5.0",
            "_model_name": "DescriptionStyleModel",
            "_view_count": null,
            "_view_module": "@jupyter-widgets/base",
            "_view_module_version": "1.2.0",
            "_view_name": "StyleView",
            "description_width": ""
          }
        },
        "21e74220457f499eba933af3efaf2b88": {
          "model_module": "@jupyter-widgets/base",
          "model_module_version": "1.2.0",
          "model_name": "LayoutModel",
          "state": {
            "_model_module": "@jupyter-widgets/base",
            "_model_module_version": "1.2.0",
            "_model_name": "LayoutModel",
            "_view_count": null,
            "_view_module": "@jupyter-widgets/base",
            "_view_module_version": "1.2.0",
            "_view_name": "LayoutView",
            "align_content": null,
            "align_items": null,
            "align_self": null,
            "border": null,
            "bottom": null,
            "display": null,
            "flex": null,
            "flex_flow": null,
            "grid_area": null,
            "grid_auto_columns": null,
            "grid_auto_flow": null,
            "grid_auto_rows": null,
            "grid_column": null,
            "grid_gap": null,
            "grid_row": null,
            "grid_template_areas": null,
            "grid_template_columns": null,
            "grid_template_rows": null,
            "height": null,
            "justify_content": null,
            "justify_items": null,
            "left": null,
            "margin": null,
            "max_height": null,
            "max_width": null,
            "min_height": null,
            "min_width": null,
            "object_fit": null,
            "object_position": null,
            "order": null,
            "overflow": null,
            "overflow_x": null,
            "overflow_y": null,
            "padding": null,
            "right": null,
            "top": null,
            "visibility": null,
            "width": null
          }
        },
        "25e59a176ea34c40b2c16db3478a1a07": {
          "model_module": "@jupyter-widgets/controls",
          "model_module_version": "1.5.0",
          "model_name": "DescriptionStyleModel",
          "state": {
            "_model_module": "@jupyter-widgets/controls",
            "_model_module_version": "1.5.0",
            "_model_name": "DescriptionStyleModel",
            "_view_count": null,
            "_view_module": "@jupyter-widgets/base",
            "_view_module_version": "1.2.0",
            "_view_name": "StyleView",
            "description_width": ""
          }
        },
        "29afc1ef468c476abed21f452221f553": {
          "model_module": "@jupyter-widgets/base",
          "model_module_version": "1.2.0",
          "model_name": "LayoutModel",
          "state": {
            "_model_module": "@jupyter-widgets/base",
            "_model_module_version": "1.2.0",
            "_model_name": "LayoutModel",
            "_view_count": null,
            "_view_module": "@jupyter-widgets/base",
            "_view_module_version": "1.2.0",
            "_view_name": "LayoutView",
            "align_content": null,
            "align_items": null,
            "align_self": null,
            "border": null,
            "bottom": null,
            "display": null,
            "flex": null,
            "flex_flow": null,
            "grid_area": null,
            "grid_auto_columns": null,
            "grid_auto_flow": null,
            "grid_auto_rows": null,
            "grid_column": null,
            "grid_gap": null,
            "grid_row": null,
            "grid_template_areas": null,
            "grid_template_columns": null,
            "grid_template_rows": null,
            "height": null,
            "justify_content": null,
            "justify_items": null,
            "left": null,
            "margin": null,
            "max_height": null,
            "max_width": null,
            "min_height": null,
            "min_width": null,
            "object_fit": null,
            "object_position": null,
            "order": null,
            "overflow": null,
            "overflow_x": null,
            "overflow_y": null,
            "padding": null,
            "right": null,
            "top": null,
            "visibility": null,
            "width": null
          }
        },
        "2eaaea8768814d34b248a9a80c078833": {
          "model_module": "@jupyter-widgets/base",
          "model_module_version": "1.2.0",
          "model_name": "LayoutModel",
          "state": {
            "_model_module": "@jupyter-widgets/base",
            "_model_module_version": "1.2.0",
            "_model_name": "LayoutModel",
            "_view_count": null,
            "_view_module": "@jupyter-widgets/base",
            "_view_module_version": "1.2.0",
            "_view_name": "LayoutView",
            "align_content": null,
            "align_items": null,
            "align_self": null,
            "border": null,
            "bottom": null,
            "display": null,
            "flex": null,
            "flex_flow": null,
            "grid_area": null,
            "grid_auto_columns": null,
            "grid_auto_flow": null,
            "grid_auto_rows": null,
            "grid_column": null,
            "grid_gap": null,
            "grid_row": null,
            "grid_template_areas": null,
            "grid_template_columns": null,
            "grid_template_rows": null,
            "height": null,
            "justify_content": null,
            "justify_items": null,
            "left": null,
            "margin": null,
            "max_height": null,
            "max_width": null,
            "min_height": null,
            "min_width": null,
            "object_fit": null,
            "object_position": null,
            "order": null,
            "overflow": null,
            "overflow_x": null,
            "overflow_y": null,
            "padding": null,
            "right": null,
            "top": null,
            "visibility": null,
            "width": null
          }
        },
        "31a428bcdb9c4c8d88dc741fd30c2a6b": {
          "model_module": "@jupyter-widgets/controls",
          "model_module_version": "1.5.0",
          "model_name": "HTMLModel",
          "state": {
            "_dom_classes": [],
            "_model_module": "@jupyter-widgets/controls",
            "_model_module_version": "1.5.0",
            "_model_name": "HTMLModel",
            "_view_count": null,
            "_view_module": "@jupyter-widgets/controls",
            "_view_module_version": "1.5.0",
            "_view_name": "HTMLView",
            "description": "",
            "description_tooltip": null,
            "layout": "IPY_MODEL_562de91268a34d2bbdd6476d9847986e",
            "placeholder": "​",
            "style": "IPY_MODEL_06783ad5d6fc477fa7b7c7d37e0ae68f",
            "value": " 689/689 [00:00&lt;00:00, 47.5kB/s]"
          }
        },
        "31c2012c5b3c4efa93e03bd088c16aa7": {
          "model_module": "@jupyter-widgets/controls",
          "model_module_version": "1.5.0",
          "model_name": "HTMLModel",
          "state": {
            "_dom_classes": [],
            "_model_module": "@jupyter-widgets/controls",
            "_model_module_version": "1.5.0",
            "_model_name": "HTMLModel",
            "_view_count": null,
            "_view_module": "@jupyter-widgets/controls",
            "_view_module_version": "1.5.0",
            "_view_name": "HTMLView",
            "description": "",
            "description_tooltip": null,
            "layout": "IPY_MODEL_29afc1ef468c476abed21f452221f553",
            "placeholder": "​",
            "style": "IPY_MODEL_6261d6bb674543e6ae57e378c4999c2d",
            "value": " 26.0/26.0 [00:00&lt;00:00, 2.25kB/s]"
          }
        },
        "32d960a6769449de85551fb82a0ff3f8": {
          "model_module": "@jupyter-widgets/controls",
          "model_module_version": "1.5.0",
          "model_name": "ProgressStyleModel",
          "state": {
            "_model_module": "@jupyter-widgets/controls",
            "_model_module_version": "1.5.0",
            "_model_name": "ProgressStyleModel",
            "_view_count": null,
            "_view_module": "@jupyter-widgets/base",
            "_view_module_version": "1.2.0",
            "_view_name": "StyleView",
            "bar_color": null,
            "description_width": ""
          }
        },
        "338234c4a51a4e82b3085d6933b1a535": {
          "model_module": "@jupyter-widgets/controls",
          "model_module_version": "1.5.0",
          "model_name": "DescriptionStyleModel",
          "state": {
            "_model_module": "@jupyter-widgets/controls",
            "_model_module_version": "1.5.0",
            "_model_name": "DescriptionStyleModel",
            "_view_count": null,
            "_view_module": "@jupyter-widgets/base",
            "_view_module_version": "1.2.0",
            "_view_name": "StyleView",
            "description_width": ""
          }
        },
        "3b92ad61324c4e5b9c3c861f19b0c613": {
          "model_module": "@jupyter-widgets/controls",
          "model_module_version": "1.5.0",
          "model_name": "HTMLModel",
          "state": {
            "_dom_classes": [],
            "_model_module": "@jupyter-widgets/controls",
            "_model_module_version": "1.5.0",
            "_model_name": "HTMLModel",
            "_view_count": null,
            "_view_module": "@jupyter-widgets/controls",
            "_view_module_version": "1.5.0",
            "_view_name": "HTMLView",
            "description": "",
            "description_tooltip": null,
            "layout": "IPY_MODEL_0b9b8d9cd2504aafa4ab7327b9bf9ac7",
            "placeholder": "​",
            "style": "IPY_MODEL_bca2d14dc0ff465ca39dc1796db9c33c",
            "value": " 6.43G/6.43G [02:57&lt;00:00, 34.4MB/s]"
          }
        },
        "3cbbf7979bb0473d850f950d12285cee": {
          "model_module": "@jupyter-widgets/base",
          "model_module_version": "1.2.0",
          "model_name": "LayoutModel",
          "state": {
            "_model_module": "@jupyter-widgets/base",
            "_model_module_version": "1.2.0",
            "_model_name": "LayoutModel",
            "_view_count": null,
            "_view_module": "@jupyter-widgets/base",
            "_view_module_version": "1.2.0",
            "_view_name": "LayoutView",
            "align_content": null,
            "align_items": null,
            "align_self": null,
            "border": null,
            "bottom": null,
            "display": null,
            "flex": null,
            "flex_flow": null,
            "grid_area": null,
            "grid_auto_columns": null,
            "grid_auto_flow": null,
            "grid_auto_rows": null,
            "grid_column": null,
            "grid_gap": null,
            "grid_row": null,
            "grid_template_areas": null,
            "grid_template_columns": null,
            "grid_template_rows": null,
            "height": null,
            "justify_content": null,
            "justify_items": null,
            "left": null,
            "margin": null,
            "max_height": null,
            "max_width": null,
            "min_height": null,
            "min_width": null,
            "object_fit": null,
            "object_position": null,
            "order": null,
            "overflow": null,
            "overflow_x": null,
            "overflow_y": null,
            "padding": null,
            "right": null,
            "top": null,
            "visibility": null,
            "width": null
          }
        },
        "40a50f85f6904675ad9770ad44863c6a": {
          "model_module": "@jupyter-widgets/base",
          "model_module_version": "1.2.0",
          "model_name": "LayoutModel",
          "state": {
            "_model_module": "@jupyter-widgets/base",
            "_model_module_version": "1.2.0",
            "_model_name": "LayoutModel",
            "_view_count": null,
            "_view_module": "@jupyter-widgets/base",
            "_view_module_version": "1.2.0",
            "_view_name": "LayoutView",
            "align_content": null,
            "align_items": null,
            "align_self": null,
            "border": null,
            "bottom": null,
            "display": null,
            "flex": null,
            "flex_flow": null,
            "grid_area": null,
            "grid_auto_columns": null,
            "grid_auto_flow": null,
            "grid_auto_rows": null,
            "grid_column": null,
            "grid_gap": null,
            "grid_row": null,
            "grid_template_areas": null,
            "grid_template_columns": null,
            "grid_template_rows": null,
            "height": null,
            "justify_content": null,
            "justify_items": null,
            "left": null,
            "margin": null,
            "max_height": null,
            "max_width": null,
            "min_height": null,
            "min_width": null,
            "object_fit": null,
            "object_position": null,
            "order": null,
            "overflow": null,
            "overflow_x": null,
            "overflow_y": null,
            "padding": null,
            "right": null,
            "top": null,
            "visibility": null,
            "width": null
          }
        },
        "448e5c4fa1ec4b9dbbbdc2f8443d284a": {
          "model_module": "@jupyter-widgets/controls",
          "model_module_version": "1.5.0",
          "model_name": "DescriptionStyleModel",
          "state": {
            "_model_module": "@jupyter-widgets/controls",
            "_model_module_version": "1.5.0",
            "_model_name": "DescriptionStyleModel",
            "_view_count": null,
            "_view_module": "@jupyter-widgets/base",
            "_view_module_version": "1.2.0",
            "_view_name": "StyleView",
            "description_width": ""
          }
        },
        "44e465fc62a34e5f8fc7c4015688859e": {
          "model_module": "@jupyter-widgets/base",
          "model_module_version": "1.2.0",
          "model_name": "LayoutModel",
          "state": {
            "_model_module": "@jupyter-widgets/base",
            "_model_module_version": "1.2.0",
            "_model_name": "LayoutModel",
            "_view_count": null,
            "_view_module": "@jupyter-widgets/base",
            "_view_module_version": "1.2.0",
            "_view_name": "LayoutView",
            "align_content": null,
            "align_items": null,
            "align_self": null,
            "border": null,
            "bottom": null,
            "display": null,
            "flex": null,
            "flex_flow": null,
            "grid_area": null,
            "grid_auto_columns": null,
            "grid_auto_flow": null,
            "grid_auto_rows": null,
            "grid_column": null,
            "grid_gap": null,
            "grid_row": null,
            "grid_template_areas": null,
            "grid_template_columns": null,
            "grid_template_rows": null,
            "height": null,
            "justify_content": null,
            "justify_items": null,
            "left": null,
            "margin": null,
            "max_height": null,
            "max_width": null,
            "min_height": null,
            "min_width": null,
            "object_fit": null,
            "object_position": null,
            "order": null,
            "overflow": null,
            "overflow_x": null,
            "overflow_y": null,
            "padding": null,
            "right": null,
            "top": null,
            "visibility": null,
            "width": null
          }
        },
        "459a21cc43a24e839c0249d830d5be52": {
          "model_module": "@jupyter-widgets/base",
          "model_module_version": "1.2.0",
          "model_name": "LayoutModel",
          "state": {
            "_model_module": "@jupyter-widgets/base",
            "_model_module_version": "1.2.0",
            "_model_name": "LayoutModel",
            "_view_count": null,
            "_view_module": "@jupyter-widgets/base",
            "_view_module_version": "1.2.0",
            "_view_name": "LayoutView",
            "align_content": null,
            "align_items": null,
            "align_self": null,
            "border": null,
            "bottom": null,
            "display": null,
            "flex": null,
            "flex_flow": null,
            "grid_area": null,
            "grid_auto_columns": null,
            "grid_auto_flow": null,
            "grid_auto_rows": null,
            "grid_column": null,
            "grid_gap": null,
            "grid_row": null,
            "grid_template_areas": null,
            "grid_template_columns": null,
            "grid_template_rows": null,
            "height": null,
            "justify_content": null,
            "justify_items": null,
            "left": null,
            "margin": null,
            "max_height": null,
            "max_width": null,
            "min_height": null,
            "min_width": null,
            "object_fit": null,
            "object_position": null,
            "order": null,
            "overflow": null,
            "overflow_x": null,
            "overflow_y": null,
            "padding": null,
            "right": null,
            "top": null,
            "visibility": null,
            "width": null
          }
        },
        "4820ac5ea4c5421eae4ee0bfafccd732": {
          "model_module": "@jupyter-widgets/controls",
          "model_module_version": "1.5.0",
          "model_name": "HTMLModel",
          "state": {
            "_dom_classes": [],
            "_model_module": "@jupyter-widgets/controls",
            "_model_module_version": "1.5.0",
            "_model_name": "HTMLModel",
            "_view_count": null,
            "_view_module": "@jupyter-widgets/controls",
            "_view_module_version": "1.5.0",
            "_view_name": "HTMLView",
            "description": "",
            "description_tooltip": null,
            "layout": "IPY_MODEL_3cbbf7979bb0473d850f950d12285cee",
            "placeholder": "​",
            "style": "IPY_MODEL_697c0fb999144d51af1be40d3cdc2aa8",
            "value": "tokenizer.json: "
          }
        },
        "4a896e66b3534859ba798946a92fca23": {
          "model_module": "@jupyter-widgets/controls",
          "model_module_version": "1.5.0",
          "model_name": "DescriptionStyleModel",
          "state": {
            "_model_module": "@jupyter-widgets/controls",
            "_model_module_version": "1.5.0",
            "_model_name": "DescriptionStyleModel",
            "_view_count": null,
            "_view_module": "@jupyter-widgets/base",
            "_view_module_version": "1.2.0",
            "_view_name": "StyleView",
            "description_width": ""
          }
        },
        "4b62aea697984188adc1205a47dad9e2": {
          "model_module": "@jupyter-widgets/controls",
          "model_module_version": "1.5.0",
          "model_name": "DescriptionStyleModel",
          "state": {
            "_model_module": "@jupyter-widgets/controls",
            "_model_module_version": "1.5.0",
            "_model_name": "DescriptionStyleModel",
            "_view_count": null,
            "_view_module": "@jupyter-widgets/base",
            "_view_module_version": "1.2.0",
            "_view_name": "StyleView",
            "description_width": ""
          }
        },
        "51f6e55f2ff14722bce2b51278141db1": {
          "model_module": "@jupyter-widgets/base",
          "model_module_version": "1.2.0",
          "model_name": "LayoutModel",
          "state": {
            "_model_module": "@jupyter-widgets/base",
            "_model_module_version": "1.2.0",
            "_model_name": "LayoutModel",
            "_view_count": null,
            "_view_module": "@jupyter-widgets/base",
            "_view_module_version": "1.2.0",
            "_view_name": "LayoutView",
            "align_content": null,
            "align_items": null,
            "align_self": null,
            "border": null,
            "bottom": null,
            "display": null,
            "flex": null,
            "flex_flow": null,
            "grid_area": null,
            "grid_auto_columns": null,
            "grid_auto_flow": null,
            "grid_auto_rows": null,
            "grid_column": null,
            "grid_gap": null,
            "grid_row": null,
            "grid_template_areas": null,
            "grid_template_columns": null,
            "grid_template_rows": null,
            "height": null,
            "justify_content": null,
            "justify_items": null,
            "left": null,
            "margin": null,
            "max_height": null,
            "max_width": null,
            "min_height": null,
            "min_width": null,
            "object_fit": null,
            "object_position": null,
            "order": null,
            "overflow": null,
            "overflow_x": null,
            "overflow_y": null,
            "padding": null,
            "right": null,
            "top": null,
            "visibility": null,
            "width": null
          }
        },
        "52bf813aeda44f269fd9a87976eaa2de": {
          "model_module": "@jupyter-widgets/controls",
          "model_module_version": "1.5.0",
          "model_name": "FloatProgressModel",
          "state": {
            "_dom_classes": [],
            "_model_module": "@jupyter-widgets/controls",
            "_model_module_version": "1.5.0",
            "_model_name": "FloatProgressModel",
            "_view_count": null,
            "_view_module": "@jupyter-widgets/controls",
            "_view_module_version": "1.5.0",
            "_view_name": "ProgressView",
            "bar_style": "success",
            "description": "",
            "description_tooltip": null,
            "layout": "IPY_MODEL_064e01a59ec24e4ba31e22645eb8f2f2",
            "max": 1,
            "min": 0,
            "orientation": "horizontal",
            "style": "IPY_MODEL_774868479e574e43802ba4c8c44ed97c",
            "value": 1
          }
        },
        "562de91268a34d2bbdd6476d9847986e": {
          "model_module": "@jupyter-widgets/base",
          "model_module_version": "1.2.0",
          "model_name": "LayoutModel",
          "state": {
            "_model_module": "@jupyter-widgets/base",
            "_model_module_version": "1.2.0",
            "_model_name": "LayoutModel",
            "_view_count": null,
            "_view_module": "@jupyter-widgets/base",
            "_view_module_version": "1.2.0",
            "_view_name": "LayoutView",
            "align_content": null,
            "align_items": null,
            "align_self": null,
            "border": null,
            "bottom": null,
            "display": null,
            "flex": null,
            "flex_flow": null,
            "grid_area": null,
            "grid_auto_columns": null,
            "grid_auto_flow": null,
            "grid_auto_rows": null,
            "grid_column": null,
            "grid_gap": null,
            "grid_row": null,
            "grid_template_areas": null,
            "grid_template_columns": null,
            "grid_template_rows": null,
            "height": null,
            "justify_content": null,
            "justify_items": null,
            "left": null,
            "margin": null,
            "max_height": null,
            "max_width": null,
            "min_height": null,
            "min_width": null,
            "object_fit": null,
            "object_position": null,
            "order": null,
            "overflow": null,
            "overflow_x": null,
            "overflow_y": null,
            "padding": null,
            "right": null,
            "top": null,
            "visibility": null,
            "width": null
          }
        },
        "5c69467311874b4c9621f37bdadaf5ae": {
          "model_module": "@jupyter-widgets/controls",
          "model_module_version": "1.5.0",
          "model_name": "HTMLModel",
          "state": {
            "_dom_classes": [],
            "_model_module": "@jupyter-widgets/controls",
            "_model_module_version": "1.5.0",
            "_model_name": "HTMLModel",
            "_view_count": null,
            "_view_module": "@jupyter-widgets/controls",
            "_view_module_version": "1.5.0",
            "_view_name": "HTMLView",
            "description": "",
            "description_tooltip": null,
            "layout": "IPY_MODEL_ff9701590e91407f806051031d3816cb",
            "placeholder": "​",
            "style": "IPY_MODEL_25e59a176ea34c40b2c16db3478a1a07",
            "value": "vocab.json: "
          }
        },
        "5e9f0a9bb1e641be93780a0024cd7207": {
          "model_module": "@jupyter-widgets/controls",
          "model_module_version": "1.5.0",
          "model_name": "HTMLModel",
          "state": {
            "_dom_classes": [],
            "_model_module": "@jupyter-widgets/controls",
            "_model_module_version": "1.5.0",
            "_model_name": "HTMLModel",
            "_view_count": null,
            "_view_module": "@jupyter-widgets/controls",
            "_view_module_version": "1.5.0",
            "_view_name": "HTMLView",
            "description": "",
            "description_tooltip": null,
            "layout": "IPY_MODEL_f012f65c3c3046d484be9f8d89c67525",
            "placeholder": "​",
            "style": "IPY_MODEL_448e5c4fa1ec4b9dbbbdc2f8443d284a",
            "value": "merges.txt: "
          }
        },
        "6261d6bb674543e6ae57e378c4999c2d": {
          "model_module": "@jupyter-widgets/controls",
          "model_module_version": "1.5.0",
          "model_name": "DescriptionStyleModel",
          "state": {
            "_model_module": "@jupyter-widgets/controls",
            "_model_module_version": "1.5.0",
            "_model_name": "DescriptionStyleModel",
            "_view_count": null,
            "_view_module": "@jupyter-widgets/base",
            "_view_module_version": "1.2.0",
            "_view_name": "StyleView",
            "description_width": ""
          }
        },
        "6453b4e37dcf40f58188e6c4e1b70ce0": {
          "model_module": "@jupyter-widgets/controls",
          "model_module_version": "1.5.0",
          "model_name": "HBoxModel",
          "state": {
            "_dom_classes": [],
            "_model_module": "@jupyter-widgets/controls",
            "_model_module_version": "1.5.0",
            "_model_name": "HBoxModel",
            "_view_count": null,
            "_view_module": "@jupyter-widgets/controls",
            "_view_module_version": "1.5.0",
            "_view_name": "HBoxView",
            "box_style": "",
            "children": [
              "IPY_MODEL_5e9f0a9bb1e641be93780a0024cd7207",
              "IPY_MODEL_bee1834dca1f4f10bbc7b73bdd6b2ec5",
              "IPY_MODEL_ad57ca551bbd46478fbe86eaa18b9b85"
            ],
            "layout": "IPY_MODEL_21e74220457f499eba933af3efaf2b88"
          }
        },
        "68f9c3a0901c4a6696f0b17056878d7d": {
          "model_module": "@jupyter-widgets/controls",
          "model_module_version": "1.5.0",
          "model_name": "FloatProgressModel",
          "state": {
            "_dom_classes": [],
            "_model_module": "@jupyter-widgets/controls",
            "_model_module_version": "1.5.0",
            "_model_name": "FloatProgressModel",
            "_view_count": null,
            "_view_module": "@jupyter-widgets/controls",
            "_view_module_version": "1.5.0",
            "_view_name": "ProgressView",
            "bar_style": "success",
            "description": "",
            "description_tooltip": null,
            "layout": "IPY_MODEL_44e465fc62a34e5f8fc7c4015688859e",
            "max": 6431829964,
            "min": 0,
            "orientation": "horizontal",
            "style": "IPY_MODEL_6ac7ea3072ae4ed88c52cee89b7ce3e6",
            "value": 6431829964
          }
        },
        "6908e5ad8fa744c192d7daeccd9a008a": {
          "model_module": "@jupyter-widgets/controls",
          "model_module_version": "1.5.0",
          "model_name": "HTMLModel",
          "state": {
            "_dom_classes": [],
            "_model_module": "@jupyter-widgets/controls",
            "_model_module_version": "1.5.0",
            "_model_name": "HTMLModel",
            "_view_count": null,
            "_view_module": "@jupyter-widgets/controls",
            "_view_module_version": "1.5.0",
            "_view_name": "HTMLView",
            "description": "",
            "description_tooltip": null,
            "layout": "IPY_MODEL_ec4b8cf9d06441c0a4bb68c202c6c550",
            "placeholder": "​",
            "style": "IPY_MODEL_1fcae0f84bec4610a10cb283bc2c077c",
            "value": " 1.36M/? [00:00&lt;00:00, 48.2MB/s]"
          }
        },
        "697c0fb999144d51af1be40d3cdc2aa8": {
          "model_module": "@jupyter-widgets/controls",
          "model_module_version": "1.5.0",
          "model_name": "DescriptionStyleModel",
          "state": {
            "_model_module": "@jupyter-widgets/controls",
            "_model_module_version": "1.5.0",
            "_model_name": "DescriptionStyleModel",
            "_view_count": null,
            "_view_module": "@jupyter-widgets/base",
            "_view_module_version": "1.2.0",
            "_view_name": "StyleView",
            "description_width": ""
          }
        },
        "6ac7ea3072ae4ed88c52cee89b7ce3e6": {
          "model_module": "@jupyter-widgets/controls",
          "model_module_version": "1.5.0",
          "model_name": "ProgressStyleModel",
          "state": {
            "_model_module": "@jupyter-widgets/controls",
            "_model_module_version": "1.5.0",
            "_model_name": "ProgressStyleModel",
            "_view_count": null,
            "_view_module": "@jupyter-widgets/base",
            "_view_module_version": "1.2.0",
            "_view_name": "StyleView",
            "bar_color": null,
            "description_width": ""
          }
        },
        "774868479e574e43802ba4c8c44ed97c": {
          "model_module": "@jupyter-widgets/controls",
          "model_module_version": "1.5.0",
          "model_name": "ProgressStyleModel",
          "state": {
            "_model_module": "@jupyter-widgets/controls",
            "_model_module_version": "1.5.0",
            "_model_name": "ProgressStyleModel",
            "_view_count": null,
            "_view_module": "@jupyter-widgets/base",
            "_view_module_version": "1.2.0",
            "_view_name": "StyleView",
            "bar_color": null,
            "description_width": ""
          }
        },
        "786431c509b345ec9bc5f34d1a5685b5": {
          "model_module": "@jupyter-widgets/base",
          "model_module_version": "1.2.0",
          "model_name": "LayoutModel",
          "state": {
            "_model_module": "@jupyter-widgets/base",
            "_model_module_version": "1.2.0",
            "_model_name": "LayoutModel",
            "_view_count": null,
            "_view_module": "@jupyter-widgets/base",
            "_view_module_version": "1.2.0",
            "_view_name": "LayoutView",
            "align_content": null,
            "align_items": null,
            "align_self": null,
            "border": null,
            "bottom": null,
            "display": null,
            "flex": null,
            "flex_flow": null,
            "grid_area": null,
            "grid_auto_columns": null,
            "grid_auto_flow": null,
            "grid_auto_rows": null,
            "grid_column": null,
            "grid_gap": null,
            "grid_row": null,
            "grid_template_areas": null,
            "grid_template_columns": null,
            "grid_template_rows": null,
            "height": null,
            "justify_content": null,
            "justify_items": null,
            "left": null,
            "margin": null,
            "max_height": null,
            "max_width": null,
            "min_height": null,
            "min_width": null,
            "object_fit": null,
            "object_position": null,
            "order": null,
            "overflow": null,
            "overflow_x": null,
            "overflow_y": null,
            "padding": null,
            "right": null,
            "top": null,
            "visibility": null,
            "width": "20px"
          }
        },
        "7b4cc9a57b5743bfae91c14d835d2de0": {
          "model_module": "@jupyter-widgets/controls",
          "model_module_version": "1.5.0",
          "model_name": "ProgressStyleModel",
          "state": {
            "_model_module": "@jupyter-widgets/controls",
            "_model_module_version": "1.5.0",
            "_model_name": "ProgressStyleModel",
            "_view_count": null,
            "_view_module": "@jupyter-widgets/base",
            "_view_module_version": "1.2.0",
            "_view_name": "StyleView",
            "bar_color": null,
            "description_width": ""
          }
        },
        "8247790313b74184bcc53badb11d6066": {
          "model_module": "@jupyter-widgets/controls",
          "model_module_version": "1.5.0",
          "model_name": "HBoxModel",
          "state": {
            "_dom_classes": [],
            "_model_module": "@jupyter-widgets/controls",
            "_model_module_version": "1.5.0",
            "_model_name": "HBoxModel",
            "_view_count": null,
            "_view_module": "@jupyter-widgets/controls",
            "_view_module_version": "1.5.0",
            "_view_name": "HBoxView",
            "box_style": "",
            "children": [
              "IPY_MODEL_9a9ea47b3e254eb8bae0b019555d6c64",
              "IPY_MODEL_68f9c3a0901c4a6696f0b17056878d7d",
              "IPY_MODEL_3b92ad61324c4e5b9c3c861f19b0c613"
            ],
            "layout": "IPY_MODEL_e124eed5ad3d4225b7eda3ff4217a7be"
          }
        },
        "8b416584390d431c85db0778cbd4355d": {
          "model_module": "@jupyter-widgets/controls",
          "model_module_version": "1.5.0",
          "model_name": "FloatProgressModel",
          "state": {
            "_dom_classes": [],
            "_model_module": "@jupyter-widgets/controls",
            "_model_module_version": "1.5.0",
            "_model_name": "FloatProgressModel",
            "_view_count": null,
            "_view_module": "@jupyter-widgets/controls",
            "_view_module_version": "1.5.0",
            "_view_name": "ProgressView",
            "bar_style": "success",
            "description": "",
            "description_tooltip": null,
            "layout": "IPY_MODEL_786431c509b345ec9bc5f34d1a5685b5",
            "max": 1,
            "min": 0,
            "orientation": "horizontal",
            "style": "IPY_MODEL_0c9d7b42232a4535821bf7a70f005bc5",
            "value": 1
          }
        },
        "952fc5ec5c3e49f29c345c477a87fe7a": {
          "model_module": "@jupyter-widgets/controls",
          "model_module_version": "1.5.0",
          "model_name": "FloatProgressModel",
          "state": {
            "_dom_classes": [],
            "_model_module": "@jupyter-widgets/controls",
            "_model_module_version": "1.5.0",
            "_model_name": "FloatProgressModel",
            "_view_count": null,
            "_view_module": "@jupyter-widgets/controls",
            "_view_module_version": "1.5.0",
            "_view_name": "ProgressView",
            "bar_style": "success",
            "description": "",
            "description_tooltip": null,
            "layout": "IPY_MODEL_97bb19c03dfd4c45b1adbc6f099ed38f",
            "max": 689,
            "min": 0,
            "orientation": "horizontal",
            "style": "IPY_MODEL_7b4cc9a57b5743bfae91c14d835d2de0",
            "value": 689
          }
        },
        "97bb19c03dfd4c45b1adbc6f099ed38f": {
          "model_module": "@jupyter-widgets/base",
          "model_module_version": "1.2.0",
          "model_name": "LayoutModel",
          "state": {
            "_model_module": "@jupyter-widgets/base",
            "_model_module_version": "1.2.0",
            "_model_name": "LayoutModel",
            "_view_count": null,
            "_view_module": "@jupyter-widgets/base",
            "_view_module_version": "1.2.0",
            "_view_name": "LayoutView",
            "align_content": null,
            "align_items": null,
            "align_self": null,
            "border": null,
            "bottom": null,
            "display": null,
            "flex": null,
            "flex_flow": null,
            "grid_area": null,
            "grid_auto_columns": null,
            "grid_auto_flow": null,
            "grid_auto_rows": null,
            "grid_column": null,
            "grid_gap": null,
            "grid_row": null,
            "grid_template_areas": null,
            "grid_template_columns": null,
            "grid_template_rows": null,
            "height": null,
            "justify_content": null,
            "justify_items": null,
            "left": null,
            "margin": null,
            "max_height": null,
            "max_width": null,
            "min_height": null,
            "min_width": null,
            "object_fit": null,
            "object_position": null,
            "order": null,
            "overflow": null,
            "overflow_x": null,
            "overflow_y": null,
            "padding": null,
            "right": null,
            "top": null,
            "visibility": null,
            "width": null
          }
        },
        "97f4a986cdca463c875d13dda5acffed": {
          "model_module": "@jupyter-widgets/base",
          "model_module_version": "1.2.0",
          "model_name": "LayoutModel",
          "state": {
            "_model_module": "@jupyter-widgets/base",
            "_model_module_version": "1.2.0",
            "_model_name": "LayoutModel",
            "_view_count": null,
            "_view_module": "@jupyter-widgets/base",
            "_view_module_version": "1.2.0",
            "_view_name": "LayoutView",
            "align_content": null,
            "align_items": null,
            "align_self": null,
            "border": null,
            "bottom": null,
            "display": null,
            "flex": null,
            "flex_flow": null,
            "grid_area": null,
            "grid_auto_columns": null,
            "grid_auto_flow": null,
            "grid_auto_rows": null,
            "grid_column": null,
            "grid_gap": null,
            "grid_row": null,
            "grid_template_areas": null,
            "grid_template_columns": null,
            "grid_template_rows": null,
            "height": null,
            "justify_content": null,
            "justify_items": null,
            "left": null,
            "margin": null,
            "max_height": null,
            "max_width": null,
            "min_height": null,
            "min_width": null,
            "object_fit": null,
            "object_position": null,
            "order": null,
            "overflow": null,
            "overflow_x": null,
            "overflow_y": null,
            "padding": null,
            "right": null,
            "top": null,
            "visibility": null,
            "width": null
          }
        },
        "9a9ea47b3e254eb8bae0b019555d6c64": {
          "model_module": "@jupyter-widgets/controls",
          "model_module_version": "1.5.0",
          "model_name": "HTMLModel",
          "state": {
            "_dom_classes": [],
            "_model_module": "@jupyter-widgets/controls",
            "_model_module_version": "1.5.0",
            "_model_name": "HTMLModel",
            "_view_count": null,
            "_view_module": "@jupyter-widgets/controls",
            "_view_module_version": "1.5.0",
            "_view_name": "HTMLView",
            "description": "",
            "description_tooltip": null,
            "layout": "IPY_MODEL_40a50f85f6904675ad9770ad44863c6a",
            "placeholder": "​",
            "style": "IPY_MODEL_4a896e66b3534859ba798946a92fca23",
            "value": "model.safetensors: 100%"
          }
        },
        "9e41c7b748f94b9f8f0a834ff776bd19": {
          "model_module": "@jupyter-widgets/controls",
          "model_module_version": "1.5.0",
          "model_name": "FloatProgressModel",
          "state": {
            "_dom_classes": [],
            "_model_module": "@jupyter-widgets/controls",
            "_model_module_version": "1.5.0",
            "_model_name": "FloatProgressModel",
            "_view_count": null,
            "_view_module": "@jupyter-widgets/controls",
            "_view_module_version": "1.5.0",
            "_view_name": "ProgressView",
            "bar_style": "success",
            "description": "",
            "description_tooltip": null,
            "layout": "IPY_MODEL_abcd19fc048c4aeb9284a85ba3df6040",
            "max": 26,
            "min": 0,
            "orientation": "horizontal",
            "style": "IPY_MODEL_32d960a6769449de85551fb82a0ff3f8",
            "value": 26
          }
        },
        "a56efdb45718462292dd6deb3a5265a1": {
          "model_module": "@jupyter-widgets/base",
          "model_module_version": "1.2.0",
          "model_name": "LayoutModel",
          "state": {
            "_model_module": "@jupyter-widgets/base",
            "_model_module_version": "1.2.0",
            "_model_name": "LayoutModel",
            "_view_count": null,
            "_view_module": "@jupyter-widgets/base",
            "_view_module_version": "1.2.0",
            "_view_name": "LayoutView",
            "align_content": null,
            "align_items": null,
            "align_self": null,
            "border": null,
            "bottom": null,
            "display": null,
            "flex": null,
            "flex_flow": null,
            "grid_area": null,
            "grid_auto_columns": null,
            "grid_auto_flow": null,
            "grid_auto_rows": null,
            "grid_column": null,
            "grid_gap": null,
            "grid_row": null,
            "grid_template_areas": null,
            "grid_template_columns": null,
            "grid_template_rows": null,
            "height": null,
            "justify_content": null,
            "justify_items": null,
            "left": null,
            "margin": null,
            "max_height": null,
            "max_width": null,
            "min_height": null,
            "min_width": null,
            "object_fit": null,
            "object_position": null,
            "order": null,
            "overflow": null,
            "overflow_x": null,
            "overflow_y": null,
            "padding": null,
            "right": null,
            "top": null,
            "visibility": null,
            "width": null
          }
        },
        "ab19e0dc93da4ce9ae9ad3485e09af70": {
          "model_module": "@jupyter-widgets/controls",
          "model_module_version": "1.5.0",
          "model_name": "HBoxModel",
          "state": {
            "_dom_classes": [],
            "_model_module": "@jupyter-widgets/controls",
            "_model_module_version": "1.5.0",
            "_model_name": "HBoxModel",
            "_view_count": null,
            "_view_module": "@jupyter-widgets/controls",
            "_view_module_version": "1.5.0",
            "_view_name": "HBoxView",
            "box_style": "",
            "children": [
              "IPY_MODEL_5c69467311874b4c9621f37bdadaf5ae",
              "IPY_MODEL_52bf813aeda44f269fd9a87976eaa2de",
              "IPY_MODEL_00e737fe0307419e9f5c669bc287370c"
            ],
            "layout": "IPY_MODEL_a56efdb45718462292dd6deb3a5265a1"
          }
        },
        "ab9f7527dac745229577be86635eed48": {
          "model_module": "@jupyter-widgets/base",
          "model_module_version": "1.2.0",
          "model_name": "LayoutModel",
          "state": {
            "_model_module": "@jupyter-widgets/base",
            "_model_module_version": "1.2.0",
            "_model_name": "LayoutModel",
            "_view_count": null,
            "_view_module": "@jupyter-widgets/base",
            "_view_module_version": "1.2.0",
            "_view_name": "LayoutView",
            "align_content": null,
            "align_items": null,
            "align_self": null,
            "border": null,
            "bottom": null,
            "display": null,
            "flex": null,
            "flex_flow": null,
            "grid_area": null,
            "grid_auto_columns": null,
            "grid_auto_flow": null,
            "grid_auto_rows": null,
            "grid_column": null,
            "grid_gap": null,
            "grid_row": null,
            "grid_template_areas": null,
            "grid_template_columns": null,
            "grid_template_rows": null,
            "height": null,
            "justify_content": null,
            "justify_items": null,
            "left": null,
            "margin": null,
            "max_height": null,
            "max_width": null,
            "min_height": null,
            "min_width": null,
            "object_fit": null,
            "object_position": null,
            "order": null,
            "overflow": null,
            "overflow_x": null,
            "overflow_y": null,
            "padding": null,
            "right": null,
            "top": null,
            "visibility": null,
            "width": null
          }
        },
        "abcd19fc048c4aeb9284a85ba3df6040": {
          "model_module": "@jupyter-widgets/base",
          "model_module_version": "1.2.0",
          "model_name": "LayoutModel",
          "state": {
            "_model_module": "@jupyter-widgets/base",
            "_model_module_version": "1.2.0",
            "_model_name": "LayoutModel",
            "_view_count": null,
            "_view_module": "@jupyter-widgets/base",
            "_view_module_version": "1.2.0",
            "_view_name": "LayoutView",
            "align_content": null,
            "align_items": null,
            "align_self": null,
            "border": null,
            "bottom": null,
            "display": null,
            "flex": null,
            "flex_flow": null,
            "grid_area": null,
            "grid_auto_columns": null,
            "grid_auto_flow": null,
            "grid_auto_rows": null,
            "grid_column": null,
            "grid_gap": null,
            "grid_row": null,
            "grid_template_areas": null,
            "grid_template_columns": null,
            "grid_template_rows": null,
            "height": null,
            "justify_content": null,
            "justify_items": null,
            "left": null,
            "margin": null,
            "max_height": null,
            "max_width": null,
            "min_height": null,
            "min_width": null,
            "object_fit": null,
            "object_position": null,
            "order": null,
            "overflow": null,
            "overflow_x": null,
            "overflow_y": null,
            "padding": null,
            "right": null,
            "top": null,
            "visibility": null,
            "width": null
          }
        },
        "ad57ca551bbd46478fbe86eaa18b9b85": {
          "model_module": "@jupyter-widgets/controls",
          "model_module_version": "1.5.0",
          "model_name": "HTMLModel",
          "state": {
            "_dom_classes": [],
            "_model_module": "@jupyter-widgets/controls",
            "_model_module_version": "1.5.0",
            "_model_name": "HTMLModel",
            "_view_count": null,
            "_view_module": "@jupyter-widgets/controls",
            "_view_module_version": "1.5.0",
            "_view_name": "HTMLView",
            "description": "",
            "description_tooltip": null,
            "layout": "IPY_MODEL_51f6e55f2ff14722bce2b51278141db1",
            "placeholder": "​",
            "style": "IPY_MODEL_4b62aea697984188adc1205a47dad9e2",
            "value": " 456k/? [00:00&lt;00:00, 19.9MB/s]"
          }
        },
        "ae3a68d059254ca3a46da36afa583e9e": {
          "model_module": "@jupyter-widgets/controls",
          "model_module_version": "1.5.0",
          "model_name": "ProgressStyleModel",
          "state": {
            "_model_module": "@jupyter-widgets/controls",
            "_model_module_version": "1.5.0",
            "_model_name": "ProgressStyleModel",
            "_view_count": null,
            "_view_module": "@jupyter-widgets/base",
            "_view_module_version": "1.2.0",
            "_view_name": "StyleView",
            "bar_color": null,
            "description_width": ""
          }
        },
        "b090b694d23d4ba88c8173db26e48d76": {
          "model_module": "@jupyter-widgets/base",
          "model_module_version": "1.2.0",
          "model_name": "LayoutModel",
          "state": {
            "_model_module": "@jupyter-widgets/base",
            "_model_module_version": "1.2.0",
            "_model_name": "LayoutModel",
            "_view_count": null,
            "_view_module": "@jupyter-widgets/base",
            "_view_module_version": "1.2.0",
            "_view_name": "LayoutView",
            "align_content": null,
            "align_items": null,
            "align_self": null,
            "border": null,
            "bottom": null,
            "display": null,
            "flex": null,
            "flex_flow": null,
            "grid_area": null,
            "grid_auto_columns": null,
            "grid_auto_flow": null,
            "grid_auto_rows": null,
            "grid_column": null,
            "grid_gap": null,
            "grid_row": null,
            "grid_template_areas": null,
            "grid_template_columns": null,
            "grid_template_rows": null,
            "height": null,
            "justify_content": null,
            "justify_items": null,
            "left": null,
            "margin": null,
            "max_height": null,
            "max_width": null,
            "min_height": null,
            "min_width": null,
            "object_fit": null,
            "object_position": null,
            "order": null,
            "overflow": null,
            "overflow_x": null,
            "overflow_y": null,
            "padding": null,
            "right": null,
            "top": null,
            "visibility": null,
            "width": "20px"
          }
        },
        "b165a071ea1841f29730747d5885ebd8": {
          "model_module": "@jupyter-widgets/base",
          "model_module_version": "1.2.0",
          "model_name": "LayoutModel",
          "state": {
            "_model_module": "@jupyter-widgets/base",
            "_model_module_version": "1.2.0",
            "_model_name": "LayoutModel",
            "_view_count": null,
            "_view_module": "@jupyter-widgets/base",
            "_view_module_version": "1.2.0",
            "_view_name": "LayoutView",
            "align_content": null,
            "align_items": null,
            "align_self": null,
            "border": null,
            "bottom": null,
            "display": null,
            "flex": null,
            "flex_flow": null,
            "grid_area": null,
            "grid_auto_columns": null,
            "grid_auto_flow": null,
            "grid_auto_rows": null,
            "grid_column": null,
            "grid_gap": null,
            "grid_row": null,
            "grid_template_areas": null,
            "grid_template_columns": null,
            "grid_template_rows": null,
            "height": null,
            "justify_content": null,
            "justify_items": null,
            "left": null,
            "margin": null,
            "max_height": null,
            "max_width": null,
            "min_height": null,
            "min_width": null,
            "object_fit": null,
            "object_position": null,
            "order": null,
            "overflow": null,
            "overflow_x": null,
            "overflow_y": null,
            "padding": null,
            "right": null,
            "top": null,
            "visibility": null,
            "width": null
          }
        },
        "b967e549af6d4c878f2a1fe6002437de": {
          "model_module": "@jupyter-widgets/controls",
          "model_module_version": "1.5.0",
          "model_name": "HTMLModel",
          "state": {
            "_dom_classes": [],
            "_model_module": "@jupyter-widgets/controls",
            "_model_module_version": "1.5.0",
            "_model_name": "HTMLModel",
            "_view_count": null,
            "_view_module": "@jupyter-widgets/controls",
            "_view_module_version": "1.5.0",
            "_view_name": "HTMLView",
            "description": "",
            "description_tooltip": null,
            "layout": "IPY_MODEL_ab9f7527dac745229577be86635eed48",
            "placeholder": "​",
            "style": "IPY_MODEL_2102ca243d2b4189bb0fd55a2331d714",
            "value": "config.json: 100%"
          }
        },
        "bca2d14dc0ff465ca39dc1796db9c33c": {
          "model_module": "@jupyter-widgets/controls",
          "model_module_version": "1.5.0",
          "model_name": "DescriptionStyleModel",
          "state": {
            "_model_module": "@jupyter-widgets/controls",
            "_model_module_version": "1.5.0",
            "_model_name": "DescriptionStyleModel",
            "_view_count": null,
            "_view_module": "@jupyter-widgets/base",
            "_view_module_version": "1.2.0",
            "_view_name": "StyleView",
            "description_width": ""
          }
        },
        "bee1834dca1f4f10bbc7b73bdd6b2ec5": {
          "model_module": "@jupyter-widgets/controls",
          "model_module_version": "1.5.0",
          "model_name": "FloatProgressModel",
          "state": {
            "_dom_classes": [],
            "_model_module": "@jupyter-widgets/controls",
            "_model_module_version": "1.5.0",
            "_model_name": "FloatProgressModel",
            "_view_count": null,
            "_view_module": "@jupyter-widgets/controls",
            "_view_module_version": "1.5.0",
            "_view_name": "ProgressView",
            "bar_style": "success",
            "description": "",
            "description_tooltip": null,
            "layout": "IPY_MODEL_b090b694d23d4ba88c8173db26e48d76",
            "max": 1,
            "min": 0,
            "orientation": "horizontal",
            "style": "IPY_MODEL_ae3a68d059254ca3a46da36afa583e9e",
            "value": 1
          }
        },
        "bf2dcc72870642f2b6aa66eac36f1845": {
          "model_module": "@jupyter-widgets/controls",
          "model_module_version": "1.5.0",
          "model_name": "HTMLModel",
          "state": {
            "_dom_classes": [],
            "_model_module": "@jupyter-widgets/controls",
            "_model_module_version": "1.5.0",
            "_model_name": "HTMLModel",
            "_view_count": null,
            "_view_module": "@jupyter-widgets/controls",
            "_view_module_version": "1.5.0",
            "_view_name": "HTMLView",
            "description": "",
            "description_tooltip": null,
            "layout": "IPY_MODEL_459a21cc43a24e839c0249d830d5be52",
            "placeholder": "​",
            "style": "IPY_MODEL_eb4e3b0d290546a0bc7ff74877a21529",
            "value": "tokenizer_config.json: 100%"
          }
        },
        "d3e2b4ab6c59443495e36da30f29783b": {
          "model_module": "@jupyter-widgets/controls",
          "model_module_version": "1.5.0",
          "model_name": "HBoxModel",
          "state": {
            "_dom_classes": [],
            "_model_module": "@jupyter-widgets/controls",
            "_model_module_version": "1.5.0",
            "_model_name": "HBoxModel",
            "_view_count": null,
            "_view_module": "@jupyter-widgets/controls",
            "_view_module_version": "1.5.0",
            "_view_name": "HBoxView",
            "box_style": "",
            "children": [
              "IPY_MODEL_4820ac5ea4c5421eae4ee0bfafccd732",
              "IPY_MODEL_8b416584390d431c85db0778cbd4355d",
              "IPY_MODEL_6908e5ad8fa744c192d7daeccd9a008a"
            ],
            "layout": "IPY_MODEL_16184731c38b493abc56e360d7df9876"
          }
        },
        "e124eed5ad3d4225b7eda3ff4217a7be": {
          "model_module": "@jupyter-widgets/base",
          "model_module_version": "1.2.0",
          "model_name": "LayoutModel",
          "state": {
            "_model_module": "@jupyter-widgets/base",
            "_model_module_version": "1.2.0",
            "_model_name": "LayoutModel",
            "_view_count": null,
            "_view_module": "@jupyter-widgets/base",
            "_view_module_version": "1.2.0",
            "_view_name": "LayoutView",
            "align_content": null,
            "align_items": null,
            "align_self": null,
            "border": null,
            "bottom": null,
            "display": null,
            "flex": null,
            "flex_flow": null,
            "grid_area": null,
            "grid_auto_columns": null,
            "grid_auto_flow": null,
            "grid_auto_rows": null,
            "grid_column": null,
            "grid_gap": null,
            "grid_row": null,
            "grid_template_areas": null,
            "grid_template_columns": null,
            "grid_template_rows": null,
            "height": null,
            "justify_content": null,
            "justify_items": null,
            "left": null,
            "margin": null,
            "max_height": null,
            "max_width": null,
            "min_height": null,
            "min_width": null,
            "object_fit": null,
            "object_position": null,
            "order": null,
            "overflow": null,
            "overflow_x": null,
            "overflow_y": null,
            "padding": null,
            "right": null,
            "top": null,
            "visibility": null,
            "width": null
          }
        },
        "eb4e3b0d290546a0bc7ff74877a21529": {
          "model_module": "@jupyter-widgets/controls",
          "model_module_version": "1.5.0",
          "model_name": "DescriptionStyleModel",
          "state": {
            "_model_module": "@jupyter-widgets/controls",
            "_model_module_version": "1.5.0",
            "_model_name": "DescriptionStyleModel",
            "_view_count": null,
            "_view_module": "@jupyter-widgets/base",
            "_view_module_version": "1.2.0",
            "_view_name": "StyleView",
            "description_width": ""
          }
        },
        "ec4b8cf9d06441c0a4bb68c202c6c550": {
          "model_module": "@jupyter-widgets/base",
          "model_module_version": "1.2.0",
          "model_name": "LayoutModel",
          "state": {
            "_model_module": "@jupyter-widgets/base",
            "_model_module_version": "1.2.0",
            "_model_name": "LayoutModel",
            "_view_count": null,
            "_view_module": "@jupyter-widgets/base",
            "_view_module_version": "1.2.0",
            "_view_name": "LayoutView",
            "align_content": null,
            "align_items": null,
            "align_self": null,
            "border": null,
            "bottom": null,
            "display": null,
            "flex": null,
            "flex_flow": null,
            "grid_area": null,
            "grid_auto_columns": null,
            "grid_auto_flow": null,
            "grid_auto_rows": null,
            "grid_column": null,
            "grid_gap": null,
            "grid_row": null,
            "grid_template_areas": null,
            "grid_template_columns": null,
            "grid_template_rows": null,
            "height": null,
            "justify_content": null,
            "justify_items": null,
            "left": null,
            "margin": null,
            "max_height": null,
            "max_width": null,
            "min_height": null,
            "min_width": null,
            "object_fit": null,
            "object_position": null,
            "order": null,
            "overflow": null,
            "overflow_x": null,
            "overflow_y": null,
            "padding": null,
            "right": null,
            "top": null,
            "visibility": null,
            "width": null
          }
        },
        "f012f65c3c3046d484be9f8d89c67525": {
          "model_module": "@jupyter-widgets/base",
          "model_module_version": "1.2.0",
          "model_name": "LayoutModel",
          "state": {
            "_model_module": "@jupyter-widgets/base",
            "_model_module_version": "1.2.0",
            "_model_name": "LayoutModel",
            "_view_count": null,
            "_view_module": "@jupyter-widgets/base",
            "_view_module_version": "1.2.0",
            "_view_name": "LayoutView",
            "align_content": null,
            "align_items": null,
            "align_self": null,
            "border": null,
            "bottom": null,
            "display": null,
            "flex": null,
            "flex_flow": null,
            "grid_area": null,
            "grid_auto_columns": null,
            "grid_auto_flow": null,
            "grid_auto_rows": null,
            "grid_column": null,
            "grid_gap": null,
            "grid_row": null,
            "grid_template_areas": null,
            "grid_template_columns": null,
            "grid_template_rows": null,
            "height": null,
            "justify_content": null,
            "justify_items": null,
            "left": null,
            "margin": null,
            "max_height": null,
            "max_width": null,
            "min_height": null,
            "min_width": null,
            "object_fit": null,
            "object_position": null,
            "order": null,
            "overflow": null,
            "overflow_x": null,
            "overflow_y": null,
            "padding": null,
            "right": null,
            "top": null,
            "visibility": null,
            "width": null
          }
        },
        "f5bbc41eea3940b08b7b65521861475b": {
          "model_module": "@jupyter-widgets/controls",
          "model_module_version": "1.5.0",
          "model_name": "HBoxModel",
          "state": {
            "_dom_classes": [],
            "_model_module": "@jupyter-widgets/controls",
            "_model_module_version": "1.5.0",
            "_model_name": "HBoxModel",
            "_view_count": null,
            "_view_module": "@jupyter-widgets/controls",
            "_view_module_version": "1.5.0",
            "_view_name": "HBoxView",
            "box_style": "",
            "children": [
              "IPY_MODEL_b967e549af6d4c878f2a1fe6002437de",
              "IPY_MODEL_952fc5ec5c3e49f29c345c477a87fe7a",
              "IPY_MODEL_31a428bcdb9c4c8d88dc741fd30c2a6b"
            ],
            "layout": "IPY_MODEL_2eaaea8768814d34b248a9a80c078833"
          }
        },
        "ff9701590e91407f806051031d3816cb": {
          "model_module": "@jupyter-widgets/base",
          "model_module_version": "1.2.0",
          "model_name": "LayoutModel",
          "state": {
            "_model_module": "@jupyter-widgets/base",
            "_model_module_version": "1.2.0",
            "_model_name": "LayoutModel",
            "_view_count": null,
            "_view_module": "@jupyter-widgets/base",
            "_view_module_version": "1.2.0",
            "_view_name": "LayoutView",
            "align_content": null,
            "align_items": null,
            "align_self": null,
            "border": null,
            "bottom": null,
            "display": null,
            "flex": null,
            "flex_flow": null,
            "grid_area": null,
            "grid_auto_columns": null,
            "grid_auto_flow": null,
            "grid_auto_rows": null,
            "grid_column": null,
            "grid_gap": null,
            "grid_row": null,
            "grid_template_areas": null,
            "grid_template_columns": null,
            "grid_template_rows": null,
            "height": null,
            "justify_content": null,
            "justify_items": null,
            "left": null,
            "margin": null,
            "max_height": null,
            "max_width": null,
            "min_height": null,
            "min_width": null,
            "object_fit": null,
            "object_position": null,
            "order": null,
            "overflow": null,
            "overflow_x": null,
            "overflow_y": null,
            "padding": null,
            "right": null,
            "top": null,
            "visibility": null,
            "width": null
          }
        }
      }
    }
  },
  "nbformat": 4,
  "nbformat_minor": 0
}
