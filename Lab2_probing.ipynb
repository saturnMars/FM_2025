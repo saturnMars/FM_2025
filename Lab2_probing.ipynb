{
 "cells": [
  {
   "cell_type": "markdown",
   "metadata": {
    "colab_type": "text",
    "id": "view-in-github"
   },
   "source": [
    "<a href=\"https://colab.research.google.com/github/saturnMars/FM_2025/blob/main/Lab1_classification.ipynb\" target=\"_parent\"><img src=\"https://colab.research.google.com/assets/colab-badge.svg\" alt=\"Open In Colab\"/></a>"
   ]
  },
  {
   "cell_type": "code",
   "execution_count": 1,
   "metadata": {
    "id": "2fuw4oEfeNr1"
   },
   "outputs": [],
   "source": [
    "from os import path\n",
    "import pandas as pd\n",
    "import tarfile"
   ]
  },
  {
   "cell_type": "markdown",
   "metadata": {
    "id": "vxIC-kNdef2m"
   },
   "source": [
    "# Getting the labelled datasets for:\n",
    "- ***binary* classification**:\n",
    "    1. **Truthfulness** (True/false claims)\n",
    "        - *[The Geometry of Truth: Emergent Linear Structure in Large Language Model Representations of True/False Datasets](https://github.com/saprmarks/geometry-of-truth/tree/main)*\n",
    "    2. **Subjectivity** (subjective/objetive sentences)\n",
    "        - [CLEF 2025, Task 1 - Subjectivity](https://checkthat.gitlab.io/clef2025/task1/)\n",
    "- ***multiclass* classification**:\n",
    "    3. **Tense** (past/present/future)\n",
    "        - [EnglishTense: A large scale English texts dataset categorized into three categories: Past, Present, Future tenses.](https://data.mendeley.com/datasets/jnb2xp9m4r/2)\n",
    "    4. **Language** (utterances from multiple languages)\n",
    "        - [MASSIVE: A 1M-Example Multilingual Natural Language Understanding Dataset with 51 Typologically-Diverse Languages](https://github.com/alexa/massive)\n",
    "\n"
   ]
  },
  {
   "cell_type": "markdown",
   "metadata": {},
   "source": [
    "### (1) TRUTHFULNESS (The Geometry of Truth; TRUE|FALSE)"
   ]
  },
  {
   "cell_type": "code",
   "execution_count": 2,
   "metadata": {},
   "outputs": [],
   "source": [
    "truthfulness_df = pd.read_csv(\"https://raw.githubusercontent.com/saprmarks/geometry-of-truth/refs/heads/main/datasets/counterfact_true_false.csv\")\n",
    "\n",
    "# Data preprocessing\n",
    "truthfulness_df = truthfulness_df[['statement', 'label']].rename(columns = {'statement':'doc'})\n",
    "truthfulness_df['label'] = truthfulness_df['label'].map(bool)\n",
    "truthfulness_df['doc'] = truthfulness_df['doc'].str.rstrip('.')\n",
    "\n",
    "truthfulness_df.attrs['name'] = 'truth'"
   ]
  },
  {
   "cell_type": "markdown",
   "metadata": {},
   "source": [
    "### (2) SUBJECTIVITY (CLEF2025; SUB|OBJ)"
   ]
  },
  {
   "cell_type": "code",
   "execution_count": 3,
   "metadata": {
    "colab": {
     "base_uri": "https://localhost:8080/"
    },
    "id": "eNlcyFegdk4j",
    "outputId": "ad7f6f06-0423-4bfa-8313-1d2772afd4ad"
   },
   "outputs": [],
   "source": [
    "subjectivity_df = pd.concat([\n",
    "    pd.read_csv(\"https://gitlab.com/checkthat_lab/clef2025-checkthat-lab/-/raw/main/task1/data/english/train_en.tsv\", sep= '\\t'),\n",
    "    pd.read_csv(\"https://gitlab.com/checkthat_lab/clef2025-checkthat-lab/-/raw/main/task1/data/english/dev_en.tsv\", sep= '\\t'),\n",
    "    pd.read_csv(\"https://gitlab.com/checkthat_lab/clef2025-checkthat-lab/-/raw/main/task1/data/english/dev_test_en.tsv\", sep= '\\t'),\n",
    "    pd.read_csv(\"https://gitlab.com/checkthat_lab/clef2025-checkthat-lab/-/raw/main/task1/data/english/test_en_labeled.tsv\", sep= '\\t'),\n",
    "])\n",
    "subjectivity_df = subjectivity_df[['sentence', 'label']].rename(columns = {'sentence':'doc'})\n",
    "subjectivity_df['doc'] = subjectivity_df['doc'].str.rstrip('.')\n",
    "\n",
    "subjectivity_df.attrs['name'] = 'subj'"
   ]
  },
  {
   "cell_type": "markdown",
   "metadata": {},
   "source": [
    "### (3) TENSE (EnglishTense; past|present|future)"
   ]
  },
  {
   "cell_type": "code",
   "execution_count": 4,
   "metadata": {},
   "outputs": [],
   "source": [
    "tense_df = pd.read_excel(\"https://prod-dcd-datasets-public-files-eu-west-1.s3.eu-west-1.amazonaws.com/28304dc7-a47c-4d83-bdcc-2edc535236d8\")\n",
    "tense_df = tense_df.rename(columns = {'Sentence':'doc', 'Labels':'label'})\n",
    "tense_df['doc'] = tense_df['doc'].str.rstrip('.')\n",
    "tense_df.attrs['name'] = 'tense'\n",
    "\n",
    "# Turnaround to fix a bug in the dataset labels\n",
    "tense_df['label'] = tense_df['label'].str.upper() "
   ]
  },
  {
   "cell_type": "markdown",
   "metadata": {},
   "source": [
    "### LANGUAGE (MASSIVE; EN/IT/DE/ES/FR/JA)"
   ]
  },
  {
   "cell_type": "code",
   "execution_count": 5,
   "metadata": {},
   "outputs": [],
   "source": [
    "filename = \"amazon-massive-dataset-1.1.tar.gz\"\n",
    "if not path.exists(filename):\n",
    "    !wget https://amazon-massive-nlu-dataset.s3.amazonaws.com/amazon-massive-dataset-1.1.tar.gz"
   ]
  },
  {
   "cell_type": "code",
   "execution_count": 6,
   "metadata": {},
   "outputs": [],
   "source": [
    "dfs = []\n",
    "with tarfile.open(filename, \"r:gz\") as tar:\n",
    "    for lang in ['en-US', 'it-IT', 'de-DE', 'es-ES', 'fr-FR', 'ja-JP']:\n",
    "      dfs.append(pd.read_json(tar.extractfile(path.join('1.1','data', f'{lang}.jsonl')), lines = True).sample(10000))\n",
    "      \n",
    "language_df = pd.concat(dfs, ignore_index = True)[['utt', 'locale']].rename(columns = {'utt':'doc', 'locale': 'label'})\n",
    "language_df['doc'] = language_df['doc'].str.rstrip('.')\n",
    "\n",
    "language_df.attrs['name'] = 'lang'"
   ]
  },
  {
   "cell_type": "markdown",
   "metadata": {
    "id": "6e2X9PM43AQX"
   },
   "source": [
    "# Data exploration"
   ]
  },
  {
   "cell_type": "code",
   "execution_count": 7,
   "metadata": {
    "colab": {
     "base_uri": "https://localhost:8080/"
    },
    "id": "aJLer5yI2gI8",
    "outputId": "1a369ea1-ba90-4984-bd21-14466b6d4196"
   },
   "outputs": [
    {
     "name": "stdout",
     "output_type": "stream",
     "text": [
      "------------------------------ TRUTHFULNESS ------------------------------\n",
      "CLASSES (2): True|False \n",
      "\n",
      "                                                     doc  label\n",
      "0       The mother tongue of Danielle Darrieux is French   True\n",
      "1      The mother tongue of Danielle Darrieux is English  False\n",
      "2      The official religion of Edwin of Northumbria ...   True\n",
      "3      The official religion of Edwin of Northumbria ...  False\n",
      "4      The mother tongue of Thomas Joannes Stieltjes ...   True\n",
      "...                                                  ...    ...\n",
      "31959           Jerusalem of Gold was written in Finnish  False\n",
      "31960  The language used by Jean-Pierre Dionnet is Fr...   True\n",
      "31961  The language used by Jean-Pierre Dionnet is Sp...  False\n",
      "31962                              Subair works as actor   True\n",
      "31963                           Subair works as composer  False\n",
      "\n",
      "[31964 rows x 2 columns]\n",
      "------------------------------ SUBJECTIVITY ------------------------------\n",
      "CLASSES (2): SUBJ|OBJ \n",
      "\n",
      "                                                   doc label\n",
      "0    Gone are the days when they led the world in r...  SUBJ\n",
      "1    The trend is expected to reverse as soon as ne...   OBJ\n",
      "2                But there is the specious point again   OBJ\n",
      "3    He added he wouldn’t be surprised to see a new...   OBJ\n",
      "4    Not less government, you see; the same amount ...  SUBJ\n",
      "..                                                 ...   ...\n",
      "295        She’s also pretty good at winning elections  SUBJ\n",
      "296  Is the chancellor discombobulated by the anger...  SUBJ\n",
      "297  Realising what my noise habit was doing to me ...  SUBJ\n",
      "298  There are fierce arguments about whether Heath...   OBJ\n",
      "299  None of us are strangers to the negative effec...  SUBJ\n",
      "\n",
      "[2076 rows x 2 columns]\n",
      "------------------------------ TENSE ------------------------------\n",
      "CLASSES (3): FUTURE|PRESENT|PAST \n",
      "\n",
      "                                                     doc    label\n",
      "0      by 2050 ai architects will have designed selfc...   FUTURE\n",
      "1      in the future sustainable transportation optio...   FUTURE\n",
      "2      china has been actively involved in peacekeepi...  PRESENT\n",
      "3      educational diversity is a hallmark of foreign...  PRESENT\n",
      "4        the coach substituted an underperforming player     PAST\n",
      "...                                                  ...      ...\n",
      "13311                       he will become a good person   FUTURE\n",
      "13312                      their door opens after eleven  PRESENT\n",
      "13313                 my mother will cook delicious food   FUTURE\n",
      "13314                        i am going to win this race   FUTURE\n",
      "13315              dona will buy a new mobile next month   FUTURE\n",
      "\n",
      "[13316 rows x 2 columns]\n",
      "------------------------------ LANGUAGE ------------------------------\n",
      "CLASSES (6): en-US|it-IT|de-DE|es-ES|fr-FR|ja-JP \n",
      "\n",
      "                                                 doc  label\n",
      "0                               what is a transistor  en-US\n",
      "1      how do i set my coffee machine to make coffee  en-US\n",
      "2                       alexa what is going on today  en-US\n",
      "3                             play solitaire with me  en-US\n",
      "4                                    recipe for meal  en-US\n",
      "...                                              ...    ...\n",
      "59995                                居間の照明を柔らかい色に変えて  ja-JP\n",
      "59996                                     リストをチェックする  ja-JP\n",
      "59997                         alexa が設定したアラームの時間を教えて  ja-JP\n",
      "59998                                         音量を下げて  ja-JP\n",
      "59999                                         音量を上げる  ja-JP\n",
      "\n",
      "[60000 rows x 2 columns]\n"
     ]
    }
   ],
   "source": [
    "# TRUTHFULNESS dataset\n",
    "print('-' * 30, 'TRUTHFULNESS', '-' * 30)\n",
    "print(f\"CLASSES ({truthfulness_df['label'].nunique()}):\", '|'.join(truthfulness_df['label'].map(str).unique()), '\\n')\n",
    "print(truthfulness_df)\n",
    "\n",
    "# SUBJECTIVITY dataset\n",
    "print('-' * 30, 'SUBJECTIVITY', '-' * 30)\n",
    "print(f\"CLASSES ({subjectivity_df['label'].nunique()}):\", '|'.join(subjectivity_df['label'].unique()), '\\n')\n",
    "print(subjectivity_df)\n",
    "\n",
    "# TENSE dataset\n",
    "print('-' * 30, 'TENSE', '-' * 30)\n",
    "print(f\"CLASSES ({tense_df['label'].nunique()}):\", '|'.join(tense_df['label'].unique()), '\\n')\n",
    "print(tense_df)\n",
    "\n",
    "# LANGUAGE dataset\n",
    "print('-' * 30, 'LANGUAGE', '-' * 30)\n",
    "print(f\"CLASSES ({language_df['label'].nunique()}):\", '|'.join(language_df['label'].unique()), '\\n')\n",
    "print(language_df)"
   ]
  },
  {
   "cell_type": "markdown",
   "metadata": {},
   "source": [
    "### Select the dataset\n",
    "1. **Multiclass classification** (EASY: *syntax-based*)\n",
    "    - tense_df (3 classes: PAST|PRESENT|FUTURE)\n",
    "    - language_df (6 classes: en|it|de|es|fr|ja')\n",
    "\n",
    "2. **Binary classification** (HARD: *semantic-based*)\n",
    "    - truthfulness_df (True|False)\n",
    "    - subjectivity_df (SUBJ|OBJ)\n"
   ]
  },
  {
   "cell_type": "code",
   "execution_count": 8,
   "metadata": {},
   "outputs": [],
   "source": [
    "data = truthfulness_df"
   ]
  },
  {
   "cell_type": "markdown",
   "metadata": {},
   "source": [
    "# Load the LLMs and get the embeddings for each document\n",
    "1. OpenAI's GPT-2\n",
    "    - openai-community/gpt2\n",
    "    - openai-community/gpt2-medium\n",
    "    - openai-community/gpt2-xl\n",
    "2. EleutherAI's Pythia\n",
    "    - EleutherAI/pythia-160m\n",
    "    - EleutherAI/pythia-1.4b\n",
    "    - EleutherAI/pythia-2.8b\n",
    "3. MetaAI's Llama (meta-llama/Llama-3.2-1B; meta-llama/Llama-3.2-3B) "
   ]
  },
  {
   "cell_type": "code",
   "execution_count": null,
   "metadata": {},
   "outputs": [],
   "source": [
    "llm_name = \"openai-community/gpt2\""
   ]
  },
  {
   "cell_type": "code",
   "execution_count": 10,
   "metadata": {},
   "outputs": [
    {
     "name": "stderr",
     "output_type": "stream",
     "text": [
      "/home/bronzini/repositories/FM_2025/.venv/lib/python3.10/site-packages/tqdm/auto.py:21: TqdmWarning: IProgress not found. Please update jupyter and ipywidgets. See https://ipywidgets.readthedocs.io/en/stable/user_install.html\n",
      "  from .autonotebook import tqdm as notebook_tqdm\n"
     ]
    }
   ],
   "source": [
    "from transformers import AutoModel, AutoTokenizer\n",
    "from tqdm import tqdm\n",
    "import torch"
   ]
  },
  {
   "cell_type": "code",
   "execution_count": 11,
   "metadata": {},
   "outputs": [
    {
     "name": "stdout",
     "output_type": "stream",
     "text": [
      "Device: CUDA\n"
     ]
    }
   ],
   "source": [
    "device = torch.device('cuda' if torch.cuda.is_available() else 'cpu')\n",
    "print(f\"Device: {str(device).upper()}\")"
   ]
  },
  {
   "cell_type": "code",
   "execution_count": 12,
   "metadata": {},
   "outputs": [
    {
     "data": {
      "text/plain": [
       "GPTNeoXModel(\n",
       "  (embed_in): Embedding(50304, 2560)\n",
       "  (emb_dropout): Dropout(p=0.0, inplace=False)\n",
       "  (layers): ModuleList(\n",
       "    (0-31): 32 x GPTNeoXLayer(\n",
       "      (input_layernorm): LayerNorm((2560,), eps=1e-05, elementwise_affine=True)\n",
       "      (post_attention_layernorm): LayerNorm((2560,), eps=1e-05, elementwise_affine=True)\n",
       "      (post_attention_dropout): Dropout(p=0.0, inplace=False)\n",
       "      (post_mlp_dropout): Dropout(p=0.0, inplace=False)\n",
       "      (attention): GPTNeoXAttention(\n",
       "        (query_key_value): Linear(in_features=2560, out_features=7680, bias=True)\n",
       "        (dense): Linear(in_features=2560, out_features=2560, bias=True)\n",
       "      )\n",
       "      (mlp): GPTNeoXMLP(\n",
       "        (dense_h_to_4h): Linear(in_features=2560, out_features=10240, bias=True)\n",
       "        (dense_4h_to_h): Linear(in_features=10240, out_features=2560, bias=True)\n",
       "        (act): GELUActivation()\n",
       "      )\n",
       "    )\n",
       "  )\n",
       "  (final_layer_norm): LayerNorm((2560,), eps=1e-05, elementwise_affine=True)\n",
       "  (rotary_emb): GPTNeoXRotaryEmbedding()\n",
       ")"
      ]
     },
     "execution_count": 12,
     "metadata": {},
     "output_type": "execute_result"
    }
   ],
   "source": [
    "tokenizer = AutoTokenizer.from_pretrained(llm_name)\n",
    "llm = AutoModel.from_pretrained(llm_name).to(device)\n",
    "llm.eval()"
   ]
  },
  {
   "cell_type": "markdown",
   "metadata": {},
   "source": [
    "### Compute the LLM embeddings"
   ]
  },
  {
   "cell_type": "code",
   "execution_count": null,
   "metadata": {},
   "outputs": [
    {
     "name": "stderr",
     "output_type": "stream",
     "text": [
      "100%|██████████| 31938/31938 [08:08<00:00, 65.42it/s]\n"
     ]
    },
    {
     "name": "stdout",
     "output_type": "stream",
     "text": [
      "Dataset: 31964 samples\n"
     ]
    }
   ],
   "source": [
    "filename = f\"_emb_{path.basename(llm_name).replace('-', '_')}_{data.attrs['name']}.pt\"\n",
    "\n",
    "if path.exists(filename):\n",
    "    embeddings = torch.load(filename)\n",
    "else:\n",
    "    \n",
    "    # Get the unique documents to avoid redundant computations\n",
    "    docs = data['doc'].drop_duplicates().sample(frac = 1).values\n",
    "    \n",
    "    # Compute the embeddings for each document\n",
    "    embeddings = dict()\n",
    "    for doc in tqdm(docs):\n",
    "        \n",
    "        # Tokenize the textual document (x)\n",
    "        input_ids = tokenizer(doc, return_tensors = 'pt').to(llm.device)\n",
    "\n",
    "        # Process the tokenized document using the frozen LLM\n",
    "        llm_output = llm(**input_ids, output_hidden_states=True)\n",
    "\n",
    "        # Get the embeddings from the last hidden layer [batch_size, seq_len, hidden_dim]\n",
    "        num_layer = -1 #llm.config.num_hidden_layers // 2\n",
    "        last_token_emb = llm_output.hidden_states[num_layer][:, -1, :]\n",
    "        embeddings[doc] = last_token_emb.detach().cpu().squeeze()\n",
    "\n",
    "    # Cache embeddings to save time in future runs\n",
    "    torch.save(embeddings, filename)\n",
    "    \n",
    "# Add embeddings to the original dataframe\n",
    "data['embedding'] = data['doc'].map(embeddings)\n",
    "\n",
    "# Remove samples without embeddings (if any)\n",
    "data = data.dropna(subset = ['embedding']).reset_index(drop = True)\n",
    "print(f\"Dataset: {data.shape[0]} samples\")"
   ]
  },
  {
   "cell_type": "markdown",
   "metadata": {
    "id": "BcVEVSY3II1i"
   },
   "source": [
    "## Create our own [*PyTorch Dataset*](https://docs.pytorch.org/tutorials/beginner/basics/data_tutorial.html) for training\n"
   ]
  },
  {
   "cell_type": "code",
   "execution_count": 14,
   "metadata": {
    "id": "WeNuoMpzIQR3"
   },
   "outputs": [],
   "source": [
    "from torch.utils.data import Dataset"
   ]
  },
  {
   "cell_type": "code",
   "execution_count": 15,
   "metadata": {},
   "outputs": [],
   "source": [
    "class MyDataset(Dataset):\n",
    "    def __init__(self, df: pd.DataFrame):\n",
    "        self.df = df\n",
    "\n",
    "        self.class_mapping = {i: label for i, label in enumerate(df['label'].unique())}\n",
    "        self.label_to_int = {v: k for k, v in self.class_mapping.items()}\n",
    "\n",
    "    def __len__(self):\n",
    "        return len(self.df)\n",
    "    \n",
    "    def get_embedding_dim(self):\n",
    "        return self.df.iloc[0]['embedding'].shape[0]\n",
    "    \n",
    "    def get_num_classes(self):\n",
    "        return len(self.class_mapping)\n",
    "    \n",
    "    def __getitem__(self, idx):\n",
    "        embeddings = self.df.iloc[idx]['embedding']\n",
    "        \n",
    "        labels = self.df.iloc[idx]['label']\n",
    "        labels = self.label_to_int[self.df.iloc[idx]['label']]\n",
    "    \n",
    "        return embeddings, labels"
   ]
  },
  {
   "cell_type": "markdown",
   "metadata": {},
   "source": [
    "# Explore the dataset"
   ]
  },
  {
   "cell_type": "code",
   "execution_count": 16,
   "metadata": {},
   "outputs": [
    {
     "name": "stdout",
     "output_type": "stream",
     "text": [
      "EMBEDDING (type: <class 'torch.Tensor'>; size = 2560)--> CLASS: 0 (True)\n",
      "EMBEDDING (type: <class 'torch.Tensor'>; size = 2560)--> CLASS: 1 (False)\n"
     ]
    }
   ],
   "source": [
    "# Initialize the dataset \n",
    "dataset = MyDataset(data)\n",
    "\n",
    "# Explore the dataset\n",
    "training_items = iter(dataset)\n",
    "emb_0, label_0 = next(training_items)\n",
    "print(f\"EMBEDDING (type: {type(emb_0)}; size = {emb_0.shape[0]})\" '--> CLASS:', label_0, f'({dataset.class_mapping[label_0]})')\n",
    "\n",
    "emb_1, label_1 = next(training_items)\n",
    "print(f\"EMBEDDING (type: {type(emb_1)}; size = {emb_1.shape[0]})\" '--> CLASS:', label_1, f'({dataset.class_mapping[label_1]})')"
   ]
  },
  {
   "cell_type": "markdown",
   "metadata": {},
   "source": [
    "## Create our own *DataModule* ([PyTorch Lightining](https://lightning.ai/docs/pytorch/stable/data/datamodule.html)) with *DataLoaders* (PyTorch)"
   ]
  },
  {
   "cell_type": "code",
   "execution_count": 17,
   "metadata": {},
   "outputs": [
    {
     "name": "stderr",
     "output_type": "stream",
     "text": [
      "huggingface/tokenizers: The current process just got forked, after parallelism has already been used. Disabling parallelism to avoid deadlocks...\n",
      "To disable this warning, you can either:\n",
      "\t- Avoid using `tokenizers` before the fork if possible\n",
      "\t- Explicitly set the environment variable TOKENIZERS_PARALLELISM=(true | false)\n"
     ]
    },
    {
     "name": "stdout",
     "output_type": "stream",
     "text": [
      "Requirement already satisfied: lightning in ./.venv/lib/python3.10/site-packages (2.5.5)\n",
      "Requirement already satisfied: PyYAML<8.0,>5.4 in ./.venv/lib/python3.10/site-packages (from lightning) (6.0.3)\n",
      "Requirement already satisfied: fsspec<2027.0,>=2022.5.0 in ./.venv/lib/python3.10/site-packages (from fsspec[http]<2027.0,>=2022.5.0->lightning) (2025.9.0)\n",
      "Requirement already satisfied: lightning-utilities<2.0,>=0.10.0 in ./.venv/lib/python3.10/site-packages (from lightning) (0.15.2)\n",
      "Requirement already satisfied: packaging<27.0,>=20.0 in ./.venv/lib/python3.10/site-packages (from lightning) (25.0)\n",
      "Requirement already satisfied: torch<4.0,>=2.1.0 in ./.venv/lib/python3.10/site-packages (from lightning) (2.8.0)\n",
      "Requirement already satisfied: torchmetrics<3.0,>0.7.0 in ./.venv/lib/python3.10/site-packages (from lightning) (1.8.2)\n",
      "Requirement already satisfied: tqdm<6.0,>=4.57.0 in ./.venv/lib/python3.10/site-packages (from lightning) (4.67.1)\n",
      "Requirement already satisfied: typing-extensions<6.0,>4.5.0 in ./.venv/lib/python3.10/site-packages (from lightning) (4.15.0)\n",
      "Requirement already satisfied: pytorch-lightning in ./.venv/lib/python3.10/site-packages (from lightning) (2.5.5)\n",
      "Requirement already satisfied: aiohttp!=4.0.0a0,!=4.0.0a1 in ./.venv/lib/python3.10/site-packages (from fsspec[http]<2027.0,>=2022.5.0->lightning) (3.12.15)\n",
      "Requirement already satisfied: setuptools in ./.venv/lib/python3.10/site-packages (from lightning-utilities<2.0,>=0.10.0->lightning) (80.9.0)\n",
      "Requirement already satisfied: filelock in ./.venv/lib/python3.10/site-packages (from torch<4.0,>=2.1.0->lightning) (3.19.1)\n",
      "Requirement already satisfied: sympy>=1.13.3 in ./.venv/lib/python3.10/site-packages (from torch<4.0,>=2.1.0->lightning) (1.14.0)\n",
      "Requirement already satisfied: networkx in ./.venv/lib/python3.10/site-packages (from torch<4.0,>=2.1.0->lightning) (3.4.2)\n",
      "Requirement already satisfied: jinja2 in ./.venv/lib/python3.10/site-packages (from torch<4.0,>=2.1.0->lightning) (3.1.6)\n",
      "Requirement already satisfied: nvidia-cuda-nvrtc-cu12==12.8.93 in ./.venv/lib/python3.10/site-packages (from torch<4.0,>=2.1.0->lightning) (12.8.93)\n",
      "Requirement already satisfied: nvidia-cuda-runtime-cu12==12.8.90 in ./.venv/lib/python3.10/site-packages (from torch<4.0,>=2.1.0->lightning) (12.8.90)\n",
      "Requirement already satisfied: nvidia-cuda-cupti-cu12==12.8.90 in ./.venv/lib/python3.10/site-packages (from torch<4.0,>=2.1.0->lightning) (12.8.90)\n",
      "Requirement already satisfied: nvidia-cudnn-cu12==9.10.2.21 in ./.venv/lib/python3.10/site-packages (from torch<4.0,>=2.1.0->lightning) (9.10.2.21)\n",
      "Requirement already satisfied: nvidia-cublas-cu12==12.8.4.1 in ./.venv/lib/python3.10/site-packages (from torch<4.0,>=2.1.0->lightning) (12.8.4.1)\n",
      "Requirement already satisfied: nvidia-cufft-cu12==11.3.3.83 in ./.venv/lib/python3.10/site-packages (from torch<4.0,>=2.1.0->lightning) (11.3.3.83)\n",
      "Requirement already satisfied: nvidia-curand-cu12==10.3.9.90 in ./.venv/lib/python3.10/site-packages (from torch<4.0,>=2.1.0->lightning) (10.3.9.90)\n",
      "Requirement already satisfied: nvidia-cusolver-cu12==11.7.3.90 in ./.venv/lib/python3.10/site-packages (from torch<4.0,>=2.1.0->lightning) (11.7.3.90)\n",
      "Requirement already satisfied: nvidia-cusparse-cu12==12.5.8.93 in ./.venv/lib/python3.10/site-packages (from torch<4.0,>=2.1.0->lightning) (12.5.8.93)\n",
      "Requirement already satisfied: nvidia-cusparselt-cu12==0.7.1 in ./.venv/lib/python3.10/site-packages (from torch<4.0,>=2.1.0->lightning) (0.7.1)\n",
      "Requirement already satisfied: nvidia-nccl-cu12==2.27.3 in ./.venv/lib/python3.10/site-packages (from torch<4.0,>=2.1.0->lightning) (2.27.3)\n",
      "Requirement already satisfied: nvidia-nvtx-cu12==12.8.90 in ./.venv/lib/python3.10/site-packages (from torch<4.0,>=2.1.0->lightning) (12.8.90)\n",
      "Requirement already satisfied: nvidia-nvjitlink-cu12==12.8.93 in ./.venv/lib/python3.10/site-packages (from torch<4.0,>=2.1.0->lightning) (12.8.93)\n",
      "Requirement already satisfied: nvidia-cufile-cu12==1.13.1.3 in ./.venv/lib/python3.10/site-packages (from torch<4.0,>=2.1.0->lightning) (1.13.1.3)\n",
      "Requirement already satisfied: triton==3.4.0 in ./.venv/lib/python3.10/site-packages (from torch<4.0,>=2.1.0->lightning) (3.4.0)\n",
      "Requirement already satisfied: numpy>1.20.0 in ./.venv/lib/python3.10/site-packages (from torchmetrics<3.0,>0.7.0->lightning) (1.26.4)\n",
      "Requirement already satisfied: aiohappyeyeballs>=2.5.0 in ./.venv/lib/python3.10/site-packages (from aiohttp!=4.0.0a0,!=4.0.0a1->fsspec[http]<2027.0,>=2022.5.0->lightning) (2.6.1)\n",
      "Requirement already satisfied: aiosignal>=1.4.0 in ./.venv/lib/python3.10/site-packages (from aiohttp!=4.0.0a0,!=4.0.0a1->fsspec[http]<2027.0,>=2022.5.0->lightning) (1.4.0)\n",
      "Requirement already satisfied: async-timeout<6.0,>=4.0 in ./.venv/lib/python3.10/site-packages (from aiohttp!=4.0.0a0,!=4.0.0a1->fsspec[http]<2027.0,>=2022.5.0->lightning) (5.0.1)\n",
      "Requirement already satisfied: attrs>=17.3.0 in ./.venv/lib/python3.10/site-packages (from aiohttp!=4.0.0a0,!=4.0.0a1->fsspec[http]<2027.0,>=2022.5.0->lightning) (25.3.0)\n",
      "Requirement already satisfied: frozenlist>=1.1.1 in ./.venv/lib/python3.10/site-packages (from aiohttp!=4.0.0a0,!=4.0.0a1->fsspec[http]<2027.0,>=2022.5.0->lightning) (1.7.0)\n",
      "Requirement already satisfied: multidict<7.0,>=4.5 in ./.venv/lib/python3.10/site-packages (from aiohttp!=4.0.0a0,!=4.0.0a1->fsspec[http]<2027.0,>=2022.5.0->lightning) (6.6.4)\n",
      "Requirement already satisfied: propcache>=0.2.0 in ./.venv/lib/python3.10/site-packages (from aiohttp!=4.0.0a0,!=4.0.0a1->fsspec[http]<2027.0,>=2022.5.0->lightning) (0.3.2)\n",
      "Requirement already satisfied: yarl<2.0,>=1.17.0 in ./.venv/lib/python3.10/site-packages (from aiohttp!=4.0.0a0,!=4.0.0a1->fsspec[http]<2027.0,>=2022.5.0->lightning) (1.20.1)\n",
      "Requirement already satisfied: idna>=2.0 in ./.venv/lib/python3.10/site-packages (from yarl<2.0,>=1.17.0->aiohttp!=4.0.0a0,!=4.0.0a1->fsspec[http]<2027.0,>=2022.5.0->lightning) (3.10)\n",
      "Requirement already satisfied: mpmath<1.4,>=1.1.0 in ./.venv/lib/python3.10/site-packages (from sympy>=1.13.3->torch<4.0,>=2.1.0->lightning) (1.3.0)\n",
      "Requirement already satisfied: MarkupSafe>=2.0 in ./.venv/lib/python3.10/site-packages (from jinja2->torch<4.0,>=2.1.0->lightning) (3.0.3)\n"
     ]
    }
   ],
   "source": [
    "!pip install lightning"
   ]
  },
  {
   "cell_type": "code",
   "execution_count": 18,
   "metadata": {},
   "outputs": [],
   "source": [
    "from lightning import LightningDataModule\n",
    "from torch.utils.data import DataLoader, random_split"
   ]
  },
  {
   "cell_type": "code",
   "execution_count": 19,
   "metadata": {
    "id": "ilFDZG5VLqFN"
   },
   "outputs": [],
   "source": [
    "class MyDataModule(LightningDataModule):\n",
    "    def __init__(self, data: Dataset, batch_size: int = 32, val_size:float = 0.1, test_size:float = 0.1):\n",
    "        super().__init__()\n",
    "\n",
    "        # Initialize the variables\n",
    "        self.data = data\n",
    "        self.batch_size = batch_size\n",
    "\n",
    "        self.train_size = 1 - val_size - test_size\n",
    "        self.val_size = val_size\n",
    "        self.test_size = test_size\n",
    "\n",
    "        # Set the seed for reproducibility\n",
    "        self.random_seed = 101\n",
    "\n",
    "    def setup(self, stage:str):\n",
    "\n",
    "        # Create the splits\n",
    "        train_set, val_set, test_set = random_split(\n",
    "            dataset = self.data,\n",
    "            generator = torch.Generator().manual_seed(self.random_seed),\n",
    "            lengths = [self.train_size, self.val_size, self.test_size])\n",
    "\n",
    "        self.train_set = train_set\n",
    "        self.val_set = val_set\n",
    "        self.test_set = test_set\n",
    "\n",
    "        print('\\nINPUTS:', len(self.data), '--> TRAIN:', round(((len(self.train_set) / len(self.data)) * 100), 1), '%',\n",
    "              '|| VALIDATION:', round(((len(self.val_set) / len(self.data)) * 100), 1), '%',\n",
    "              '|| TEST:', round(((len(self.test_set) / len(self.data)) * 100), 1), '%', '\\n')\n",
    "\n",
    "    def train_dataloader(self):\n",
    "        return DataLoader(self.train_set, batch_size = self.batch_size, shuffle = True)\n",
    "\n",
    "    def val_dataloader(self):\n",
    "        return DataLoader(self.val_set, batch_size = self.batch_size, shuffle = False)\n",
    "\n",
    "    def test_dataloader(self):\n",
    "        return DataLoader(self.test_set, batch_size = self.batch_size, shuffle = False)"
   ]
  },
  {
   "cell_type": "markdown",
   "metadata": {
    "id": "sGIkgriGR6Lc"
   },
   "source": [
    "# Create our probe\n",
    "### A multiclass classifier that extracts latent features ($y_i \\in \\mathcal{Y}$; classes) from LLM embeddings\n",
    "$ \\mathcal{F}: \\mathbb{R}^d \\to \\mathcal{Y}, \\quad emb_{doc} \\to label_{doc}$ "
   ]
  },
  {
   "cell_type": "code",
   "execution_count": 20,
   "metadata": {
    "id": "kU2rFz5kSUzq"
   },
   "outputs": [],
   "source": [
    "import torch.nn as nn"
   ]
  },
  {
   "cell_type": "code",
   "execution_count": 21,
   "metadata": {
    "id": "Sb9kJVzDSOgm"
   },
   "outputs": [],
   "source": [
    "class Network(nn.Module):\n",
    "    def __init__(self, input_dim:int, num_classes: int):\n",
    "        super().__init__()\n",
    "        \n",
    "        self.num_classes = num_classes\n",
    "        self.input_dim = input_dim\n",
    "\n",
    "        # Set the latent dimension\n",
    "        self.latent_dim = 512\n",
    "\n",
    "        # Set the probability for the dropout layer\n",
    "        self.drop_p = 0.5\n",
    "\n",
    "        # Encoder layers\n",
    "        self.decoder_layer = nn.Sequential(\n",
    "\n",
    "            # Layer 0\n",
    "            nn.Linear(self.input_dim, self.latent_dim),\n",
    "            nn.ReLU(),\n",
    "            nn.LayerNorm(self.latent_dim),\n",
    "            nn.Dropout(self.drop_p),\n",
    "\n",
    "            # Layer 1\n",
    "            nn.Linear(self.latent_dim, self.latent_dim),\n",
    "            nn.ReLU(),\n",
    "            nn.LayerNorm(self.latent_dim),\n",
    "            nn.Dropout(self.drop_p),\n",
    "        )\n",
    "\n",
    "        # Output layers\n",
    "        self.output_layer = nn.Sequential(\n",
    "            nn.LayerNorm(self.latent_dim),\n",
    "            nn.Linear(self.latent_dim, self.num_classes),\n",
    "            nn.Softmax(dim = 1) # Get probability distribution over the classes [batch_size, num_classes]\n",
    "        )\n",
    "\n",
    "    def forward(self, x):\n",
    "\n",
    "        # Learn the latent fetures from the LLM embeddings\n",
    "        x = self.decoder_layer(x)\n",
    "\n",
    "        # Output layer with the SoftMax\n",
    "        out = self.output_layer(x)\n",
    "\n",
    "        return out"
   ]
  },
  {
   "cell_type": "markdown",
   "metadata": {
    "id": "sZ4Y8xvQf00N"
   },
   "source": [
    "### Why do we consider the median hidden layer?"
   ]
  },
  {
   "cell_type": "markdown",
   "metadata": {
    "id": "woHOnid7XlfK"
   },
   "source": [
    "# Define the loss function and the training process"
   ]
  },
  {
   "cell_type": "code",
   "execution_count": 22,
   "metadata": {
    "colab": {
     "base_uri": "https://localhost:8080/",
     "height": 313,
     "referenced_widgets": [
      "6d45eef2c1654d80b8f0aad9fb4caed9",
      "4aaed52dbbbb4dbf9cf89d2d80301e52",
      "914457eb46ae45199920b5af00de0d3e",
      "225de209ee514f34b441d4f0c97716fe",
      "9e63fda36c244e7bb89070596e20922f",
      "7a266148450f46708371c55872e9a5d7",
      "1f138a5f01fa44ed8970e8c1aabebfff",
      "1fef5e0c5daa4b2cb01e9862cd2f57e2",
      "fc26e7a39c6146069920e608936806c4",
      "de923190cd244af09671862456ff0c5f",
      "54ecb0a1de7548778c64bcb93812d166",
      "f65ac91eb7864dc4a1b60ab1ba401445",
      "877d51c2a8fc48cf8a68a69cacd9cf10",
      "544767fa72f74217b05b8dae4a41f92d",
      "f550a4125f05471f81ae977e74c6a83e",
      "9d356010a43f4cf4a3f9f923f5f14fea",
      "81b0a35f5efa4cce9d1ebd2be9398bfe",
      "f85e1ad333874cfb8a5224829987f0ab",
      "a42fb672bb1c4a65a5fcefbe5218f9d2",
      "e5b795fc834e462d8d53813165700cb8",
      "5fbbe00758234f3ab74fd89fe7980218",
      "ef25bcd5a5154155ab69bd8fa2d9282b",
      "9405e3df14d84856a1a371b62d76f538",
      "c8be30d1db8043869f3c5f36e5070f1f",
      "58e6fc92af6b4ca88e8c423bad8c21eb",
      "da8c98b5362d42cd9be9f6b838ec439e",
      "2a2179c2f3f84683b8945486ae1f300a",
      "f81b219d16b947acbdb7bd965844a885",
      "3a85c869d9a74e51bf0fb7c961ad0fbc",
      "073fb0dd41bb43379b74c957c8da2671",
      "5ee2b0eac5a34a35a0cb9ee06c6fc2a7",
      "a7fe59acd2ff4edcad7fb290e34a51b5",
      "2dacfc8a675b4c19ab20ba2cc80a61c6",
      "e70f6bd569cc4e648600ee94a47bedbe",
      "f443e422f08445b69b275d0d787af74f",
      "b777e2515ae84ecbaa57595bf8510dcf",
      "38cd32f11998461d81ffec6ecc21cf14",
      "66c868ab8d174c0f91a728db72c842c0",
      "d0713ec68b1d4021a38b53d15ea66dbb",
      "6ba9868f89d04d0386b3231d30c5818b",
      "fdb28aec230e42b8ae343df80d0293e1",
      "76f0b69582ba485e9bf7abc61afb4265",
      "0e6ed6d6bffb4e268bdca0d4ac0a2cf5",
      "1136dca0f3ec47cbb4275a0de785c1ee",
      "06fdcdf2621e46b689b874b0e65ceb14",
      "f7c41fd4af9e4f02a54db2eca4dc3de6",
      "a74c446e172941948002b795d4ffc74b",
      "705c241b45a04b08a0f49268e5c71445",
      "7ce6ccd9fb794278a7ce2cc4a8423b7c",
      "d7575fcc265c4edab09db62ca9505a4a",
      "5a5444452c364b5794f4aa8e79117f9b",
      "831f2a092d33437bba62e77184b786c8",
      "4837ef40d1464c348af00cccb47ddc65",
      "dd0889316d064da58b23d9eae04fb220",
      "1d52f67617c24f3e90be841eab88dce8",
      "22f66f9c92e84bfab52ff5cadcbdd491",
      "e2241397117349e782e2b55b75263677",
      "cc84d3eebd4549c98e855a7bc6bf311a",
      "c099ecfc54f1442a915320efe503d9ec",
      "343a1001c21045bbb10c2c7c1fd9a908",
      "75d5ae38ae614e8fa6edcf52b5ba17ae",
      "ff397bf9b7b648eb843f6919fbd93d06",
      "944daecee6b84e03874cb0508f469f0f",
      "3df70a4069a64bd2bdf6a2317c6d3bae",
      "5e574cd79a4b439ea5274f5f0dd2ba36",
      "1a71aaea4d3f4836846d8bf198a67dcb"
     ]
    },
    "id": "MX5OzamuWw6a",
    "outputId": "707721c6-ead1-4119-c8df-19e3e0c886af"
   },
   "outputs": [],
   "source": [
    "from lightning import LightningModule\n",
    "from torchmetrics.classification import F1Score, Precision, Recall"
   ]
  },
  {
   "cell_type": "code",
   "execution_count": 23,
   "metadata": {
    "id": "BaxP8SacW_mn"
   },
   "outputs": [],
   "source": [
    "class Classifier(LightningModule):\n",
    "    def __init__(self, num_classes: int, input_dim:int, lr:float):\n",
    "        super().__init__()\n",
    "\n",
    "        # Unpacked the configs\n",
    "        self.lr = lr\n",
    "\n",
    "        # Load our custom model\n",
    "        self.model = Network(input_dim, num_classes)\n",
    "\n",
    "        # Define the loss function\n",
    "        self.loss_function = nn.CrossEntropyLoss()\n",
    "\n",
    "        # Define the classification metrics for the validation and test sets\n",
    "        self.val_history = {'F1': [], 'precision': [], 'recall': []}\n",
    "        \n",
    "        # Define the classification metrics for the validation and test sets\n",
    "        self.val_f1 = F1Score(task=\"multiclass\", num_classes = num_classes, average=\"macro\")\n",
    "        self.test_f1 = F1Score(task=\"multiclass\", num_classes = num_classes, average=\"macro\")\n",
    "        \n",
    "        self.val_precision = Precision(task=\"multiclass\", num_classes = num_classes, average=\"macro\")\n",
    "        self.test_precision = Precision(task=\"multiclass\", num_classes = num_classes, average=\"macro\")\n",
    "        \n",
    "        self.val_recall = Recall(task=\"multiclass\", num_classes = num_classes, average=\"macro\")\n",
    "        self.test_recall = Recall(task=\"multiclass\", num_classes = num_classes, average=\"macro\")\n",
    "\n",
    "        self.val_history = {'F1': [], 'precision': [], 'recall': []}\n",
    "\n",
    "    # Define the optimizer\n",
    "    def configure_optimizers(self):\n",
    "        return torch.optim.AdamW(self.parameters(), lr = self.lr)\n",
    "\n",
    "    def forward(self, x):\n",
    "        return self.model(x)\n",
    "\n",
    "    def _step(self, batch, batch_idx):\n",
    "\n",
    "        # Unpack the batch\n",
    "        docs, labels = batch\n",
    "\n",
    "        # Forward pass\n",
    "        outputs = self(docs)\n",
    "\n",
    "        # Compute the loss\n",
    "        loss = self.loss_function(outputs, labels)\n",
    "\n",
    "        # Get the most likely class\n",
    "        preds = torch.argmax(outputs, dim=1)\n",
    "\n",
    "        return loss, preds, labels\n",
    "\n",
    "    def training_step(self, batch, batch_idx):\n",
    "        loss, *_  = self._step(batch, batch_idx)\n",
    "\n",
    "        # Log metrics\n",
    "        self.log('train_loss', loss, on_step=False, on_epoch=True, prog_bar=True)\n",
    "\n",
    "        return loss\n",
    "\n",
    "    def validation_step(self, batch, batch_idx):\n",
    "        with torch.inference_mode():\n",
    "            loss, preds, labels  = self._step(batch, batch_idx)\n",
    "\n",
    "        # Compute the classification metrics for the validation set\n",
    "        self.val_precision.update(preds, labels)\n",
    "        self.val_recall.update(preds, labels)\n",
    "        self.val_f1.update(preds, labels)\n",
    "\n",
    "        # Log metrics\n",
    "        self.log('val_loss', loss, on_step=False, on_epoch=True, prog_bar=True)\n",
    "        self.log('val_precision', self.val_precision, on_step=False, on_epoch=True, prog_bar=True)\n",
    "        self.log('val_recall', self.val_recall, on_step=False, on_epoch=True, prog_bar=True)\n",
    "        self.log('val_f1', self.val_f1, on_step=False, on_epoch=True, prog_bar=True)\n",
    "\n",
    "    def on_validation_epoch_end(self):        \n",
    "        self.val_history['precision'].append(self.trainer.callback_metrics[\"val_precision\"].item())\n",
    "        self.val_history['recall'].append(self.trainer.callback_metrics[\"val_recall\"].item())\n",
    "        self.val_history['F1'].append(self.trainer.callback_metrics[\"val_f1\"].item())\n",
    "\n",
    "        # Visualize the metrics every two epochs\n",
    "        if (self.current_epoch + 1) % 2 == 0: \n",
    "            df = pd.DataFrame(self.val_history)\n",
    "            plot_values(df, epoch_number = self.current_epoch + 1)\n",
    "\n",
    "    def test_step(self, batch, batch_idx):\n",
    "        with torch.inference_mode():\n",
    "            _, preds, labels  = self._step(batch, batch_idx)\n",
    "\n",
    "        # Compute the classification metrics for the test set\n",
    "        self.test_precision.update(preds, labels)\n",
    "        self.test_recall.update(preds, labels)\n",
    "        self.test_f1.update(preds, labels)\n",
    "\n",
    "        # Log metrics\n",
    "        self.log('test_precision', self.test_precision, on_epoch=True, prog_bar=True)\n",
    "        self.log('test_recall', self.test_recall, on_epoch=True, prog_bar=True)\n",
    "        self.log('test_f1', self.test_f1, on_epoch=True, prog_bar=True)\n"
   ]
  },
  {
   "cell_type": "markdown",
   "metadata": {},
   "source": [
    "### Create the plot the visualize the metrics during training"
   ]
  },
  {
   "cell_type": "code",
   "execution_count": 24,
   "metadata": {},
   "outputs": [
    {
     "name": "stderr",
     "output_type": "stream",
     "text": [
      "huggingface/tokenizers: The current process just got forked, after parallelism has already been used. Disabling parallelism to avoid deadlocks...\n",
      "To disable this warning, you can either:\n",
      "\t- Avoid using `tokenizers` before the fork if possible\n",
      "\t- Explicitly set the environment variable TOKENIZERS_PARALLELISM=(true | false)\n"
     ]
    },
    {
     "name": "stdout",
     "output_type": "stream",
     "text": [
      "Requirement already satisfied: seaborn in ./.venv/lib/python3.10/site-packages (0.13.2)\n",
      "Requirement already satisfied: numpy!=1.24.0,>=1.20 in ./.venv/lib/python3.10/site-packages (from seaborn) (1.26.4)\n",
      "Requirement already satisfied: pandas>=1.2 in ./.venv/lib/python3.10/site-packages (from seaborn) (2.3.3)\n",
      "Requirement already satisfied: matplotlib!=3.6.1,>=3.4 in ./.venv/lib/python3.10/site-packages (from seaborn) (3.10.6)\n",
      "Requirement already satisfied: contourpy>=1.0.1 in ./.venv/lib/python3.10/site-packages (from matplotlib!=3.6.1,>=3.4->seaborn) (1.3.2)\n",
      "Requirement already satisfied: cycler>=0.10 in ./.venv/lib/python3.10/site-packages (from matplotlib!=3.6.1,>=3.4->seaborn) (0.12.1)\n",
      "Requirement already satisfied: fonttools>=4.22.0 in ./.venv/lib/python3.10/site-packages (from matplotlib!=3.6.1,>=3.4->seaborn) (4.60.0)\n",
      "Requirement already satisfied: kiwisolver>=1.3.1 in ./.venv/lib/python3.10/site-packages (from matplotlib!=3.6.1,>=3.4->seaborn) (1.4.9)\n",
      "Requirement already satisfied: packaging>=20.0 in ./.venv/lib/python3.10/site-packages (from matplotlib!=3.6.1,>=3.4->seaborn) (25.0)\n",
      "Requirement already satisfied: pillow>=8 in ./.venv/lib/python3.10/site-packages (from matplotlib!=3.6.1,>=3.4->seaborn) (11.3.0)\n",
      "Requirement already satisfied: pyparsing>=2.3.1 in ./.venv/lib/python3.10/site-packages (from matplotlib!=3.6.1,>=3.4->seaborn) (3.2.5)\n",
      "Requirement already satisfied: python-dateutil>=2.7 in ./.venv/lib/python3.10/site-packages (from matplotlib!=3.6.1,>=3.4->seaborn) (2.9.0.post0)\n",
      "Requirement already satisfied: pytz>=2020.1 in ./.venv/lib/python3.10/site-packages (from pandas>=1.2->seaborn) (2025.2)\n",
      "Requirement already satisfied: tzdata>=2022.7 in ./.venv/lib/python3.10/site-packages (from pandas>=1.2->seaborn) (2025.2)\n",
      "Requirement already satisfied: six>=1.5 in ./.venv/lib/python3.10/site-packages (from python-dateutil>=2.7->matplotlib!=3.6.1,>=3.4->seaborn) (1.17.0)\n"
     ]
    }
   ],
   "source": [
    "!pip install seaborn"
   ]
  },
  {
   "cell_type": "code",
   "execution_count": 25,
   "metadata": {
    "id": "X23txBAzZP6T"
   },
   "outputs": [],
   "source": [
    "from matplotlib.ticker import MaxNLocator\n",
    "import matplotlib.pyplot as plt\n",
    "import seaborn as sns"
   ]
  },
  {
   "cell_type": "code",
   "execution_count": 26,
   "metadata": {
    "id": "rnuohNOBVTBT"
   },
   "outputs": [],
   "source": [
    "def plot_values(df, epoch_number):\n",
    "    colors = {'F1': 'tab:blue', 'precision': 'tab:green', 'recall': 'tab:orange'}\n",
    "\n",
    "    # Plot the metrics as lines\n",
    "    sns.lineplot(data = df, palette = colors, marker = 'o')\n",
    "\n",
    "    # Some graphical setting\n",
    "    ax = plt.gca()\n",
    "    ax.xaxis.set_major_locator(MaxNLocator(integer=True))\n",
    "    ax.set_title(f'VALIDATION (epoch {epoch_number})')\n",
    "    ax.grid(True)\n",
    "    ax.legend(title=\"Metric\")\n",
    "\n",
    "    plt.show()"
   ]
  },
  {
   "cell_type": "markdown",
   "metadata": {
    "id": "4C2y_zDzWlnU"
   },
   "source": [
    "# Train our custom neural models with Pytorch Lighting"
   ]
  },
  {
   "cell_type": "code",
   "execution_count": 27,
   "metadata": {
    "id": "NndTpyOcaZSM"
   },
   "outputs": [],
   "source": [
    "num_epochs = 20\n",
    "learning_rate = 1e-4"
   ]
  },
  {
   "cell_type": "code",
   "execution_count": 28,
   "metadata": {
    "colab": {
     "base_uri": "https://localhost:8080/",
     "height": 313,
     "referenced_widgets": [
      "6d45eef2c1654d80b8f0aad9fb4caed9",
      "4aaed52dbbbb4dbf9cf89d2d80301e52",
      "914457eb46ae45199920b5af00de0d3e",
      "225de209ee514f34b441d4f0c97716fe",
      "9e63fda36c244e7bb89070596e20922f",
      "7a266148450f46708371c55872e9a5d7",
      "1f138a5f01fa44ed8970e8c1aabebfff",
      "1fef5e0c5daa4b2cb01e9862cd2f57e2",
      "fc26e7a39c6146069920e608936806c4",
      "de923190cd244af09671862456ff0c5f",
      "54ecb0a1de7548778c64bcb93812d166",
      "f65ac91eb7864dc4a1b60ab1ba401445",
      "877d51c2a8fc48cf8a68a69cacd9cf10",
      "544767fa72f74217b05b8dae4a41f92d",
      "f550a4125f05471f81ae977e74c6a83e",
      "9d356010a43f4cf4a3f9f923f5f14fea",
      "81b0a35f5efa4cce9d1ebd2be9398bfe",
      "f85e1ad333874cfb8a5224829987f0ab",
      "a42fb672bb1c4a65a5fcefbe5218f9d2",
      "e5b795fc834e462d8d53813165700cb8",
      "5fbbe00758234f3ab74fd89fe7980218",
      "ef25bcd5a5154155ab69bd8fa2d9282b",
      "9405e3df14d84856a1a371b62d76f538",
      "c8be30d1db8043869f3c5f36e5070f1f",
      "58e6fc92af6b4ca88e8c423bad8c21eb",
      "da8c98b5362d42cd9be9f6b838ec439e",
      "2a2179c2f3f84683b8945486ae1f300a",
      "f81b219d16b947acbdb7bd965844a885",
      "3a85c869d9a74e51bf0fb7c961ad0fbc",
      "073fb0dd41bb43379b74c957c8da2671",
      "5ee2b0eac5a34a35a0cb9ee06c6fc2a7",
      "a7fe59acd2ff4edcad7fb290e34a51b5",
      "2dacfc8a675b4c19ab20ba2cc80a61c6",
      "e70f6bd569cc4e648600ee94a47bedbe",
      "f443e422f08445b69b275d0d787af74f",
      "b777e2515ae84ecbaa57595bf8510dcf",
      "38cd32f11998461d81ffec6ecc21cf14",
      "66c868ab8d174c0f91a728db72c842c0",
      "d0713ec68b1d4021a38b53d15ea66dbb",
      "6ba9868f89d04d0386b3231d30c5818b",
      "fdb28aec230e42b8ae343df80d0293e1",
      "76f0b69582ba485e9bf7abc61afb4265",
      "0e6ed6d6bffb4e268bdca0d4ac0a2cf5",
      "1136dca0f3ec47cbb4275a0de785c1ee",
      "06fdcdf2621e46b689b874b0e65ceb14",
      "f7c41fd4af9e4f02a54db2eca4dc3de6",
      "a74c446e172941948002b795d4ffc74b",
      "705c241b45a04b08a0f49268e5c71445",
      "7ce6ccd9fb794278a7ce2cc4a8423b7c",
      "d7575fcc265c4edab09db62ca9505a4a",
      "5a5444452c364b5794f4aa8e79117f9b",
      "831f2a092d33437bba62e77184b786c8",
      "4837ef40d1464c348af00cccb47ddc65",
      "dd0889316d064da58b23d9eae04fb220",
      "1d52f67617c24f3e90be841eab88dce8",
      "22f66f9c92e84bfab52ff5cadcbdd491",
      "e2241397117349e782e2b55b75263677",
      "cc84d3eebd4549c98e855a7bc6bf311a",
      "c099ecfc54f1442a915320efe503d9ec",
      "343a1001c21045bbb10c2c7c1fd9a908",
      "75d5ae38ae614e8fa6edcf52b5ba17ae",
      "ff397bf9b7b648eb843f6919fbd93d06",
      "944daecee6b84e03874cb0508f469f0f",
      "3df70a4069a64bd2bdf6a2317c6d3bae",
      "5e574cd79a4b439ea5274f5f0dd2ba36",
      "1a71aaea4d3f4836846d8bf198a67dcb"
     ]
    },
    "id": "MX5OzamuWw6a",
    "outputId": "707721c6-ead1-4119-c8df-19e3e0c886af"
   },
   "outputs": [],
   "source": [
    "probe = Classifier(\n",
    "    num_classes = dataset.get_num_classes(),\n",
    "    input_dim = dataset.get_embedding_dim(),\n",
    "    lr = learning_rate)\n",
    "dataloaders = MyDataModule(dataset, batch_size = 32, val_size = 0.1, test_size = 0.1)"
   ]
  },
  {
   "cell_type": "code",
   "execution_count": 29,
   "metadata": {
    "id": "sDrRxDFzaVGI"
   },
   "outputs": [],
   "source": [
    "from lightning import Trainer"
   ]
  },
  {
   "cell_type": "code",
   "execution_count": 30,
   "metadata": {
    "colab": {
     "base_uri": "https://localhost:8080/",
     "height": 1000,
     "referenced_widgets": [
      "a0d13f6502064da48c83ffaee4f50746",
      "9c1cac24a1c542aaa95ef28cc394758d",
      "e8688d40e0b748a59b71154b068976c0",
      "47ecf675a92a424094991ab0f51f3b02",
      "94d6157ef1864eb88766ba2e56d73009",
      "5286d2bdb9ac44da929555f434b67386",
      "06b5fb1da0f04ee69be779ddc227a9a1",
      "7c99172a0d6c4418a449c96caaf90a41",
      "8e167ff20db84c92aa68cf47d622acc4",
      "b9e8c9921ad545c1a53d2d334aba57d8",
      "4b302a85fcab426381457cf80df29e53",
      "8f8a7b044ac64ae68bc7ea671cecccb3",
      "bb17b5780a6e48f9b1f9941847100576",
      "f760f90e99fa47f6bef406beba5c91b9",
      "649573bcbc354d6682c1e2718fe0c675",
      "534c3c91c90e45349a25a8382ed11bd9",
      "25dc6cf01b044cb4b85414566433153d",
      "438d3be303be41d5ad4d453235851b12",
      "6a9ee186f8a84ce99610195bd7c3ff95",
      "dea282b07c2e4723acce875472b5584b",
      "a9a01a6459a84e2cbe696564ecaf388e",
      "8361ca9d0edd4c33b5330b59f13fb4f5"
     ]
    },
    "id": "sf_F7E3QZ-BB",
    "outputId": "05bf0aac-f939-4419-cfe6-376916dcf7e2"
   },
   "outputs": [
    {
     "name": "stderr",
     "output_type": "stream",
     "text": [
      "Trainer will use only 1 of 2 GPUs because it is running inside an interactive / notebook environment. You may try to set `Trainer(devices=2)` but please note that multi-GPU inside interactive / notebook environments is considered experimental and unstable. Your mileage may vary.\n",
      "💡 Tip: For seamless cloud uploads and versioning, try installing [litmodels](https://pypi.org/project/litmodels/) to enable LitModelCheckpoint, which syncs automatically with the Lightning model registry.\n",
      "GPU available: True (cuda), used: True\n",
      "TPU available: False, using: 0 TPU cores\n",
      "HPU available: False, using: 0 HPUs\n",
      "/home/bronzini/repositories/FM_2025/.venv/lib/python3.10/site-packages/lightning/pytorch/trainer/connectors/logger_connector/logger_connector.py:76: Starting from v1.9.0, `tensorboardX` has been removed as a dependency of the `lightning.pytorch` package, due to potential conflicts with other packages in the ML ecosystem. For this reason, `logger=True` will use `CSVLogger` as the default logger, unless the `tensorboard` or `tensorboardX` packages are found. Please `pip install lightning[extra]` or one of them to enable TensorBoard support by default\n",
      "You are using a CUDA device ('NVIDIA GeForce RTX 4090') that has Tensor Cores. To properly utilize them, you should set `torch.set_float32_matmul_precision('medium' | 'high')` which will trade-off precision for performance. For more details, read https://pytorch.org/docs/stable/generated/torch.set_float32_matmul_precision.html#torch.set_float32_matmul_precision\n",
      "LOCAL_RANK: 0 - CUDA_VISIBLE_DEVICES: [0,1]\n",
      "\n",
      "  | Name           | Type                | Params | Mode \n",
      "---------------------------------------------------------------\n",
      "0 | model          | Network             | 1.6 M  | train\n",
      "1 | loss_function  | CrossEntropyLoss    | 0      | train\n",
      "2 | val_f1         | MulticlassF1Score   | 0      | train\n",
      "3 | test_f1        | MulticlassF1Score   | 0      | train\n",
      "4 | val_precision  | MulticlassPrecision | 0      | train\n",
      "5 | test_precision | MulticlassPrecision | 0      | train\n",
      "6 | val_recall     | MulticlassRecall    | 0      | train\n",
      "7 | test_recall    | MulticlassRecall    | 0      | train\n",
      "---------------------------------------------------------------\n",
      "1.6 M     Trainable params\n",
      "0         Non-trainable params\n",
      "1.6 M     Total params\n",
      "6.312     Total estimated model params size (MB)\n",
      "21        Modules in train mode\n",
      "0         Modules in eval mode\n"
     ]
    },
    {
     "name": "stdout",
     "output_type": "stream",
     "text": [
      "\n",
      "INPUTS: 31964 --> TRAIN: 80.0 % || VALIDATION: 10.0 % || TEST: 10.0 % \n",
      "\n",
      "                                                                           "
     ]
    },
    {
     "name": "stderr",
     "output_type": "stream",
     "text": [
      "/home/bronzini/repositories/FM_2025/.venv/lib/python3.10/site-packages/lightning/pytorch/trainer/connectors/data_connector.py:433: The 'val_dataloader' does not have many workers which may be a bottleneck. Consider increasing the value of the `num_workers` argument` to `num_workers=31` in the `DataLoader` to improve performance.\n",
      "/home/bronzini/repositories/FM_2025/.venv/lib/python3.10/site-packages/lightning/pytorch/trainer/connectors/data_connector.py:433: The 'train_dataloader' does not have many workers which may be a bottleneck. Consider increasing the value of the `num_workers` argument` to `num_workers=31` in the `DataLoader` to improve performance.\n"
     ]
    },
    {
     "name": "stdout",
     "output_type": "stream",
     "text": [
      "Epoch 1: 100%|██████████| 800/800 [00:02<00:00, 317.79it/s, v_num=23, val_loss=0.546, val_precision=0.754, val_recall=0.751, val_f1=0.750, train_loss=0.564]"
     ]
    },
    {
     "data": {
      "image/png": "[encoded data removed]",
      "text/plain": [
       "<Figure size 640x480 with 1 Axes>"
      ]
     },
     "metadata": {},
     "output_type": "display_data"
    },
    {
     "name": "stdout",
     "output_type": "stream",
     "text": [
      "Epoch 3: 100%|██████████| 800/800 [00:02<00:00, 314.60it/s, v_num=23, val_loss=0.531, val_precision=0.772, val_recall=0.769, val_f1=0.769, train_loss=0.528]"
     ]
    },
    {
     "data": {
      "image/png": "[encoded data removed]",
      "text/plain": [
       "<Figure size 640x480 with 1 Axes>"
      ]
     },
     "metadata": {},
     "output_type": "display_data"
    },
    {
     "name": "stdout",
     "output_type": "stream",
     "text": [
      "Epoch 5: 100%|██████████| 800/800 [00:02<00:00, 315.28it/s, v_num=23, val_loss=0.534, val_precision=0.763, val_recall=0.762, val_f1=0.762, train_loss=0.519]"
     ]
    },
    {
     "data": {
      "image/png": "[encoded data removed]",
      "text/plain": [
       "<Figure size 640x480 with 1 Axes>"
      ]
     },
     "metadata": {},
     "output_type": "display_data"
    },
    {
     "name": "stdout",
     "output_type": "stream",
     "text": [
      "Epoch 7: 100%|██████████| 800/800 [00:02<00:00, 311.70it/s, v_num=23, val_loss=0.525, val_precision=0.776, val_recall=0.775, val_f1=0.775, train_loss=0.513]"
     ]
    },
    {
     "data": {
      "image/png": "[encoded data removed]",
      "text/plain": [
       "<Figure size 640x480 with 1 Axes>"
      ]
     },
     "metadata": {},
     "output_type": "display_data"
    },
    {
     "name": "stdout",
     "output_type": "stream",
     "text": [
      "Epoch 9: 100%|██████████| 800/800 [00:02<00:00, 301.78it/s, v_num=23, val_loss=0.529, val_precision=0.771, val_recall=0.770, val_f1=0.769, train_loss=0.509]"
     ]
    },
    {
     "data": {
      "image/png": "[encoded data removed]",
      "text/plain": [
       "<Figure size 640x480 with 1 Axes>"
      ]
     },
     "metadata": {},
     "output_type": "display_data"
    },
    {
     "name": "stdout",
     "output_type": "stream",
     "text": [
      "Epoch 11: 100%|██████████| 800/800 [00:02<00:00, 304.99it/s, v_num=23, val_loss=0.522, val_precision=0.771, val_recall=0.771, val_f1=0.771, train_loss=0.507]"
     ]
    },
    {
     "data": {
      "image/png": "[encoded data removed]",
      "text/plain": [
       "<Figure size 640x480 with 1 Axes>"
      ]
     },
     "metadata": {},
     "output_type": "display_data"
    },
    {
     "name": "stdout",
     "output_type": "stream",
     "text": [
      "Epoch 13: 100%|██████████| 800/800 [00:02<00:00, 301.92it/s, v_num=23, val_loss=0.536, val_precision=0.782, val_recall=0.762, val_f1=0.758, train_loss=0.502]"
     ]
    },
    {
     "data": {
      "image/png": "[encoded data removed]",
      "text/plain": [
       "<Figure size 640x480 with 1 Axes>"
      ]
     },
     "metadata": {},
     "output_type": "display_data"
    },
    {
     "name": "stdout",
     "output_type": "stream",
     "text": [
      "Epoch 15: 100%|██████████| 800/800 [00:02<00:00, 303.36it/s, v_num=23, val_loss=0.526, val_precision=0.774, val_recall=0.774, val_f1=0.774, train_loss=0.499]"
     ]
    },
    {
     "data": {
      "image/png": "[encoded data removed]",
      "text/plain": [
       "<Figure size 640x480 with 1 Axes>"
      ]
     },
     "metadata": {},
     "output_type": "display_data"
    },
    {
     "name": "stdout",
     "output_type": "stream",
     "text": [
      "Epoch 17: 100%|██████████| 800/800 [00:02<00:00, 308.18it/s, v_num=23, val_loss=0.526, val_precision=0.773, val_recall=0.773, val_f1=0.773, train_loss=0.496]"
     ]
    },
    {
     "data": {
      "image/png": "[encoded data removed]",
      "text/plain": [
       "<Figure size 640x480 with 1 Axes>"
      ]
     },
     "metadata": {},
     "output_type": "display_data"
    },
    {
     "name": "stdout",
     "output_type": "stream",
     "text": [
      "Epoch 19: 100%|██████████| 800/800 [00:02<00:00, 298.15it/s, v_num=23, val_loss=0.524, val_precision=0.777, val_recall=0.774, val_f1=0.774, train_loss=0.493]"
     ]
    },
    {
     "data": {
      "image/png": "[encoded data removed]",
      "text/plain": [
       "<Figure size 640x480 with 1 Axes>"
      ]
     },
     "metadata": {},
     "output_type": "display_data"
    },
    {
     "name": "stdout",
     "output_type": "stream",
     "text": [
      "Epoch 19: 100%|██████████| 800/800 [00:03<00:00, 256.08it/s, v_num=23, val_loss=0.520, val_precision=0.782, val_recall=0.780, val_f1=0.780, train_loss=0.492]"
     ]
    },
    {
     "name": "stderr",
     "output_type": "stream",
     "text": [
      "`Trainer.fit` stopped: `max_epochs=20` reached.\n"
     ]
    },
    {
     "name": "stdout",
     "output_type": "stream",
     "text": [
      "Epoch 19: 100%|██████████| 800/800 [00:03<00:00, 253.79it/s, v_num=23, val_loss=0.520, val_precision=0.782, val_recall=0.780, val_f1=0.780, train_loss=0.492]\n"
     ]
    }
   ],
   "source": [
    "trainer = Trainer(max_epochs = num_epochs)\n",
    "trainer.fit(probe, datamodule=dataloaders)"
   ]
  },
  {
   "cell_type": "markdown",
   "metadata": {
    "id": "LtJWlc0NSvYn"
   },
   "source": [
    "# Compute metrics on the test set"
   ]
  },
  {
   "cell_type": "code",
   "execution_count": 31,
   "metadata": {},
   "outputs": [
    {
     "name": "stderr",
     "output_type": "stream",
     "text": [
      "LOCAL_RANK: 0 - CUDA_VISIBLE_DEVICES: [0,1]\n"
     ]
    },
    {
     "name": "stdout",
     "output_type": "stream",
     "text": [
      "\n",
      "INPUTS: 31964 --> TRAIN: 80.0 % || VALIDATION: 10.0 % || TEST: 10.0 % \n",
      "\n"
     ]
    },
    {
     "name": "stderr",
     "output_type": "stream",
     "text": [
      "/home/bronzini/repositories/FM_2025/.venv/lib/python3.10/site-packages/lightning/pytorch/trainer/connectors/data_connector.py:433: The 'test_dataloader' does not have many workers which may be a bottleneck. Consider increasing the value of the `num_workers` argument` to `num_workers=31` in the `DataLoader` to improve performance.\n"
     ]
    },
    {
     "name": "stdout",
     "output_type": "stream",
     "text": [
      "Testing DataLoader 0: 100%|██████████| 100/100 [00:00<00:00, 309.56it/s]\n",
      "────────────────────────────────────────────────────────────────────────────────────────────────────────────────────────\n",
      "       Test metric             DataLoader 0\n",
      "────────────────────────────────────────────────────────────────────────────────────────────────────────────────────────\n",
      "         test_f1            0.7860448956489563\n",
      "     test_precision         0.7896591424942017\n",
      "       test_recall          0.7866082191467285\n",
      "────────────────────────────────────────────────────────────────────────────────────────────────────────────────────────\n"
     ]
    }
   ],
   "source": [
    "test_metrics = trainer.test(model = probe, datamodule=dataloaders)"
   ]
  },
  {
   "cell_type": "code",
   "execution_count": 32,
   "metadata": {},
   "outputs": [],
   "source": [
    "import json\n",
    "with open(f\"metrics.json\", mode = \"a+\") as f:\n",
    "    json.dump({data.attrs['name']: test_metrics}, f, indent=4)"
   ]
  },
  {
   "cell_type": "markdown",
   "metadata": {},
   "source": [
    "# Test with out-of-distribution documents"
   ]
  },
  {
   "cell_type": "code",
   "execution_count": 33,
   "metadata": {},
   "outputs": [],
   "source": [
    "lang_docs = [\n",
    "    'Life is full of surprises', # English (en)\n",
    "    'La vita è piena di sorprese', # Italian (it)\n",
    "    'as Leben ist voller Überraschungen', # German (de)\n",
    "    'La vida está llena de sorpresas', # Spanish (es)\n",
    "    'La vie est pleine de surprises', # French (fr)\n",
    "    '人生は驚きに満ちている' # Japanese (ja)\n",
    "]\n",
    "\n",
    "# Add tricky samples (italian sentences with some english words)\n",
    "lang_docs.append(\"Se non deliveriamo the project by next week, saremmo in big problems\")\n",
    "lang_docs.append(\"If non deliveriamo the project by next week, saremmo in big problems\")"
   ]
  },
  {
   "cell_type": "code",
   "execution_count": 34,
   "metadata": {},
   "outputs": [],
   "source": [
    "tense_docs = [\n",
    "    'I will go to the store tomorrow', # FUTURE\n",
    "    'She is reading a book', # PRESENT\n",
    "    'They played soccer last weekend', # PAST\n",
    "    'We are going to the park later', # PRESENT\n",
    "    'He will finish his homework tonight', # FUTURE\n",
    "    'I walked to school yesterday' # PAST\n",
    "]\n",
    "\n",
    "truthfulness_docs = ['The earth is flat', 'Water boils at 100 degrees Celsius', 'The sky is green', 'The sky is blue', 'Renault 8 is produced by Fiat']"
   ]
  },
  {
   "cell_type": "code",
   "execution_count": 35,
   "metadata": {},
   "outputs": [],
   "source": [
    "if data.attrs['name'] == 'lang':\n",
    "    docs = lang_docs\n",
    "elif data.attrs['name'] == 'tense':\n",
    "    docs = tense_docs\n",
    "elif data.attrs['name'] == 'truth':\n",
    "    docs = truthfulness_docs"
   ]
  },
  {
   "cell_type": "markdown",
   "metadata": {},
   "source": [
    "### Initialize the language models and our trained probe"
   ]
  },
  {
   "cell_type": "code",
   "execution_count": 36,
   "metadata": {},
   "outputs": [
    {
     "data": {
      "text/plain": [
       "Classifier(\n",
       "  (model): Network(\n",
       "    (decoder_layer): Sequential(\n",
       "      (0): Linear(in_features=2560, out_features=512, bias=True)\n",
       "      (1): ReLU()\n",
       "      (2): LayerNorm((512,), eps=1e-05, elementwise_affine=True)\n",
       "      (3): Dropout(p=0.5, inplace=False)\n",
       "      (4): Linear(in_features=512, out_features=512, bias=True)\n",
       "      (5): ReLU()\n",
       "      (6): LayerNorm((512,), eps=1e-05, elementwise_affine=True)\n",
       "      (7): Dropout(p=0.5, inplace=False)\n",
       "    )\n",
       "    (output_layer): Sequential(\n",
       "      (0): LayerNorm((512,), eps=1e-05, elementwise_affine=True)\n",
       "      (1): Linear(in_features=512, out_features=2, bias=True)\n",
       "      (2): Softmax(dim=1)\n",
       "    )\n",
       "  )\n",
       "  (loss_function): CrossEntropyLoss()\n",
       "  (val_f1): MulticlassF1Score()\n",
       "  (test_f1): MulticlassF1Score()\n",
       "  (val_precision): MulticlassPrecision()\n",
       "  (test_precision): MulticlassPrecision()\n",
       "  (val_recall): MulticlassRecall()\n",
       "  (test_recall): MulticlassRecall()\n",
       ")"
      ]
     },
     "execution_count": 36,
     "metadata": {},
     "output_type": "execute_result"
    }
   ],
   "source": [
    "# Initialize the tokenizer and the LLM\n",
    "tokenizer = AutoTokenizer.from_pretrained(llm_name)\n",
    "llm = AutoModel.from_pretrained(llm_name).to(device)\n",
    "llm.eval()\n",
    "\n",
    "# Turn the trained model to evaluation mode\n",
    "probe.eval()"
   ]
  },
  {
   "cell_type": "markdown",
   "metadata": {},
   "source": [
    "### Apply the probe on the documents\n",
    "1. Get the embeddings for the document using the LLM\n",
    "2. Feed the embeddings into the trained probe\n",
    "3. Get the predicted classes"
   ]
  },
  {
   "cell_type": "code",
   "execution_count": 38,
   "metadata": {},
   "outputs": [
    {
     "name": "stdout",
     "output_type": "stream",
     "text": [
      "The earth is flat --> True (1.00)\n",
      "Water boils at 100 degrees Celsius --> False (0.99)\n",
      "The sky is green --> True (0.62)\n",
      "The sky is blue --> False (0.93)\n",
      "Renault 8 is produced by Fiat --> True (1.00)\n"
     ]
    }
   ],
   "source": [
    "# Apply the trained model to external data\n",
    "with torch.inference_mode():\n",
    "    \n",
    "    # Get the embeddings for the new documents\n",
    "    embeddings = list()\n",
    "    for doc in docs:\n",
    "        \n",
    "        # Tokenize the textual document (x)\n",
    "        input_ids = tokenizer(doc, return_tensors = 'pt').to(llm.device)\n",
    "\n",
    "        # Process the tokenized document using the frozen LLM\n",
    "        llm_output = llm(**input_ids, output_hidden_states=True)\n",
    "\n",
    "        # Get the embeddings from the last hidden layer [batch_size, seq_len, hidden_dim]\n",
    "        num_layer = -1\n",
    "        embedding = llm_output.hidden_states[num_layer][:, -1, :].detach().cpu().squeeze()\n",
    "        embeddings.append(embedding)\n",
    "        \n",
    "    # Stack the embeddings into a single tensor\n",
    "    embeddings = torch.stack(embeddings)\n",
    "    \n",
    "    # Get the outputs from the trained probe\n",
    "    outputs = probe(embeddings)\n",
    "\n",
    "# Get the predicted labels\n",
    "preds = torch.argmax(outputs, dim=1)\n",
    "predicted_labels = [dataset.class_mapping[pred.item()] for pred in preds]\n",
    "\n",
    "# Show the predictions\n",
    "for doc, predicted_label, scores in zip(docs, predicted_labels, outputs):\n",
    "    pred_score = torch.max(scores).item()\n",
    "    print(doc, '-->', predicted_label, f\"({pred_score:.2f})\")"
   ]
  }
 ],
 "metadata": {
  "accelerator": "GPU",
  "colab": {
   "authorship_tag": "ABX9TyPJUHzsrvxdsVAhV983igv0",
   "gpuType": "T4",
   "include_colab_link": true,
   "provenance": []
  },
  "kernelspec": {
   "display_name": ".venv",
   "language": "python",
   "name": "python3"
  },
  "language_info": {
   "codemirror_mode": {
    "name": "ipython",
    "version": 3
   },
   "file_extension": ".py",
   "mimetype": "text/x-python",
   "name": "python",
   "nbconvert_exporter": "python",
   "pygments_lexer": "ipython3",
   "version": "3.10.12"
  },
  "widgets": {
   "application/vnd.jupyter.widget-state+json": {
    "06b5fb1da0f04ee69be779ddc227a9a1": {
     "model_module": "@jupyter-widgets/controls",
     "model_module_version": "1.5.0",
     "model_name": "DescriptionStyleModel",
     "state": {
      "_model_module": "@jupyter-widgets/controls",
      "_model_module_version": "1.5.0",
      "_model_name": "DescriptionStyleModel",
      "_view_count": null,
      "_view_module": "@jupyter-widgets/base",
      "_view_module_version": "1.2.0",
      "_view_name": "StyleView",
      "description_width": ""
     }
    },
    "06fdcdf2621e46b689b874b0e65ceb14": {
     "model_module": "@jupyter-widgets/controls",
     "model_module_version": "1.5.0",
     "model_name": "HBoxModel",
     "state": {
      "_dom_classes": [],
      "_model_module": "@jupyter-widgets/controls",
      "_model_module_version": "1.5.0",
      "_model_name": "HBoxModel",
      "_view_count": null,
      "_view_module": "@jupyter-widgets/controls",
      "_view_module_version": "1.5.0",
      "_view_name": "HBoxView",
      "box_style": "",
      "children": [
       "IPY_MODEL_f7c41fd4af9e4f02a54db2eca4dc3de6",
       "IPY_MODEL_a74c446e172941948002b795d4ffc74b",
       "IPY_MODEL_705c241b45a04b08a0f49268e5c71445"
      ],
      "layout": "IPY_MODEL_7ce6ccd9fb794278a7ce2cc4a8423b7c"
     }
    },
    "073fb0dd41bb43379b74c957c8da2671": {
     "model_module": "@jupyter-widgets/base",
     "model_module_version": "1.2.0",
     "model_name": "LayoutModel",
     "state": {
      "_model_module": "@jupyter-widgets/base",
      "_model_module_version": "1.2.0",
      "_model_name": "LayoutModel",
      "_view_count": null,
      "_view_module": "@jupyter-widgets/base",
      "_view_module_version": "1.2.0",
      "_view_name": "LayoutView",
      "align_content": null,
      "align_items": null,
      "align_self": null,
      "border": null,
      "bottom": null,
      "display": null,
      "flex": null,
      "flex_flow": null,
      "grid_area": null,
      "grid_auto_columns": null,
      "grid_auto_flow": null,
      "grid_auto_rows": null,
      "grid_column": null,
      "grid_gap": null,
      "grid_row": null,
      "grid_template_areas": null,
      "grid_template_columns": null,
      "grid_template_rows": null,
      "height": null,
      "justify_content": null,
      "justify_items": null,
      "left": null,
      "margin": null,
      "max_height": null,
      "max_width": null,
      "min_height": null,
      "min_width": null,
      "object_fit": null,
      "object_position": null,
      "order": null,
      "overflow": null,
      "overflow_x": null,
      "overflow_y": null,
      "padding": null,
      "right": null,
      "top": null,
      "visibility": null,
      "width": "20px"
     }
    },
    "0e6ed6d6bffb4e268bdca0d4ac0a2cf5": {
     "model_module": "@jupyter-widgets/base",
     "model_module_version": "1.2.0",
     "model_name": "LayoutModel",
     "state": {
      "_model_module": "@jupyter-widgets/base",
      "_model_module_version": "1.2.0",
      "_model_name": "LayoutModel",
      "_view_count": null,
      "_view_module": "@jupyter-widgets/base",
      "_view_module_version": "1.2.0",
      "_view_name": "LayoutView",
      "align_content": null,
      "align_items": null,
      "align_self": null,
      "border": null,
      "bottom": null,
      "display": null,
      "flex": null,
      "flex_flow": null,
      "grid_area": null,
      "grid_auto_columns": null,
      "grid_auto_flow": null,
      "grid_auto_rows": null,
      "grid_column": null,
      "grid_gap": null,
      "grid_row": null,
      "grid_template_areas": null,
      "grid_template_columns": null,
      "grid_template_rows": null,
      "height": null,
      "justify_content": null,
      "justify_items": null,
      "left": null,
      "margin": null,
      "max_height": null,
      "max_width": null,
      "min_height": null,
      "min_width": null,
      "object_fit": null,
      "object_position": null,
      "order": null,
      "overflow": null,
      "overflow_x": null,
      "overflow_y": null,
      "padding": null,
      "right": null,
      "top": null,
      "visibility": null,
      "width": null
     }
    },
    "1136dca0f3ec47cbb4275a0de785c1ee": {
     "model_module": "@jupyter-widgets/controls",
     "model_module_version": "1.5.0",
     "model_name": "DescriptionStyleModel",
     "state": {
      "_model_module": "@jupyter-widgets/controls",
      "_model_module_version": "1.5.0",
      "_model_name": "DescriptionStyleModel",
      "_view_count": null,
      "_view_module": "@jupyter-widgets/base",
      "_view_module_version": "1.2.0",
      "_view_name": "StyleView",
      "description_width": ""
     }
    },
    "1a71aaea4d3f4836846d8bf198a67dcb": {
     "model_module": "@jupyter-widgets/controls",
     "model_module_version": "1.5.0",
     "model_name": "DescriptionStyleModel",
     "state": {
      "_model_module": "@jupyter-widgets/controls",
      "_model_module_version": "1.5.0",
      "_model_name": "DescriptionStyleModel",
      "_view_count": null,
      "_view_module": "@jupyter-widgets/base",
      "_view_module_version": "1.2.0",
      "_view_name": "StyleView",
      "description_width": ""
     }
    },
    "1d52f67617c24f3e90be841eab88dce8": {
     "model_module": "@jupyter-widgets/controls",
     "model_module_version": "1.5.0",
     "model_name": "DescriptionStyleModel",
     "state": {
      "_model_module": "@jupyter-widgets/controls",
      "_model_module_version": "1.5.0",
      "_model_name": "DescriptionStyleModel",
      "_view_count": null,
      "_view_module": "@jupyter-widgets/base",
      "_view_module_version": "1.2.0",
      "_view_name": "StyleView",
      "description_width": ""
     }
    },
    "1f138a5f01fa44ed8970e8c1aabebfff": {
     "model_module": "@jupyter-widgets/controls",
     "model_module_version": "1.5.0",
     "model_name": "DescriptionStyleModel",
     "state": {
      "_model_module": "@jupyter-widgets/controls",
      "_model_module_version": "1.5.0",
      "_model_name": "DescriptionStyleModel",
      "_view_count": null,
      "_view_module": "@jupyter-widgets/base",
      "_view_module_version": "1.2.0",
      "_view_name": "StyleView",
      "description_width": ""
     }
    },
    "1fef5e0c5daa4b2cb01e9862cd2f57e2": {
     "model_module": "@jupyter-widgets/base",
     "model_module_version": "1.2.0",
     "model_name": "LayoutModel",
     "state": {
      "_model_module": "@jupyter-widgets/base",
      "_model_module_version": "1.2.0",
      "_model_name": "LayoutModel",
      "_view_count": null,
      "_view_module": "@jupyter-widgets/base",
      "_view_module_version": "1.2.0",
      "_view_name": "LayoutView",
      "align_content": null,
      "align_items": null,
      "align_self": null,
      "border": null,
      "bottom": null,
      "display": null,
      "flex": null,
      "flex_flow": null,
      "grid_area": null,
      "grid_auto_columns": null,
      "grid_auto_flow": null,
      "grid_auto_rows": null,
      "grid_column": null,
      "grid_gap": null,
      "grid_row": null,
      "grid_template_areas": null,
      "grid_template_columns": null,
      "grid_template_rows": null,
      "height": null,
      "justify_content": null,
      "justify_items": null,
      "left": null,
      "margin": null,
      "max_height": null,
      "max_width": null,
      "min_height": null,
      "min_width": null,
      "object_fit": null,
      "object_position": null,
      "order": null,
      "overflow": null,
      "overflow_x": null,
      "overflow_y": null,
      "padding": null,
      "right": null,
      "top": null,
      "visibility": null,
      "width": null
     }
    },
    "225de209ee514f34b441d4f0c97716fe": {
     "model_module": "@jupyter-widgets/controls",
     "model_module_version": "1.5.0",
     "model_name": "HTMLModel",
     "state": {
      "_dom_classes": [],
      "_model_module": "@jupyter-widgets/controls",
      "_model_module_version": "1.5.0",
      "_model_name": "HTMLModel",
      "_view_count": null,
      "_view_module": "@jupyter-widgets/controls",
      "_view_module_version": "1.5.0",
      "_view_name": "HTMLView",
      "description": "",
      "description_tooltip": null,
      "layout": "IPY_MODEL_de923190cd244af09671862456ff0c5f",
      "placeholder": "​",
      "style": "IPY_MODEL_54ecb0a1de7548778c64bcb93812d166",
      "value": " 26.0/26.0 [00:00&lt;00:00, 1.53kB/s]"
     }
    },
    "22f66f9c92e84bfab52ff5cadcbdd491": {
     "model_module": "@jupyter-widgets/controls",
     "model_module_version": "1.5.0",
     "model_name": "HBoxModel",
     "state": {
      "_dom_classes": [],
      "_model_module": "@jupyter-widgets/controls",
      "_model_module_version": "1.5.0",
      "_model_name": "HBoxModel",
      "_view_count": null,
      "_view_module": "@jupyter-widgets/controls",
      "_view_module_version": "1.5.0",
      "_view_name": "HBoxView",
      "box_style": "",
      "children": [
       "IPY_MODEL_e2241397117349e782e2b55b75263677",
       "IPY_MODEL_cc84d3eebd4549c98e855a7bc6bf311a",
       "IPY_MODEL_c099ecfc54f1442a915320efe503d9ec"
      ],
      "layout": "IPY_MODEL_343a1001c21045bbb10c2c7c1fd9a908"
     }
    },
    "25dc6cf01b044cb4b85414566433153d": {
     "model_module": "@jupyter-widgets/base",
     "model_module_version": "1.2.0",
     "model_name": "LayoutModel",
     "state": {
      "_model_module": "@jupyter-widgets/base",
      "_model_module_version": "1.2.0",
      "_model_name": "LayoutModel",
      "_view_count": null,
      "_view_module": "@jupyter-widgets/base",
      "_view_module_version": "1.2.0",
      "_view_name": "LayoutView",
      "align_content": null,
      "align_items": null,
      "align_self": null,
      "border": null,
      "bottom": null,
      "display": null,
      "flex": null,
      "flex_flow": null,
      "grid_area": null,
      "grid_auto_columns": null,
      "grid_auto_flow": null,
      "grid_auto_rows": null,
      "grid_column": null,
      "grid_gap": null,
      "grid_row": null,
      "grid_template_areas": null,
      "grid_template_columns": null,
      "grid_template_rows": null,
      "height": null,
      "justify_content": null,
      "justify_items": null,
      "left": null,
      "margin": null,
      "max_height": null,
      "max_width": null,
      "min_height": null,
      "min_width": null,
      "object_fit": null,
      "object_position": null,
      "order": null,
      "overflow": null,
      "overflow_x": null,
      "overflow_y": null,
      "padding": null,
      "right": null,
      "top": null,
      "visibility": null,
      "width": null
     }
    },
    "2a2179c2f3f84683b8945486ae1f300a": {
     "model_module": "@jupyter-widgets/base",
     "model_module_version": "1.2.0",
     "model_name": "LayoutModel",
     "state": {
      "_model_module": "@jupyter-widgets/base",
      "_model_module_version": "1.2.0",
      "_model_name": "LayoutModel",
      "_view_count": null,
      "_view_module": "@jupyter-widgets/base",
      "_view_module_version": "1.2.0",
      "_view_name": "LayoutView",
      "align_content": null,
      "align_items": null,
      "align_self": null,
      "border": null,
      "bottom": null,
      "display": null,
      "flex": null,
      "flex_flow": null,
      "grid_area": null,
      "grid_auto_columns": null,
      "grid_auto_flow": null,
      "grid_auto_rows": null,
      "grid_column": null,
      "grid_gap": null,
      "grid_row": null,
      "grid_template_areas": null,
      "grid_template_columns": null,
      "grid_template_rows": null,
      "height": null,
      "justify_content": null,
      "justify_items": null,
      "left": null,
      "margin": null,
      "max_height": null,
      "max_width": null,
      "min_height": null,
      "min_width": null,
      "object_fit": null,
      "object_position": null,
      "order": null,
      "overflow": null,
      "overflow_x": null,
      "overflow_y": null,
      "padding": null,
      "right": null,
      "top": null,
      "visibility": null,
      "width": null
     }
    },
    "2dacfc8a675b4c19ab20ba2cc80a61c6": {
     "model_module": "@jupyter-widgets/controls",
     "model_module_version": "1.5.0",
     "model_name": "DescriptionStyleModel",
     "state": {
      "_model_module": "@jupyter-widgets/controls",
      "_model_module_version": "1.5.0",
      "_model_name": "DescriptionStyleModel",
      "_view_count": null,
      "_view_module": "@jupyter-widgets/base",
      "_view_module_version": "1.2.0",
      "_view_name": "StyleView",
      "description_width": ""
     }
    },
    "343a1001c21045bbb10c2c7c1fd9a908": {
     "model_module": "@jupyter-widgets/base",
     "model_module_version": "1.2.0",
     "model_name": "LayoutModel",
     "state": {
      "_model_module": "@jupyter-widgets/base",
      "_model_module_version": "1.2.0",
      "_model_name": "LayoutModel",
      "_view_count": null,
      "_view_module": "@jupyter-widgets/base",
      "_view_module_version": "1.2.0",
      "_view_name": "LayoutView",
      "align_content": null,
      "align_items": null,
      "align_self": null,
      "border": null,
      "bottom": null,
      "display": null,
      "flex": null,
      "flex_flow": null,
      "grid_area": null,
      "grid_auto_columns": null,
      "grid_auto_flow": null,
      "grid_auto_rows": null,
      "grid_column": null,
      "grid_gap": null,
      "grid_row": null,
      "grid_template_areas": null,
      "grid_template_columns": null,
      "grid_template_rows": null,
      "height": null,
      "justify_content": null,
      "justify_items": null,
      "left": null,
      "margin": null,
      "max_height": null,
      "max_width": null,
      "min_height": null,
      "min_width": null,
      "object_fit": null,
      "object_position": null,
      "order": null,
      "overflow": null,
      "overflow_x": null,
      "overflow_y": null,
      "padding": null,
      "right": null,
      "top": null,
      "visibility": null,
      "width": null
     }
    },
    "38cd32f11998461d81ffec6ecc21cf14": {
     "model_module": "@jupyter-widgets/controls",
     "model_module_version": "1.5.0",
     "model_name": "HTMLModel",
     "state": {
      "_dom_classes": [],
      "_model_module": "@jupyter-widgets/controls",
      "_model_module_version": "1.5.0",
      "_model_name": "HTMLModel",
      "_view_count": null,
      "_view_module": "@jupyter-widgets/controls",
      "_view_module_version": "1.5.0",
      "_view_name": "HTMLView",
      "description": "",
      "description_tooltip": null,
      "layout": "IPY_MODEL_0e6ed6d6bffb4e268bdca0d4ac0a2cf5",
      "placeholder": "​",
      "style": "IPY_MODEL_1136dca0f3ec47cbb4275a0de785c1ee",
      "value": " 456k/? [00:00&lt;00:00, 19.4MB/s]"
     }
    },
    "3a85c869d9a74e51bf0fb7c961ad0fbc": {
     "model_module": "@jupyter-widgets/controls",
     "model_module_version": "1.5.0",
     "model_name": "DescriptionStyleModel",
     "state": {
      "_model_module": "@jupyter-widgets/controls",
      "_model_module_version": "1.5.0",
      "_model_name": "DescriptionStyleModel",
      "_view_count": null,
      "_view_module": "@jupyter-widgets/base",
      "_view_module_version": "1.2.0",
      "_view_name": "StyleView",
      "description_width": ""
     }
    },
    "3df70a4069a64bd2bdf6a2317c6d3bae": {
     "model_module": "@jupyter-widgets/controls",
     "model_module_version": "1.5.0",
     "model_name": "ProgressStyleModel",
     "state": {
      "_model_module": "@jupyter-widgets/controls",
      "_model_module_version": "1.5.0",
      "_model_name": "ProgressStyleModel",
      "_view_count": null,
      "_view_module": "@jupyter-widgets/base",
      "_view_module_version": "1.2.0",
      "_view_name": "StyleView",
      "bar_color": null,
      "description_width": ""
     }
    },
    "438d3be303be41d5ad4d453235851b12": {
     "model_module": "@jupyter-widgets/controls",
     "model_module_version": "1.5.0",
     "model_name": "DescriptionStyleModel",
     "state": {
      "_model_module": "@jupyter-widgets/controls",
      "_model_module_version": "1.5.0",
      "_model_name": "DescriptionStyleModel",
      "_view_count": null,
      "_view_module": "@jupyter-widgets/base",
      "_view_module_version": "1.2.0",
      "_view_name": "StyleView",
      "description_width": ""
     }
    },
    "47ecf675a92a424094991ab0f51f3b02": {
     "model_module": "@jupyter-widgets/controls",
     "model_module_version": "1.5.0",
     "model_name": "HTMLModel",
     "state": {
      "_dom_classes": [],
      "_model_module": "@jupyter-widgets/controls",
      "_model_module_version": "1.5.0",
      "_model_name": "HTMLModel",
      "_view_count": null,
      "_view_module": "@jupyter-widgets/controls",
      "_view_module_version": "1.5.0",
      "_view_name": "HTMLView",
      "description": "",
      "description_tooltip": null,
      "layout": "IPY_MODEL_b9e8c9921ad545c1a53d2d334aba57d8",
      "placeholder": "​",
      "style": "IPY_MODEL_4b302a85fcab426381457cf80df29e53",
      "value": " 2/2 [00:01&lt;00:00,  1.14it/s]"
     }
    },
    "4837ef40d1464c348af00cccb47ddc65": {
     "model_module": "@jupyter-widgets/controls",
     "model_module_version": "1.5.0",
     "model_name": "ProgressStyleModel",
     "state": {
      "_model_module": "@jupyter-widgets/controls",
      "_model_module_version": "1.5.0",
      "_model_name": "ProgressStyleModel",
      "_view_count": null,
      "_view_module": "@jupyter-widgets/base",
      "_view_module_version": "1.2.0",
      "_view_name": "StyleView",
      "bar_color": null,
      "description_width": ""
     }
    },
    "4aaed52dbbbb4dbf9cf89d2d80301e52": {
     "model_module": "@jupyter-widgets/controls",
     "model_module_version": "1.5.0",
     "model_name": "HTMLModel",
     "state": {
      "_dom_classes": [],
      "_model_module": "@jupyter-widgets/controls",
      "_model_module_version": "1.5.0",
      "_model_name": "HTMLModel",
      "_view_count": null,
      "_view_module": "@jupyter-widgets/controls",
      "_view_module_version": "1.5.0",
      "_view_name": "HTMLView",
      "description": "",
      "description_tooltip": null,
      "layout": "IPY_MODEL_7a266148450f46708371c55872e9a5d7",
      "placeholder": "​",
      "style": "IPY_MODEL_1f138a5f01fa44ed8970e8c1aabebfff",
      "value": "tokenizer_config.json: 100%"
     }
    },
    "4b302a85fcab426381457cf80df29e53": {
     "model_module": "@jupyter-widgets/controls",
     "model_module_version": "1.5.0",
     "model_name": "DescriptionStyleModel",
     "state": {
      "_model_module": "@jupyter-widgets/controls",
      "_model_module_version": "1.5.0",
      "_model_name": "DescriptionStyleModel",
      "_view_count": null,
      "_view_module": "@jupyter-widgets/base",
      "_view_module_version": "1.2.0",
      "_view_name": "StyleView",
      "description_width": ""
     }
    },
    "5286d2bdb9ac44da929555f434b67386": {
     "model_module": "@jupyter-widgets/base",
     "model_module_version": "1.2.0",
     "model_name": "LayoutModel",
     "state": {
      "_model_module": "@jupyter-widgets/base",
      "_model_module_version": "1.2.0",
      "_model_name": "LayoutModel",
      "_view_count": null,
      "_view_module": "@jupyter-widgets/base",
      "_view_module_version": "1.2.0",
      "_view_name": "LayoutView",
      "align_content": null,
      "align_items": null,
      "align_self": null,
      "border": null,
      "bottom": null,
      "display": null,
      "flex": null,
      "flex_flow": null,
      "grid_area": null,
      "grid_auto_columns": null,
      "grid_auto_flow": null,
      "grid_auto_rows": null,
      "grid_column": null,
      "grid_gap": null,
      "grid_row": null,
      "grid_template_areas": null,
      "grid_template_columns": null,
      "grid_template_rows": null,
      "height": null,
      "justify_content": null,
      "justify_items": null,
      "left": null,
      "margin": null,
      "max_height": null,
      "max_width": null,
      "min_height": null,
      "min_width": null,
      "object_fit": null,
      "object_position": null,
      "order": null,
      "overflow": null,
      "overflow_x": null,
      "overflow_y": null,
      "padding": null,
      "right": null,
      "top": null,
      "visibility": null,
      "width": null
     }
    },
    "534c3c91c90e45349a25a8382ed11bd9": {
     "model_module": "@jupyter-widgets/base",
     "model_module_version": "1.2.0",
     "model_name": "LayoutModel",
     "state": {
      "_model_module": "@jupyter-widgets/base",
      "_model_module_version": "1.2.0",
      "_model_name": "LayoutModel",
      "_view_count": null,
      "_view_module": "@jupyter-widgets/base",
      "_view_module_version": "1.2.0",
      "_view_name": "LayoutView",
      "align_content": null,
      "align_items": null,
      "align_self": null,
      "border": null,
      "bottom": null,
      "display": "inline-flex",
      "flex": null,
      "flex_flow": "row wrap",
      "grid_area": null,
      "grid_auto_columns": null,
      "grid_auto_flow": null,
      "grid_auto_rows": null,
      "grid_column": null,
      "grid_gap": null,
      "grid_row": null,
      "grid_template_areas": null,
      "grid_template_columns": null,
      "grid_template_rows": null,
      "height": null,
      "justify_content": null,
      "justify_items": null,
      "left": null,
      "margin": null,
      "max_height": null,
      "max_width": null,
      "min_height": null,
      "min_width": null,
      "object_fit": null,
      "object_position": null,
      "order": null,
      "overflow": null,
      "overflow_x": null,
      "overflow_y": null,
      "padding": null,
      "right": null,
      "top": null,
      "visibility": null,
      "width": "100%"
     }
    },
    "544767fa72f74217b05b8dae4a41f92d": {
     "model_module": "@jupyter-widgets/controls",
     "model_module_version": "1.5.0",
     "model_name": "FloatProgressModel",
     "state": {
      "_dom_classes": [],
      "_model_module": "@jupyter-widgets/controls",
      "_model_module_version": "1.5.0",
      "_model_name": "FloatProgressModel",
      "_view_count": null,
      "_view_module": "@jupyter-widgets/controls",
      "_view_module_version": "1.5.0",
      "_view_name": "ProgressView",
      "bar_style": "success",
      "description": "",
      "description_tooltip": null,
      "layout": "IPY_MODEL_a42fb672bb1c4a65a5fcefbe5218f9d2",
      "max": 718,
      "min": 0,
      "orientation": "horizontal",
      "style": "IPY_MODEL_e5b795fc834e462d8d53813165700cb8",
      "value": 718
     }
    },
    "54ecb0a1de7548778c64bcb93812d166": {
     "model_module": "@jupyter-widgets/controls",
     "model_module_version": "1.5.0",
     "model_name": "DescriptionStyleModel",
     "state": {
      "_model_module": "@jupyter-widgets/controls",
      "_model_module_version": "1.5.0",
      "_model_name": "DescriptionStyleModel",
      "_view_count": null,
      "_view_module": "@jupyter-widgets/base",
      "_view_module_version": "1.2.0",
      "_view_name": "StyleView",
      "description_width": ""
     }
    },
    "58e6fc92af6b4ca88e8c423bad8c21eb": {
     "model_module": "@jupyter-widgets/controls",
     "model_module_version": "1.5.0",
     "model_name": "FloatProgressModel",
     "state": {
      "_dom_classes": [],
      "_model_module": "@jupyter-widgets/controls",
      "_model_module_version": "1.5.0",
      "_model_name": "FloatProgressModel",
      "_view_count": null,
      "_view_module": "@jupyter-widgets/controls",
      "_view_module_version": "1.5.0",
      "_view_name": "ProgressView",
      "bar_style": "success",
      "description": "",
      "description_tooltip": null,
      "layout": "IPY_MODEL_073fb0dd41bb43379b74c957c8da2671",
      "max": 1,
      "min": 0,
      "orientation": "horizontal",
      "style": "IPY_MODEL_5ee2b0eac5a34a35a0cb9ee06c6fc2a7",
      "value": 1
     }
    },
    "5a5444452c364b5794f4aa8e79117f9b": {
     "model_module": "@jupyter-widgets/controls",
     "model_module_version": "1.5.0",
     "model_name": "DescriptionStyleModel",
     "state": {
      "_model_module": "@jupyter-widgets/controls",
      "_model_module_version": "1.5.0",
      "_model_name": "DescriptionStyleModel",
      "_view_count": null,
      "_view_module": "@jupyter-widgets/base",
      "_view_module_version": "1.2.0",
      "_view_name": "StyleView",
      "description_width": ""
     }
    },
    "5e574cd79a4b439ea5274f5f0dd2ba36": {
     "model_module": "@jupyter-widgets/base",
     "model_module_version": "1.2.0",
     "model_name": "LayoutModel",
     "state": {
      "_model_module": "@jupyter-widgets/base",
      "_model_module_version": "1.2.0",
      "_model_name": "LayoutModel",
      "_view_count": null,
      "_view_module": "@jupyter-widgets/base",
      "_view_module_version": "1.2.0",
      "_view_name": "LayoutView",
      "align_content": null,
      "align_items": null,
      "align_self": null,
      "border": null,
      "bottom": null,
      "display": null,
      "flex": null,
      "flex_flow": null,
      "grid_area": null,
      "grid_auto_columns": null,
      "grid_auto_flow": null,
      "grid_auto_rows": null,
      "grid_column": null,
      "grid_gap": null,
      "grid_row": null,
      "grid_template_areas": null,
      "grid_template_columns": null,
      "grid_template_rows": null,
      "height": null,
      "justify_content": null,
      "justify_items": null,
      "left": null,
      "margin": null,
      "max_height": null,
      "max_width": null,
      "min_height": null,
      "min_width": null,
      "object_fit": null,
      "object_position": null,
      "order": null,
      "overflow": null,
      "overflow_x": null,
      "overflow_y": null,
      "padding": null,
      "right": null,
      "top": null,
      "visibility": null,
      "width": null
     }
    },
    "5ee2b0eac5a34a35a0cb9ee06c6fc2a7": {
     "model_module": "@jupyter-widgets/controls",
     "model_module_version": "1.5.0",
     "model_name": "ProgressStyleModel",
     "state": {
      "_model_module": "@jupyter-widgets/controls",
      "_model_module_version": "1.5.0",
      "_model_name": "ProgressStyleModel",
      "_view_count": null,
      "_view_module": "@jupyter-widgets/base",
      "_view_module_version": "1.2.0",
      "_view_name": "StyleView",
      "bar_color": null,
      "description_width": ""
     }
    },
    "5fbbe00758234f3ab74fd89fe7980218": {
     "model_module": "@jupyter-widgets/base",
     "model_module_version": "1.2.0",
     "model_name": "LayoutModel",
     "state": {
      "_model_module": "@jupyter-widgets/base",
      "_model_module_version": "1.2.0",
      "_model_name": "LayoutModel",
      "_view_count": null,
      "_view_module": "@jupyter-widgets/base",
      "_view_module_version": "1.2.0",
      "_view_name": "LayoutView",
      "align_content": null,
      "align_items": null,
      "align_self": null,
      "border": null,
      "bottom": null,
      "display": null,
      "flex": null,
      "flex_flow": null,
      "grid_area": null,
      "grid_auto_columns": null,
      "grid_auto_flow": null,
      "grid_auto_rows": null,
      "grid_column": null,
      "grid_gap": null,
      "grid_row": null,
      "grid_template_areas": null,
      "grid_template_columns": null,
      "grid_template_rows": null,
      "height": null,
      "justify_content": null,
      "justify_items": null,
      "left": null,
      "margin": null,
      "max_height": null,
      "max_width": null,
      "min_height": null,
      "min_width": null,
      "object_fit": null,
      "object_position": null,
      "order": null,
      "overflow": null,
      "overflow_x": null,
      "overflow_y": null,
      "padding": null,
      "right": null,
      "top": null,
      "visibility": null,
      "width": null
     }
    },
    "649573bcbc354d6682c1e2718fe0c675": {
     "model_module": "@jupyter-widgets/controls",
     "model_module_version": "1.5.0",
     "model_name": "HTMLModel",
     "state": {
      "_dom_classes": [],
      "_model_module": "@jupyter-widgets/controls",
      "_model_module_version": "1.5.0",
      "_model_name": "HTMLModel",
      "_view_count": null,
      "_view_module": "@jupyter-widgets/controls",
      "_view_module_version": "1.5.0",
      "_view_name": "HTMLView",
      "description": "",
      "description_tooltip": null,
      "layout": "IPY_MODEL_a9a01a6459a84e2cbe696564ecaf388e",
      "placeholder": "​",
      "style": "IPY_MODEL_8361ca9d0edd4c33b5330b59f13fb4f5",
      "value": " 0/333 [00:00&lt;?, ?it/s]"
     }
    },
    "66c868ab8d174c0f91a728db72c842c0": {
     "model_module": "@jupyter-widgets/base",
     "model_module_version": "1.2.0",
     "model_name": "LayoutModel",
     "state": {
      "_model_module": "@jupyter-widgets/base",
      "_model_module_version": "1.2.0",
      "_model_name": "LayoutModel",
      "_view_count": null,
      "_view_module": "@jupyter-widgets/base",
      "_view_module_version": "1.2.0",
      "_view_name": "LayoutView",
      "align_content": null,
      "align_items": null,
      "align_self": null,
      "border": null,
      "bottom": null,
      "display": null,
      "flex": null,
      "flex_flow": null,
      "grid_area": null,
      "grid_auto_columns": null,
      "grid_auto_flow": null,
      "grid_auto_rows": null,
      "grid_column": null,
      "grid_gap": null,
      "grid_row": null,
      "grid_template_areas": null,
      "grid_template_columns": null,
      "grid_template_rows": null,
      "height": null,
      "justify_content": null,
      "justify_items": null,
      "left": null,
      "margin": null,
      "max_height": null,
      "max_width": null,
      "min_height": null,
      "min_width": null,
      "object_fit": null,
      "object_position": null,
      "order": null,
      "overflow": null,
      "overflow_x": null,
      "overflow_y": null,
      "padding": null,
      "right": null,
      "top": null,
      "visibility": null,
      "width": null
     }
    },
    "6a9ee186f8a84ce99610195bd7c3ff95": {
     "model_module": "@jupyter-widgets/base",
     "model_module_version": "1.2.0",
     "model_name": "LayoutModel",
     "state": {
      "_model_module": "@jupyter-widgets/base",
      "_model_module_version": "1.2.0",
      "_model_name": "LayoutModel",
      "_view_count": null,
      "_view_module": "@jupyter-widgets/base",
      "_view_module_version": "1.2.0",
      "_view_name": "LayoutView",
      "align_content": null,
      "align_items": null,
      "align_self": null,
      "border": null,
      "bottom": null,
      "display": null,
      "flex": "2",
      "flex_flow": null,
      "grid_area": null,
      "grid_auto_columns": null,
      "grid_auto_flow": null,
      "grid_auto_rows": null,
      "grid_column": null,
      "grid_gap": null,
      "grid_row": null,
      "grid_template_areas": null,
      "grid_template_columns": null,
      "grid_template_rows": null,
      "height": null,
      "justify_content": null,
      "justify_items": null,
      "left": null,
      "margin": null,
      "max_height": null,
      "max_width": null,
      "min_height": null,
      "min_width": null,
      "object_fit": null,
      "object_position": null,
      "order": null,
      "overflow": null,
      "overflow_x": null,
      "overflow_y": null,
      "padding": null,
      "right": null,
      "top": null,
      "visibility": null,
      "width": null
     }
    },
    "6ba9868f89d04d0386b3231d30c5818b": {
     "model_module": "@jupyter-widgets/controls",
     "model_module_version": "1.5.0",
     "model_name": "DescriptionStyleModel",
     "state": {
      "_model_module": "@jupyter-widgets/controls",
      "_model_module_version": "1.5.0",
      "_model_name": "DescriptionStyleModel",
      "_view_count": null,
      "_view_module": "@jupyter-widgets/base",
      "_view_module_version": "1.2.0",
      "_view_name": "StyleView",
      "description_width": ""
     }
    },
    "6d45eef2c1654d80b8f0aad9fb4caed9": {
     "model_module": "@jupyter-widgets/controls",
     "model_module_version": "1.5.0",
     "model_name": "HBoxModel",
     "state": {
      "_dom_classes": [],
      "_model_module": "@jupyter-widgets/controls",
      "_model_module_version": "1.5.0",
      "_model_name": "HBoxModel",
      "_view_count": null,
      "_view_module": "@jupyter-widgets/controls",
      "_view_module_version": "1.5.0",
      "_view_name": "HBoxView",
      "box_style": "",
      "children": [
       "IPY_MODEL_4aaed52dbbbb4dbf9cf89d2d80301e52",
       "IPY_MODEL_914457eb46ae45199920b5af00de0d3e",
       "IPY_MODEL_225de209ee514f34b441d4f0c97716fe"
      ],
      "layout": "IPY_MODEL_9e63fda36c244e7bb89070596e20922f"
     }
    },
    "705c241b45a04b08a0f49268e5c71445": {
     "model_module": "@jupyter-widgets/controls",
     "model_module_version": "1.5.0",
     "model_name": "HTMLModel",
     "state": {
      "_dom_classes": [],
      "_model_module": "@jupyter-widgets/controls",
      "_model_module_version": "1.5.0",
      "_model_name": "HTMLModel",
      "_view_count": null,
      "_view_module": "@jupyter-widgets/controls",
      "_view_module_version": "1.5.0",
      "_view_name": "HTMLView",
      "description": "",
      "description_tooltip": null,
      "layout": "IPY_MODEL_dd0889316d064da58b23d9eae04fb220",
      "placeholder": "​",
      "style": "IPY_MODEL_1d52f67617c24f3e90be841eab88dce8",
      "value": " 1.36M/? [00:00&lt;00:00, 54.5MB/s]"
     }
    },
    "75d5ae38ae614e8fa6edcf52b5ba17ae": {
     "model_module": "@jupyter-widgets/base",
     "model_module_version": "1.2.0",
     "model_name": "LayoutModel",
     "state": {
      "_model_module": "@jupyter-widgets/base",
      "_model_module_version": "1.2.0",
      "_model_name": "LayoutModel",
      "_view_count": null,
      "_view_module": "@jupyter-widgets/base",
      "_view_module_version": "1.2.0",
      "_view_name": "LayoutView",
      "align_content": null,
      "align_items": null,
      "align_self": null,
      "border": null,
      "bottom": null,
      "display": null,
      "flex": null,
      "flex_flow": null,
      "grid_area": null,
      "grid_auto_columns": null,
      "grid_auto_flow": null,
      "grid_auto_rows": null,
      "grid_column": null,
      "grid_gap": null,
      "grid_row": null,
      "grid_template_areas": null,
      "grid_template_columns": null,
      "grid_template_rows": null,
      "height": null,
      "justify_content": null,
      "justify_items": null,
      "left": null,
      "margin": null,
      "max_height": null,
      "max_width": null,
      "min_height": null,
      "min_width": null,
      "object_fit": null,
      "object_position": null,
      "order": null,
      "overflow": null,
      "overflow_x": null,
      "overflow_y": null,
      "padding": null,
      "right": null,
      "top": null,
      "visibility": null,
      "width": null
     }
    },
    "76f0b69582ba485e9bf7abc61afb4265": {
     "model_module": "@jupyter-widgets/controls",
     "model_module_version": "1.5.0",
     "model_name": "ProgressStyleModel",
     "state": {
      "_model_module": "@jupyter-widgets/controls",
      "_model_module_version": "1.5.0",
      "_model_name": "ProgressStyleModel",
      "_view_count": null,
      "_view_module": "@jupyter-widgets/base",
      "_view_module_version": "1.2.0",
      "_view_name": "StyleView",
      "bar_color": null,
      "description_width": ""
     }
    },
    "7a266148450f46708371c55872e9a5d7": {
     "model_module": "@jupyter-widgets/base",
     "model_module_version": "1.2.0",
     "model_name": "LayoutModel",
     "state": {
      "_model_module": "@jupyter-widgets/base",
      "_model_module_version": "1.2.0",
      "_model_name": "LayoutModel",
      "_view_count": null,
      "_view_module": "@jupyter-widgets/base",
      "_view_module_version": "1.2.0",
      "_view_name": "LayoutView",
      "align_content": null,
      "align_items": null,
      "align_self": null,
      "border": null,
      "bottom": null,
      "display": null,
      "flex": null,
      "flex_flow": null,
      "grid_area": null,
      "grid_auto_columns": null,
      "grid_auto_flow": null,
      "grid_auto_rows": null,
      "grid_column": null,
      "grid_gap": null,
      "grid_row": null,
      "grid_template_areas": null,
      "grid_template_columns": null,
      "grid_template_rows": null,
      "height": null,
      "justify_content": null,
      "justify_items": null,
      "left": null,
      "margin": null,
      "max_height": null,
      "max_width": null,
      "min_height": null,
      "min_width": null,
      "object_fit": null,
      "object_position": null,
      "order": null,
      "overflow": null,
      "overflow_x": null,
      "overflow_y": null,
      "padding": null,
      "right": null,
      "top": null,
      "visibility": null,
      "width": null
     }
    },
    "7c99172a0d6c4418a449c96caaf90a41": {
     "model_module": "@jupyter-widgets/base",
     "model_module_version": "1.2.0",
     "model_name": "LayoutModel",
     "state": {
      "_model_module": "@jupyter-widgets/base",
      "_model_module_version": "1.2.0",
      "_model_name": "LayoutModel",
      "_view_count": null,
      "_view_module": "@jupyter-widgets/base",
      "_view_module_version": "1.2.0",
      "_view_name": "LayoutView",
      "align_content": null,
      "align_items": null,
      "align_self": null,
      "border": null,
      "bottom": null,
      "display": null,
      "flex": "2",
      "flex_flow": null,
      "grid_area": null,
      "grid_auto_columns": null,
      "grid_auto_flow": null,
      "grid_auto_rows": null,
      "grid_column": null,
      "grid_gap": null,
      "grid_row": null,
      "grid_template_areas": null,
      "grid_template_columns": null,
      "grid_template_rows": null,
      "height": null,
      "justify_content": null,
      "justify_items": null,
      "left": null,
      "margin": null,
      "max_height": null,
      "max_width": null,
      "min_height": null,
      "min_width": null,
      "object_fit": null,
      "object_position": null,
      "order": null,
      "overflow": null,
      "overflow_x": null,
      "overflow_y": null,
      "padding": null,
      "right": null,
      "top": null,
      "visibility": null,
      "width": null
     }
    },
    "7ce6ccd9fb794278a7ce2cc4a8423b7c": {
     "model_module": "@jupyter-widgets/base",
     "model_module_version": "1.2.0",
     "model_name": "LayoutModel",
     "state": {
      "_model_module": "@jupyter-widgets/base",
      "_model_module_version": "1.2.0",
      "_model_name": "LayoutModel",
      "_view_count": null,
      "_view_module": "@jupyter-widgets/base",
      "_view_module_version": "1.2.0",
      "_view_name": "LayoutView",
      "align_content": null,
      "align_items": null,
      "align_self": null,
      "border": null,
      "bottom": null,
      "display": null,
      "flex": null,
      "flex_flow": null,
      "grid_area": null,
      "grid_auto_columns": null,
      "grid_auto_flow": null,
      "grid_auto_rows": null,
      "grid_column": null,
      "grid_gap": null,
      "grid_row": null,
      "grid_template_areas": null,
      "grid_template_columns": null,
      "grid_template_rows": null,
      "height": null,
      "justify_content": null,
      "justify_items": null,
      "left": null,
      "margin": null,
      "max_height": null,
      "max_width": null,
      "min_height": null,
      "min_width": null,
      "object_fit": null,
      "object_position": null,
      "order": null,
      "overflow": null,
      "overflow_x": null,
      "overflow_y": null,
      "padding": null,
      "right": null,
      "top": null,
      "visibility": null,
      "width": null
     }
    },
    "81b0a35f5efa4cce9d1ebd2be9398bfe": {
     "model_module": "@jupyter-widgets/base",
     "model_module_version": "1.2.0",
     "model_name": "LayoutModel",
     "state": {
      "_model_module": "@jupyter-widgets/base",
      "_model_module_version": "1.2.0",
      "_model_name": "LayoutModel",
      "_view_count": null,
      "_view_module": "@jupyter-widgets/base",
      "_view_module_version": "1.2.0",
      "_view_name": "LayoutView",
      "align_content": null,
      "align_items": null,
      "align_self": null,
      "border": null,
      "bottom": null,
      "display": null,
      "flex": null,
      "flex_flow": null,
      "grid_area": null,
      "grid_auto_columns": null,
      "grid_auto_flow": null,
      "grid_auto_rows": null,
      "grid_column": null,
      "grid_gap": null,
      "grid_row": null,
      "grid_template_areas": null,
      "grid_template_columns": null,
      "grid_template_rows": null,
      "height": null,
      "justify_content": null,
      "justify_items": null,
      "left": null,
      "margin": null,
      "max_height": null,
      "max_width": null,
      "min_height": null,
      "min_width": null,
      "object_fit": null,
      "object_position": null,
      "order": null,
      "overflow": null,
      "overflow_x": null,
      "overflow_y": null,
      "padding": null,
      "right": null,
      "top": null,
      "visibility": null,
      "width": null
     }
    },
    "831f2a092d33437bba62e77184b786c8": {
     "model_module": "@jupyter-widgets/base",
     "model_module_version": "1.2.0",
     "model_name": "LayoutModel",
     "state": {
      "_model_module": "@jupyter-widgets/base",
      "_model_module_version": "1.2.0",
      "_model_name": "LayoutModel",
      "_view_count": null,
      "_view_module": "@jupyter-widgets/base",
      "_view_module_version": "1.2.0",
      "_view_name": "LayoutView",
      "align_content": null,
      "align_items": null,
      "align_self": null,
      "border": null,
      "bottom": null,
      "display": null,
      "flex": null,
      "flex_flow": null,
      "grid_area": null,
      "grid_auto_columns": null,
      "grid_auto_flow": null,
      "grid_auto_rows": null,
      "grid_column": null,
      "grid_gap": null,
      "grid_row": null,
      "grid_template_areas": null,
      "grid_template_columns": null,
      "grid_template_rows": null,
      "height": null,
      "justify_content": null,
      "justify_items": null,
      "left": null,
      "margin": null,
      "max_height": null,
      "max_width": null,
      "min_height": null,
      "min_width": null,
      "object_fit": null,
      "object_position": null,
      "order": null,
      "overflow": null,
      "overflow_x": null,
      "overflow_y": null,
      "padding": null,
      "right": null,
      "top": null,
      "visibility": null,
      "width": "20px"
     }
    },
    "8361ca9d0edd4c33b5330b59f13fb4f5": {
     "model_module": "@jupyter-widgets/controls",
     "model_module_version": "1.5.0",
     "model_name": "DescriptionStyleModel",
     "state": {
      "_model_module": "@jupyter-widgets/controls",
      "_model_module_version": "1.5.0",
      "_model_name": "DescriptionStyleModel",
      "_view_count": null,
      "_view_module": "@jupyter-widgets/base",
      "_view_module_version": "1.2.0",
      "_view_name": "StyleView",
      "description_width": ""
     }
    },
    "877d51c2a8fc48cf8a68a69cacd9cf10": {
     "model_module": "@jupyter-widgets/controls",
     "model_module_version": "1.5.0",
     "model_name": "HTMLModel",
     "state": {
      "_dom_classes": [],
      "_model_module": "@jupyter-widgets/controls",
      "_model_module_version": "1.5.0",
      "_model_name": "HTMLModel",
      "_view_count": null,
      "_view_module": "@jupyter-widgets/controls",
      "_view_module_version": "1.5.0",
      "_view_name": "HTMLView",
      "description": "",
      "description_tooltip": null,
      "layout": "IPY_MODEL_81b0a35f5efa4cce9d1ebd2be9398bfe",
      "placeholder": "​",
      "style": "IPY_MODEL_f85e1ad333874cfb8a5224829987f0ab",
      "value": "config.json: 100%"
     }
    },
    "8e167ff20db84c92aa68cf47d622acc4": {
     "model_module": "@jupyter-widgets/controls",
     "model_module_version": "1.5.0",
     "model_name": "ProgressStyleModel",
     "state": {
      "_model_module": "@jupyter-widgets/controls",
      "_model_module_version": "1.5.0",
      "_model_name": "ProgressStyleModel",
      "_view_count": null,
      "_view_module": "@jupyter-widgets/base",
      "_view_module_version": "1.2.0",
      "_view_name": "StyleView",
      "bar_color": null,
      "description_width": ""
     }
    },
    "8f8a7b044ac64ae68bc7ea671cecccb3": {
     "model_module": "@jupyter-widgets/controls",
     "model_module_version": "1.5.0",
     "model_name": "HBoxModel",
     "state": {
      "_dom_classes": [],
      "_model_module": "@jupyter-widgets/controls",
      "_model_module_version": "1.5.0",
      "_model_name": "HBoxModel",
      "_view_count": null,
      "_view_module": "@jupyter-widgets/controls",
      "_view_module_version": "1.5.0",
      "_view_name": "HBoxView",
      "box_style": "",
      "children": [
       "IPY_MODEL_bb17b5780a6e48f9b1f9941847100576",
       "IPY_MODEL_f760f90e99fa47f6bef406beba5c91b9",
       "IPY_MODEL_649573bcbc354d6682c1e2718fe0c675"
      ],
      "layout": "IPY_MODEL_534c3c91c90e45349a25a8382ed11bd9"
     }
    },
    "914457eb46ae45199920b5af00de0d3e": {
     "model_module": "@jupyter-widgets/controls",
     "model_module_version": "1.5.0",
     "model_name": "FloatProgressModel",
     "state": {
      "_dom_classes": [],
      "_model_module": "@jupyter-widgets/controls",
      "_model_module_version": "1.5.0",
      "_model_name": "FloatProgressModel",
      "_view_count": null,
      "_view_module": "@jupyter-widgets/controls",
      "_view_module_version": "1.5.0",
      "_view_name": "ProgressView",
      "bar_style": "success",
      "description": "",
      "description_tooltip": null,
      "layout": "IPY_MODEL_1fef5e0c5daa4b2cb01e9862cd2f57e2",
      "max": 26,
      "min": 0,
      "orientation": "horizontal",
      "style": "IPY_MODEL_fc26e7a39c6146069920e608936806c4",
      "value": 26
     }
    },
    "9405e3df14d84856a1a371b62d76f538": {
     "model_module": "@jupyter-widgets/controls",
     "model_module_version": "1.5.0",
     "model_name": "HBoxModel",
     "state": {
      "_dom_classes": [],
      "_model_module": "@jupyter-widgets/controls",
      "_model_module_version": "1.5.0",
      "_model_name": "HBoxModel",
      "_view_count": null,
      "_view_module": "@jupyter-widgets/controls",
      "_view_module_version": "1.5.0",
      "_view_name": "HBoxView",
      "box_style": "",
      "children": [
       "IPY_MODEL_c8be30d1db8043869f3c5f36e5070f1f",
       "IPY_MODEL_58e6fc92af6b4ca88e8c423bad8c21eb",
       "IPY_MODEL_da8c98b5362d42cd9be9f6b838ec439e"
      ],
      "layout": "IPY_MODEL_2a2179c2f3f84683b8945486ae1f300a"
     }
    },
    "944daecee6b84e03874cb0508f469f0f": {
     "model_module": "@jupyter-widgets/base",
     "model_module_version": "1.2.0",
     "model_name": "LayoutModel",
     "state": {
      "_model_module": "@jupyter-widgets/base",
      "_model_module_version": "1.2.0",
      "_model_name": "LayoutModel",
      "_view_count": null,
      "_view_module": "@jupyter-widgets/base",
      "_view_module_version": "1.2.0",
      "_view_name": "LayoutView",
      "align_content": null,
      "align_items": null,
      "align_self": null,
      "border": null,
      "bottom": null,
      "display": null,
      "flex": null,
      "flex_flow": null,
      "grid_area": null,
      "grid_auto_columns": null,
      "grid_auto_flow": null,
      "grid_auto_rows": null,
      "grid_column": null,
      "grid_gap": null,
      "grid_row": null,
      "grid_template_areas": null,
      "grid_template_columns": null,
      "grid_template_rows": null,
      "height": null,
      "justify_content": null,
      "justify_items": null,
      "left": null,
      "margin": null,
      "max_height": null,
      "max_width": null,
      "min_height": null,
      "min_width": null,
      "object_fit": null,
      "object_position": null,
      "order": null,
      "overflow": null,
      "overflow_x": null,
      "overflow_y": null,
      "padding": null,
      "right": null,
      "top": null,
      "visibility": null,
      "width": null
     }
    },
    "94d6157ef1864eb88766ba2e56d73009": {
     "model_module": "@jupyter-widgets/base",
     "model_module_version": "1.2.0",
     "model_name": "LayoutModel",
     "state": {
      "_model_module": "@jupyter-widgets/base",
      "_model_module_version": "1.2.0",
      "_model_name": "LayoutModel",
      "_view_count": null,
      "_view_module": "@jupyter-widgets/base",
      "_view_module_version": "1.2.0",
      "_view_name": "LayoutView",
      "align_content": null,
      "align_items": null,
      "align_self": null,
      "border": null,
      "bottom": null,
      "display": "inline-flex",
      "flex": null,
      "flex_flow": "row wrap",
      "grid_area": null,
      "grid_auto_columns": null,
      "grid_auto_flow": null,
      "grid_auto_rows": null,
      "grid_column": null,
      "grid_gap": null,
      "grid_row": null,
      "grid_template_areas": null,
      "grid_template_columns": null,
      "grid_template_rows": null,
      "height": null,
      "justify_content": null,
      "justify_items": null,
      "left": null,
      "margin": null,
      "max_height": null,
      "max_width": null,
      "min_height": null,
      "min_width": null,
      "object_fit": null,
      "object_position": null,
      "order": null,
      "overflow": null,
      "overflow_x": null,
      "overflow_y": null,
      "padding": null,
      "right": null,
      "top": null,
      "visibility": "hidden",
      "width": "100%"
     }
    },
    "9c1cac24a1c542aaa95ef28cc394758d": {
     "model_module": "@jupyter-widgets/controls",
     "model_module_version": "1.5.0",
     "model_name": "HTMLModel",
     "state": {
      "_dom_classes": [],
      "_model_module": "@jupyter-widgets/controls",
      "_model_module_version": "1.5.0",
      "_model_name": "HTMLModel",
      "_view_count": null,
      "_view_module": "@jupyter-widgets/controls",
      "_view_module_version": "1.5.0",
      "_view_name": "HTMLView",
      "description": "",
      "description_tooltip": null,
      "layout": "IPY_MODEL_5286d2bdb9ac44da929555f434b67386",
      "placeholder": "​",
      "style": "IPY_MODEL_06b5fb1da0f04ee69be779ddc227a9a1",
      "value": "Sanity Checking DataLoader 0: 100%"
     }
    },
    "9d356010a43f4cf4a3f9f923f5f14fea": {
     "model_module": "@jupyter-widgets/base",
     "model_module_version": "1.2.0",
     "model_name": "LayoutModel",
     "state": {
      "_model_module": "@jupyter-widgets/base",
      "_model_module_version": "1.2.0",
      "_model_name": "LayoutModel",
      "_view_count": null,
      "_view_module": "@jupyter-widgets/base",
      "_view_module_version": "1.2.0",
      "_view_name": "LayoutView",
      "align_content": null,
      "align_items": null,
      "align_self": null,
      "border": null,
      "bottom": null,
      "display": null,
      "flex": null,
      "flex_flow": null,
      "grid_area": null,
      "grid_auto_columns": null,
      "grid_auto_flow": null,
      "grid_auto_rows": null,
      "grid_column": null,
      "grid_gap": null,
      "grid_row": null,
      "grid_template_areas": null,
      "grid_template_columns": null,
      "grid_template_rows": null,
      "height": null,
      "justify_content": null,
      "justify_items": null,
      "left": null,
      "margin": null,
      "max_height": null,
      "max_width": null,
      "min_height": null,
      "min_width": null,
      "object_fit": null,
      "object_position": null,
      "order": null,
      "overflow": null,
      "overflow_x": null,
      "overflow_y": null,
      "padding": null,
      "right": null,
      "top": null,
      "visibility": null,
      "width": null
     }
    },
    "9e63fda36c244e7bb89070596e20922f": {
     "model_module": "@jupyter-widgets/base",
     "model_module_version": "1.2.0",
     "model_name": "LayoutModel",
     "state": {
      "_model_module": "@jupyter-widgets/base",
      "_model_module_version": "1.2.0",
      "_model_name": "LayoutModel",
      "_view_count": null,
      "_view_module": "@jupyter-widgets/base",
      "_view_module_version": "1.2.0",
      "_view_name": "LayoutView",
      "align_content": null,
      "align_items": null,
      "align_self": null,
      "border": null,
      "bottom": null,
      "display": null,
      "flex": null,
      "flex_flow": null,
      "grid_area": null,
      "grid_auto_columns": null,
      "grid_auto_flow": null,
      "grid_auto_rows": null,
      "grid_column": null,
      "grid_gap": null,
      "grid_row": null,
      "grid_template_areas": null,
      "grid_template_columns": null,
      "grid_template_rows": null,
      "height": null,
      "justify_content": null,
      "justify_items": null,
      "left": null,
      "margin": null,
      "max_height": null,
      "max_width": null,
      "min_height": null,
      "min_width": null,
      "object_fit": null,
      "object_position": null,
      "order": null,
      "overflow": null,
      "overflow_x": null,
      "overflow_y": null,
      "padding": null,
      "right": null,
      "top": null,
      "visibility": null,
      "width": null
     }
    },
    "a0d13f6502064da48c83ffaee4f50746": {
     "model_module": "@jupyter-widgets/controls",
     "model_module_version": "1.5.0",
     "model_name": "HBoxModel",
     "state": {
      "_dom_classes": [],
      "_model_module": "@jupyter-widgets/controls",
      "_model_module_version": "1.5.0",
      "_model_name": "HBoxModel",
      "_view_count": null,
      "_view_module": "@jupyter-widgets/controls",
      "_view_module_version": "1.5.0",
      "_view_name": "HBoxView",
      "box_style": "",
      "children": [
       "IPY_MODEL_9c1cac24a1c542aaa95ef28cc394758d",
       "IPY_MODEL_e8688d40e0b748a59b71154b068976c0",
       "IPY_MODEL_47ecf675a92a424094991ab0f51f3b02"
      ],
      "layout": "IPY_MODEL_94d6157ef1864eb88766ba2e56d73009"
     }
    },
    "a42fb672bb1c4a65a5fcefbe5218f9d2": {
     "model_module": "@jupyter-widgets/base",
     "model_module_version": "1.2.0",
     "model_name": "LayoutModel",
     "state": {
      "_model_module": "@jupyter-widgets/base",
      "_model_module_version": "1.2.0",
      "_model_name": "LayoutModel",
      "_view_count": null,
      "_view_module": "@jupyter-widgets/base",
      "_view_module_version": "1.2.0",
      "_view_name": "LayoutView",
      "align_content": null,
      "align_items": null,
      "align_self": null,
      "border": null,
      "bottom": null,
      "display": null,
      "flex": null,
      "flex_flow": null,
      "grid_area": null,
      "grid_auto_columns": null,
      "grid_auto_flow": null,
      "grid_auto_rows": null,
      "grid_column": null,
      "grid_gap": null,
      "grid_row": null,
      "grid_template_areas": null,
      "grid_template_columns": null,
      "grid_template_rows": null,
      "height": null,
      "justify_content": null,
      "justify_items": null,
      "left": null,
      "margin": null,
      "max_height": null,
      "max_width": null,
      "min_height": null,
      "min_width": null,
      "object_fit": null,
      "object_position": null,
      "order": null,
      "overflow": null,
      "overflow_x": null,
      "overflow_y": null,
      "padding": null,
      "right": null,
      "top": null,
      "visibility": null,
      "width": null
     }
    },
    "a74c446e172941948002b795d4ffc74b": {
     "model_module": "@jupyter-widgets/controls",
     "model_module_version": "1.5.0",
     "model_name": "FloatProgressModel",
     "state": {
      "_dom_classes": [],
      "_model_module": "@jupyter-widgets/controls",
      "_model_module_version": "1.5.0",
      "_model_name": "FloatProgressModel",
      "_view_count": null,
      "_view_module": "@jupyter-widgets/controls",
      "_view_module_version": "1.5.0",
      "_view_name": "ProgressView",
      "bar_style": "success",
      "description": "",
      "description_tooltip": null,
      "layout": "IPY_MODEL_831f2a092d33437bba62e77184b786c8",
      "max": 1,
      "min": 0,
      "orientation": "horizontal",
      "style": "IPY_MODEL_4837ef40d1464c348af00cccb47ddc65",
      "value": 1
     }
    },
    "a7fe59acd2ff4edcad7fb290e34a51b5": {
     "model_module": "@jupyter-widgets/base",
     "model_module_version": "1.2.0",
     "model_name": "LayoutModel",
     "state": {
      "_model_module": "@jupyter-widgets/base",
      "_model_module_version": "1.2.0",
      "_model_name": "LayoutModel",
      "_view_count": null,
      "_view_module": "@jupyter-widgets/base",
      "_view_module_version": "1.2.0",
      "_view_name": "LayoutView",
      "align_content": null,
      "align_items": null,
      "align_self": null,
      "border": null,
      "bottom": null,
      "display": null,
      "flex": null,
      "flex_flow": null,
      "grid_area": null,
      "grid_auto_columns": null,
      "grid_auto_flow": null,
      "grid_auto_rows": null,
      "grid_column": null,
      "grid_gap": null,
      "grid_row": null,
      "grid_template_areas": null,
      "grid_template_columns": null,
      "grid_template_rows": null,
      "height": null,
      "justify_content": null,
      "justify_items": null,
      "left": null,
      "margin": null,
      "max_height": null,
      "max_width": null,
      "min_height": null,
      "min_width": null,
      "object_fit": null,
      "object_position": null,
      "order": null,
      "overflow": null,
      "overflow_x": null,
      "overflow_y": null,
      "padding": null,
      "right": null,
      "top": null,
      "visibility": null,
      "width": null
     }
    },
    "a9a01a6459a84e2cbe696564ecaf388e": {
     "model_module": "@jupyter-widgets/base",
     "model_module_version": "1.2.0",
     "model_name": "LayoutModel",
     "state": {
      "_model_module": "@jupyter-widgets/base",
      "_model_module_version": "1.2.0",
      "_model_name": "LayoutModel",
      "_view_count": null,
      "_view_module": "@jupyter-widgets/base",
      "_view_module_version": "1.2.0",
      "_view_name": "LayoutView",
      "align_content": null,
      "align_items": null,
      "align_self": null,
      "border": null,
      "bottom": null,
      "display": null,
      "flex": null,
      "flex_flow": null,
      "grid_area": null,
      "grid_auto_columns": null,
      "grid_auto_flow": null,
      "grid_auto_rows": null,
      "grid_column": null,
      "grid_gap": null,
      "grid_row": null,
      "grid_template_areas": null,
      "grid_template_columns": null,
      "grid_template_rows": null,
      "height": null,
      "justify_content": null,
      "justify_items": null,
      "left": null,
      "margin": null,
      "max_height": null,
      "max_width": null,
      "min_height": null,
      "min_width": null,
      "object_fit": null,
      "object_position": null,
      "order": null,
      "overflow": null,
      "overflow_x": null,
      "overflow_y": null,
      "padding": null,
      "right": null,
      "top": null,
      "visibility": null,
      "width": null
     }
    },
    "b777e2515ae84ecbaa57595bf8510dcf": {
     "model_module": "@jupyter-widgets/controls",
     "model_module_version": "1.5.0",
     "model_name": "FloatProgressModel",
     "state": {
      "_dom_classes": [],
      "_model_module": "@jupyter-widgets/controls",
      "_model_module_version": "1.5.0",
      "_model_name": "FloatProgressModel",
      "_view_count": null,
      "_view_module": "@jupyter-widgets/controls",
      "_view_module_version": "1.5.0",
      "_view_name": "ProgressView",
      "bar_style": "success",
      "description": "",
      "description_tooltip": null,
      "layout": "IPY_MODEL_fdb28aec230e42b8ae343df80d0293e1",
      "max": 1,
      "min": 0,
      "orientation": "horizontal",
      "style": "IPY_MODEL_76f0b69582ba485e9bf7abc61afb4265",
      "value": 1
     }
    },
    "b9e8c9921ad545c1a53d2d334aba57d8": {
     "model_module": "@jupyter-widgets/base",
     "model_module_version": "1.2.0",
     "model_name": "LayoutModel",
     "state": {
      "_model_module": "@jupyter-widgets/base",
      "_model_module_version": "1.2.0",
      "_model_name": "LayoutModel",
      "_view_count": null,
      "_view_module": "@jupyter-widgets/base",
      "_view_module_version": "1.2.0",
      "_view_name": "LayoutView",
      "align_content": null,
      "align_items": null,
      "align_self": null,
      "border": null,
      "bottom": null,
      "display": null,
      "flex": null,
      "flex_flow": null,
      "grid_area": null,
      "grid_auto_columns": null,
      "grid_auto_flow": null,
      "grid_auto_rows": null,
      "grid_column": null,
      "grid_gap": null,
      "grid_row": null,
      "grid_template_areas": null,
      "grid_template_columns": null,
      "grid_template_rows": null,
      "height": null,
      "justify_content": null,
      "justify_items": null,
      "left": null,
      "margin": null,
      "max_height": null,
      "max_width": null,
      "min_height": null,
      "min_width": null,
      "object_fit": null,
      "object_position": null,
      "order": null,
      "overflow": null,
      "overflow_x": null,
      "overflow_y": null,
      "padding": null,
      "right": null,
      "top": null,
      "visibility": null,
      "width": null
     }
    },
    "bb17b5780a6e48f9b1f9941847100576": {
     "model_module": "@jupyter-widgets/controls",
     "model_module_version": "1.5.0",
     "model_name": "HTMLModel",
     "state": {
      "_dom_classes": [],
      "_model_module": "@jupyter-widgets/controls",
      "_model_module_version": "1.5.0",
      "_model_name": "HTMLModel",
      "_view_count": null,
      "_view_module": "@jupyter-widgets/controls",
      "_view_module_version": "1.5.0",
      "_view_name": "HTMLView",
      "description": "",
      "description_tooltip": null,
      "layout": "IPY_MODEL_25dc6cf01b044cb4b85414566433153d",
      "placeholder": "​",
      "style": "IPY_MODEL_438d3be303be41d5ad4d453235851b12",
      "value": "Epoch 0:   0%"
     }
    },
    "c099ecfc54f1442a915320efe503d9ec": {
     "model_module": "@jupyter-widgets/controls",
     "model_module_version": "1.5.0",
     "model_name": "HTMLModel",
     "state": {
      "_dom_classes": [],
      "_model_module": "@jupyter-widgets/controls",
      "_model_module_version": "1.5.0",
      "_model_name": "HTMLModel",
      "_view_count": null,
      "_view_module": "@jupyter-widgets/controls",
      "_view_module_version": "1.5.0",
      "_view_name": "HTMLView",
      "description": "",
      "description_tooltip": null,
      "layout": "IPY_MODEL_5e574cd79a4b439ea5274f5f0dd2ba36",
      "placeholder": "​",
      "style": "IPY_MODEL_1a71aaea4d3f4836846d8bf198a67dcb",
      "value": " 1.52G/1.52G [00:27&lt;00:00, 121MB/s]"
     }
    },
    "c8be30d1db8043869f3c5f36e5070f1f": {
     "model_module": "@jupyter-widgets/controls",
     "model_module_version": "1.5.0",
     "model_name": "HTMLModel",
     "state": {
      "_dom_classes": [],
      "_model_module": "@jupyter-widgets/controls",
      "_model_module_version": "1.5.0",
      "_model_name": "HTMLModel",
      "_view_count": null,
      "_view_module": "@jupyter-widgets/controls",
      "_view_module_version": "1.5.0",
      "_view_name": "HTMLView",
      "description": "",
      "description_tooltip": null,
      "layout": "IPY_MODEL_f81b219d16b947acbdb7bd965844a885",
      "placeholder": "​",
      "style": "IPY_MODEL_3a85c869d9a74e51bf0fb7c961ad0fbc",
      "value": "vocab.json: "
     }
    },
    "cc84d3eebd4549c98e855a7bc6bf311a": {
     "model_module": "@jupyter-widgets/controls",
     "model_module_version": "1.5.0",
     "model_name": "FloatProgressModel",
     "state": {
      "_dom_classes": [],
      "_model_module": "@jupyter-widgets/controls",
      "_model_module_version": "1.5.0",
      "_model_name": "FloatProgressModel",
      "_view_count": null,
      "_view_module": "@jupyter-widgets/controls",
      "_view_module_version": "1.5.0",
      "_view_name": "ProgressView",
      "bar_style": "success",
      "description": "",
      "description_tooltip": null,
      "layout": "IPY_MODEL_944daecee6b84e03874cb0508f469f0f",
      "max": 1519984962,
      "min": 0,
      "orientation": "horizontal",
      "style": "IPY_MODEL_3df70a4069a64bd2bdf6a2317c6d3bae",
      "value": 1519984962
     }
    },
    "d0713ec68b1d4021a38b53d15ea66dbb": {
     "model_module": "@jupyter-widgets/base",
     "model_module_version": "1.2.0",
     "model_name": "LayoutModel",
     "state": {
      "_model_module": "@jupyter-widgets/base",
      "_model_module_version": "1.2.0",
      "_model_name": "LayoutModel",
      "_view_count": null,
      "_view_module": "@jupyter-widgets/base",
      "_view_module_version": "1.2.0",
      "_view_name": "LayoutView",
      "align_content": null,
      "align_items": null,
      "align_self": null,
      "border": null,
      "bottom": null,
      "display": null,
      "flex": null,
      "flex_flow": null,
      "grid_area": null,
      "grid_auto_columns": null,
      "grid_auto_flow": null,
      "grid_auto_rows": null,
      "grid_column": null,
      "grid_gap": null,
      "grid_row": null,
      "grid_template_areas": null,
      "grid_template_columns": null,
      "grid_template_rows": null,
      "height": null,
      "justify_content": null,
      "justify_items": null,
      "left": null,
      "margin": null,
      "max_height": null,
      "max_width": null,
      "min_height": null,
      "min_width": null,
      "object_fit": null,
      "object_position": null,
      "order": null,
      "overflow": null,
      "overflow_x": null,
      "overflow_y": null,
      "padding": null,
      "right": null,
      "top": null,
      "visibility": null,
      "width": null
     }
    },
    "d7575fcc265c4edab09db62ca9505a4a": {
     "model_module": "@jupyter-widgets/base",
     "model_module_version": "1.2.0",
     "model_name": "LayoutModel",
     "state": {
      "_model_module": "@jupyter-widgets/base",
      "_model_module_version": "1.2.0",
      "_model_name": "LayoutModel",
      "_view_count": null,
      "_view_module": "@jupyter-widgets/base",
      "_view_module_version": "1.2.0",
      "_view_name": "LayoutView",
      "align_content": null,
      "align_items": null,
      "align_self": null,
      "border": null,
      "bottom": null,
      "display": null,
      "flex": null,
      "flex_flow": null,
      "grid_area": null,
      "grid_auto_columns": null,
      "grid_auto_flow": null,
      "grid_auto_rows": null,
      "grid_column": null,
      "grid_gap": null,
      "grid_row": null,
      "grid_template_areas": null,
      "grid_template_columns": null,
      "grid_template_rows": null,
      "height": null,
      "justify_content": null,
      "justify_items": null,
      "left": null,
      "margin": null,
      "max_height": null,
      "max_width": null,
      "min_height": null,
      "min_width": null,
      "object_fit": null,
      "object_position": null,
      "order": null,
      "overflow": null,
      "overflow_x": null,
      "overflow_y": null,
      "padding": null,
      "right": null,
      "top": null,
      "visibility": null,
      "width": null
     }
    },
    "da8c98b5362d42cd9be9f6b838ec439e": {
     "model_module": "@jupyter-widgets/controls",
     "model_module_version": "1.5.0",
     "model_name": "HTMLModel",
     "state": {
      "_dom_classes": [],
      "_model_module": "@jupyter-widgets/controls",
      "_model_module_version": "1.5.0",
      "_model_name": "HTMLModel",
      "_view_count": null,
      "_view_module": "@jupyter-widgets/controls",
      "_view_module_version": "1.5.0",
      "_view_name": "HTMLView",
      "description": "",
      "description_tooltip": null,
      "layout": "IPY_MODEL_a7fe59acd2ff4edcad7fb290e34a51b5",
      "placeholder": "​",
      "style": "IPY_MODEL_2dacfc8a675b4c19ab20ba2cc80a61c6",
      "value": " 1.04M/? [00:00&lt;00:00, 24.9MB/s]"
     }
    },
    "dd0889316d064da58b23d9eae04fb220": {
     "model_module": "@jupyter-widgets/base",
     "model_module_version": "1.2.0",
     "model_name": "LayoutModel",
     "state": {
      "_model_module": "@jupyter-widgets/base",
      "_model_module_version": "1.2.0",
      "_model_name": "LayoutModel",
      "_view_count": null,
      "_view_module": "@jupyter-widgets/base",
      "_view_module_version": "1.2.0",
      "_view_name": "LayoutView",
      "align_content": null,
      "align_items": null,
      "align_self": null,
      "border": null,
      "bottom": null,
      "display": null,
      "flex": null,
      "flex_flow": null,
      "grid_area": null,
      "grid_auto_columns": null,
      "grid_auto_flow": null,
      "grid_auto_rows": null,
      "grid_column": null,
      "grid_gap": null,
      "grid_row": null,
      "grid_template_areas": null,
      "grid_template_columns": null,
      "grid_template_rows": null,
      "height": null,
      "justify_content": null,
      "justify_items": null,
      "left": null,
      "margin": null,
      "max_height": null,
      "max_width": null,
      "min_height": null,
      "min_width": null,
      "object_fit": null,
      "object_position": null,
      "order": null,
      "overflow": null,
      "overflow_x": null,
      "overflow_y": null,
      "padding": null,
      "right": null,
      "top": null,
      "visibility": null,
      "width": null
     }
    },
    "de923190cd244af09671862456ff0c5f": {
     "model_module": "@jupyter-widgets/base",
     "model_module_version": "1.2.0",
     "model_name": "LayoutModel",
     "state": {
      "_model_module": "@jupyter-widgets/base",
      "_model_module_version": "1.2.0",
      "_model_name": "LayoutModel",
      "_view_count": null,
      "_view_module": "@jupyter-widgets/base",
      "_view_module_version": "1.2.0",
      "_view_name": "LayoutView",
      "align_content": null,
      "align_items": null,
      "align_self": null,
      "border": null,
      "bottom": null,
      "display": null,
      "flex": null,
      "flex_flow": null,
      "grid_area": null,
      "grid_auto_columns": null,
      "grid_auto_flow": null,
      "grid_auto_rows": null,
      "grid_column": null,
      "grid_gap": null,
      "grid_row": null,
      "grid_template_areas": null,
      "grid_template_columns": null,
      "grid_template_rows": null,
      "height": null,
      "justify_content": null,
      "justify_items": null,
      "left": null,
      "margin": null,
      "max_height": null,
      "max_width": null,
      "min_height": null,
      "min_width": null,
      "object_fit": null,
      "object_position": null,
      "order": null,
      "overflow": null,
      "overflow_x": null,
      "overflow_y": null,
      "padding": null,
      "right": null,
      "top": null,
      "visibility": null,
      "width": null
     }
    },
    "dea282b07c2e4723acce875472b5584b": {
     "model_module": "@jupyter-widgets/controls",
     "model_module_version": "1.5.0",
     "model_name": "ProgressStyleModel",
     "state": {
      "_model_module": "@jupyter-widgets/controls",
      "_model_module_version": "1.5.0",
      "_model_name": "ProgressStyleModel",
      "_view_count": null,
      "_view_module": "@jupyter-widgets/base",
      "_view_module_version": "1.2.0",
      "_view_name": "StyleView",
      "bar_color": null,
      "description_width": ""
     }
    },
    "e2241397117349e782e2b55b75263677": {
     "model_module": "@jupyter-widgets/controls",
     "model_module_version": "1.5.0",
     "model_name": "HTMLModel",
     "state": {
      "_dom_classes": [],
      "_model_module": "@jupyter-widgets/controls",
      "_model_module_version": "1.5.0",
      "_model_name": "HTMLModel",
      "_view_count": null,
      "_view_module": "@jupyter-widgets/controls",
      "_view_module_version": "1.5.0",
      "_view_name": "HTMLView",
      "description": "",
      "description_tooltip": null,
      "layout": "IPY_MODEL_75d5ae38ae614e8fa6edcf52b5ba17ae",
      "placeholder": "​",
      "style": "IPY_MODEL_ff397bf9b7b648eb843f6919fbd93d06",
      "value": "model.safetensors: 100%"
     }
    },
    "e5b795fc834e462d8d53813165700cb8": {
     "model_module": "@jupyter-widgets/controls",
     "model_module_version": "1.5.0",
     "model_name": "ProgressStyleModel",
     "state": {
      "_model_module": "@jupyter-widgets/controls",
      "_model_module_version": "1.5.0",
      "_model_name": "ProgressStyleModel",
      "_view_count": null,
      "_view_module": "@jupyter-widgets/base",
      "_view_module_version": "1.2.0",
      "_view_name": "StyleView",
      "bar_color": null,
      "description_width": ""
     }
    },
    "e70f6bd569cc4e648600ee94a47bedbe": {
     "model_module": "@jupyter-widgets/controls",
     "model_module_version": "1.5.0",
     "model_name": "HBoxModel",
     "state": {
      "_dom_classes": [],
      "_model_module": "@jupyter-widgets/controls",
      "_model_module_version": "1.5.0",
      "_model_name": "HBoxModel",
      "_view_count": null,
      "_view_module": "@jupyter-widgets/controls",
      "_view_module_version": "1.5.0",
      "_view_name": "HBoxView",
      "box_style": "",
      "children": [
       "IPY_MODEL_f443e422f08445b69b275d0d787af74f",
       "IPY_MODEL_b777e2515ae84ecbaa57595bf8510dcf",
       "IPY_MODEL_38cd32f11998461d81ffec6ecc21cf14"
      ],
      "layout": "IPY_MODEL_66c868ab8d174c0f91a728db72c842c0"
     }
    },
    "e8688d40e0b748a59b71154b068976c0": {
     "model_module": "@jupyter-widgets/controls",
     "model_module_version": "1.5.0",
     "model_name": "FloatProgressModel",
     "state": {
      "_dom_classes": [],
      "_model_module": "@jupyter-widgets/controls",
      "_model_module_version": "1.5.0",
      "_model_name": "FloatProgressModel",
      "_view_count": null,
      "_view_module": "@jupyter-widgets/controls",
      "_view_module_version": "1.5.0",
      "_view_name": "ProgressView",
      "bar_style": "",
      "description": "",
      "description_tooltip": null,
      "layout": "IPY_MODEL_7c99172a0d6c4418a449c96caaf90a41",
      "max": 1,
      "min": 0,
      "orientation": "horizontal",
      "style": "IPY_MODEL_8e167ff20db84c92aa68cf47d622acc4",
      "value": 1
     }
    },
    "ef25bcd5a5154155ab69bd8fa2d9282b": {
     "model_module": "@jupyter-widgets/controls",
     "model_module_version": "1.5.0",
     "model_name": "DescriptionStyleModel",
     "state": {
      "_model_module": "@jupyter-widgets/controls",
      "_model_module_version": "1.5.0",
      "_model_name": "DescriptionStyleModel",
      "_view_count": null,
      "_view_module": "@jupyter-widgets/base",
      "_view_module_version": "1.2.0",
      "_view_name": "StyleView",
      "description_width": ""
     }
    },
    "f443e422f08445b69b275d0d787af74f": {
     "model_module": "@jupyter-widgets/controls",
     "model_module_version": "1.5.0",
     "model_name": "HTMLModel",
     "state": {
      "_dom_classes": [],
      "_model_module": "@jupyter-widgets/controls",
      "_model_module_version": "1.5.0",
      "_model_name": "HTMLModel",
      "_view_count": null,
      "_view_module": "@jupyter-widgets/controls",
      "_view_module_version": "1.5.0",
      "_view_name": "HTMLView",
      "description": "",
      "description_tooltip": null,
      "layout": "IPY_MODEL_d0713ec68b1d4021a38b53d15ea66dbb",
      "placeholder": "​",
      "style": "IPY_MODEL_6ba9868f89d04d0386b3231d30c5818b",
      "value": "merges.txt: "
     }
    },
    "f550a4125f05471f81ae977e74c6a83e": {
     "model_module": "@jupyter-widgets/controls",
     "model_module_version": "1.5.0",
     "model_name": "HTMLModel",
     "state": {
      "_dom_classes": [],
      "_model_module": "@jupyter-widgets/controls",
      "_model_module_version": "1.5.0",
      "_model_name": "HTMLModel",
      "_view_count": null,
      "_view_module": "@jupyter-widgets/controls",
      "_view_module_version": "1.5.0",
      "_view_name": "HTMLView",
      "description": "",
      "description_tooltip": null,
      "layout": "IPY_MODEL_5fbbe00758234f3ab74fd89fe7980218",
      "placeholder": "​",
      "style": "IPY_MODEL_ef25bcd5a5154155ab69bd8fa2d9282b",
      "value": " 718/718 [00:00&lt;00:00, 83.2kB/s]"
     }
    },
    "f65ac91eb7864dc4a1b60ab1ba401445": {
     "model_module": "@jupyter-widgets/controls",
     "model_module_version": "1.5.0",
     "model_name": "HBoxModel",
     "state": {
      "_dom_classes": [],
      "_model_module": "@jupyter-widgets/controls",
      "_model_module_version": "1.5.0",
      "_model_name": "HBoxModel",
      "_view_count": null,
      "_view_module": "@jupyter-widgets/controls",
      "_view_module_version": "1.5.0",
      "_view_name": "HBoxView",
      "box_style": "",
      "children": [
       "IPY_MODEL_877d51c2a8fc48cf8a68a69cacd9cf10",
       "IPY_MODEL_544767fa72f74217b05b8dae4a41f92d",
       "IPY_MODEL_f550a4125f05471f81ae977e74c6a83e"
      ],
      "layout": "IPY_MODEL_9d356010a43f4cf4a3f9f923f5f14fea"
     }
    },
    "f760f90e99fa47f6bef406beba5c91b9": {
     "model_module": "@jupyter-widgets/controls",
     "model_module_version": "1.5.0",
     "model_name": "FloatProgressModel",
     "state": {
      "_dom_classes": [],
      "_model_module": "@jupyter-widgets/controls",
      "_model_module_version": "1.5.0",
      "_model_name": "FloatProgressModel",
      "_view_count": null,
      "_view_module": "@jupyter-widgets/controls",
      "_view_module_version": "1.5.0",
      "_view_name": "ProgressView",
      "bar_style": "",
      "description": "",
      "description_tooltip": null,
      "layout": "IPY_MODEL_6a9ee186f8a84ce99610195bd7c3ff95",
      "max": 1,
      "min": 0,
      "orientation": "horizontal",
      "style": "IPY_MODEL_dea282b07c2e4723acce875472b5584b",
      "value": 0
     }
    },
    "f7c41fd4af9e4f02a54db2eca4dc3de6": {
     "model_module": "@jupyter-widgets/controls",
     "model_module_version": "1.5.0",
     "model_name": "HTMLModel",
     "state": {
      "_dom_classes": [],
      "_model_module": "@jupyter-widgets/controls",
      "_model_module_version": "1.5.0",
      "_model_name": "HTMLModel",
      "_view_count": null,
      "_view_module": "@jupyter-widgets/controls",
      "_view_module_version": "1.5.0",
      "_view_name": "HTMLView",
      "description": "",
      "description_tooltip": null,
      "layout": "IPY_MODEL_d7575fcc265c4edab09db62ca9505a4a",
      "placeholder": "​",
      "style": "IPY_MODEL_5a5444452c364b5794f4aa8e79117f9b",
      "value": "tokenizer.json: "
     }
    },
    "f81b219d16b947acbdb7bd965844a885": {
     "model_module": "@jupyter-widgets/base",
     "model_module_version": "1.2.0",
     "model_name": "LayoutModel",
     "state": {
      "_model_module": "@jupyter-widgets/base",
      "_model_module_version": "1.2.0",
      "_model_name": "LayoutModel",
      "_view_count": null,
      "_view_module": "@jupyter-widgets/base",
      "_view_module_version": "1.2.0",
      "_view_name": "LayoutView",
      "align_content": null,
      "align_items": null,
      "align_self": null,
      "border": null,
      "bottom": null,
      "display": null,
      "flex": null,
      "flex_flow": null,
      "grid_area": null,
      "grid_auto_columns": null,
      "grid_auto_flow": null,
      "grid_auto_rows": null,
      "grid_column": null,
      "grid_gap": null,
      "grid_row": null,
      "grid_template_areas": null,
      "grid_template_columns": null,
      "grid_template_rows": null,
      "height": null,
      "justify_content": null,
      "justify_items": null,
      "left": null,
      "margin": null,
      "max_height": null,
      "max_width": null,
      "min_height": null,
      "min_width": null,
      "object_fit": null,
      "object_position": null,
      "order": null,
      "overflow": null,
      "overflow_x": null,
      "overflow_y": null,
      "padding": null,
      "right": null,
      "top": null,
      "visibility": null,
      "width": null
     }
    },
    "f85e1ad333874cfb8a5224829987f0ab": {
     "model_module": "@jupyter-widgets/controls",
     "model_module_version": "1.5.0",
     "model_name": "DescriptionStyleModel",
     "state": {
      "_model_module": "@jupyter-widgets/controls",
      "_model_module_version": "1.5.0",
      "_model_name": "DescriptionStyleModel",
      "_view_count": null,
      "_view_module": "@jupyter-widgets/base",
      "_view_module_version": "1.2.0",
      "_view_name": "StyleView",
      "description_width": ""
     }
    },
    "fc26e7a39c6146069920e608936806c4": {
     "model_module": "@jupyter-widgets/controls",
     "model_module_version": "1.5.0",
     "model_name": "ProgressStyleModel",
     "state": {
      "_model_module": "@jupyter-widgets/controls",
      "_model_module_version": "1.5.0",
      "_model_name": "ProgressStyleModel",
      "_view_count": null,
      "_view_module": "@jupyter-widgets/base",
      "_view_module_version": "1.2.0",
      "_view_name": "StyleView",
      "bar_color": null,
      "description_width": ""
     }
    },
    "fdb28aec230e42b8ae343df80d0293e1": {
     "model_module": "@jupyter-widgets/base",
     "model_module_version": "1.2.0",
     "model_name": "LayoutModel",
     "state": {
      "_model_module": "@jupyter-widgets/base",
      "_model_module_version": "1.2.0",
      "_model_name": "LayoutModel",
      "_view_count": null,
      "_view_module": "@jupyter-widgets/base",
      "_view_module_version": "1.2.0",
      "_view_name": "LayoutView",
      "align_content": null,
      "align_items": null,
      "align_self": null,
      "border": null,
      "bottom": null,
      "display": null,
      "flex": null,
      "flex_flow": null,
      "grid_area": null,
      "grid_auto_columns": null,
      "grid_auto_flow": null,
      "grid_auto_rows": null,
      "grid_column": null,
      "grid_gap": null,
      "grid_row": null,
      "grid_template_areas": null,
      "grid_template_columns": null,
      "grid_template_rows": null,
      "height": null,
      "justify_content": null,
      "justify_items": null,
      "left": null,
      "margin": null,
      "max_height": null,
      "max_width": null,
      "min_height": null,
      "min_width": null,
      "object_fit": null,
      "object_position": null,
      "order": null,
      "overflow": null,
      "overflow_x": null,
      "overflow_y": null,
      "padding": null,
      "right": null,
      "top": null,
      "visibility": null,
      "width": "20px"
     }
    },
    "ff397bf9b7b648eb843f6919fbd93d06": {
     "model_module": "@jupyter-widgets/controls",
     "model_module_version": "1.5.0",
     "model_name": "DescriptionStyleModel",
     "state": {
      "_model_module": "@jupyter-widgets/controls",
      "_model_module_version": "1.5.0",
      "_model_name": "DescriptionStyleModel",
      "_view_count": null,
      "_view_module": "@jupyter-widgets/base",
      "_view_module_version": "1.2.0",
      "_view_name": "StyleView",
      "description_width": ""
     }
    }
   }
  }
 },
 "nbformat": 4,
 "nbformat_minor": 0
}
